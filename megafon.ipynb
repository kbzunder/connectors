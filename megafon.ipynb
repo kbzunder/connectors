{
 "cells": [
  {
   "cell_type": "code",
   "execution_count": 1,
   "metadata": {},
   "outputs": [],
   "source": [
    "import pandas as pd\n",
    "import re\n",
    "import datetime\n",
    "from datetime import datetime\n",
    "import pandasql\n",
    "from pandasql import sqldf\n",
    "import duckdb\n",
    "import plotly.express as px\n",
    "import pandoc"
   ]
  },
  {
   "cell_type": "code",
   "execution_count": 3,
   "metadata": {},
   "outputs": [],
   "source": [
    "visits = pd.read_csv('/Users/jullia/Downloads/Задания тендер/MFPlus_visits.csv',sep=';')"
   ]
  },
  {
   "cell_type": "code",
   "execution_count": 4,
   "metadata": {},
   "outputs": [
    {
     "data": {
      "text/html": [
       "<div>\n",
       "<style scoped>\n",
       "    .dataframe tbody tr th:only-of-type {\n",
       "        vertical-align: middle;\n",
       "    }\n",
       "\n",
       "    .dataframe tbody tr th {\n",
       "        vertical-align: top;\n",
       "    }\n",
       "\n",
       "    .dataframe thead th {\n",
       "        text-align: right;\n",
       "    }\n",
       "</style>\n",
       "<table border=\"1\" class=\"dataframe\">\n",
       "  <thead>\n",
       "    <tr style=\"text-align: right;\">\n",
       "      <th></th>\n",
       "      <th>ym:s:dateTime</th>\n",
       "      <th>ym:s:visitID</th>\n",
       "      <th>ym:s:clientID</th>\n",
       "      <th>ym:s:visitDuration</th>\n",
       "    </tr>\n",
       "  </thead>\n",
       "  <tbody>\n",
       "    <tr>\n",
       "      <th>0</th>\n",
       "      <td>2022-05-01 22:30:37</td>\n",
       "      <td>2305985862102679718</td>\n",
       "      <td>1648991419730583177</td>\n",
       "      <td>7</td>\n",
       "    </tr>\n",
       "    <tr>\n",
       "      <th>1</th>\n",
       "      <td>2022-04-28 22:31:57</td>\n",
       "      <td>2238059103780601873</td>\n",
       "      <td>1651082186327730631</td>\n",
       "      <td>7</td>\n",
       "    </tr>\n",
       "    <tr>\n",
       "      <th>2</th>\n",
       "      <td>2022-04-22 19:28:11</td>\n",
       "      <td>2099273109514748205</td>\n",
       "      <td>163851657390912688</td>\n",
       "      <td>0</td>\n",
       "    </tr>\n",
       "    <tr>\n",
       "      <th>3</th>\n",
       "      <td>2022-04-19 10:58:55</td>\n",
       "      <td>2023315303962509512</td>\n",
       "      <td>1650311540470343111</td>\n",
       "      <td>15</td>\n",
       "    </tr>\n",
       "    <tr>\n",
       "      <th>4</th>\n",
       "      <td>2022-05-09 04:31:18</td>\n",
       "      <td>2470203429493932112</td>\n",
       "      <td>1651822039339341135</td>\n",
       "      <td>0</td>\n",
       "    </tr>\n",
       "  </tbody>\n",
       "</table>\n",
       "</div>"
      ],
      "text/plain": [
       "         ym:s:dateTime         ym:s:visitID        ym:s:clientID  \\\n",
       "0  2022-05-01 22:30:37  2305985862102679718  1648991419730583177   \n",
       "1  2022-04-28 22:31:57  2238059103780601873  1651082186327730631   \n",
       "2  2022-04-22 19:28:11  2099273109514748205   163851657390912688   \n",
       "3  2022-04-19 10:58:55  2023315303962509512  1650311540470343111   \n",
       "4  2022-05-09 04:31:18  2470203429493932112  1651822039339341135   \n",
       "\n",
       "   ym:s:visitDuration  \n",
       "0                   7  \n",
       "1                   7  \n",
       "2                   0  \n",
       "3                  15  \n",
       "4                   0  "
      ]
     },
     "execution_count": 4,
     "metadata": {},
     "output_type": "execute_result"
    }
   ],
   "source": [
    "visits.head()"
   ]
  },
  {
   "cell_type": "code",
   "execution_count": 5,
   "metadata": {},
   "outputs": [
    {
     "name": "stdout",
     "output_type": "stream",
     "text": [
      "<class 'pandas.core.frame.DataFrame'>\n",
      "RangeIndex: 126131 entries, 0 to 126130\n",
      "Data columns (total 4 columns):\n",
      " #   Column              Non-Null Count   Dtype \n",
      "---  ------              --------------   ----- \n",
      " 0   ym:s:dateTime       126131 non-null  object\n",
      " 1   ym:s:visitID        126131 non-null  int64 \n",
      " 2   ym:s:clientID       126131 non-null  uint64\n",
      " 3   ym:s:visitDuration  126131 non-null  int64 \n",
      "dtypes: int64(2), object(1), uint64(1)\n",
      "memory usage: 3.8+ MB\n"
     ]
    }
   ],
   "source": [
    "visits.info()"
   ]
  },
  {
   "cell_type": "code",
   "execution_count": 6,
   "metadata": {},
   "outputs": [],
   "source": [
    "#renaming columns\n",
    "visit_cols = ['date','visit_id','client_id','visit_duration']"
   ]
  },
  {
   "cell_type": "code",
   "execution_count": 7,
   "metadata": {},
   "outputs": [],
   "source": [
    "visits.columns = visit_cols"
   ]
  },
  {
   "cell_type": "code",
   "execution_count": 8,
   "metadata": {},
   "outputs": [
    {
     "data": {
      "text/html": [
       "<div>\n",
       "<style scoped>\n",
       "    .dataframe tbody tr th:only-of-type {\n",
       "        vertical-align: middle;\n",
       "    }\n",
       "\n",
       "    .dataframe tbody tr th {\n",
       "        vertical-align: top;\n",
       "    }\n",
       "\n",
       "    .dataframe thead th {\n",
       "        text-align: right;\n",
       "    }\n",
       "</style>\n",
       "<table border=\"1\" class=\"dataframe\">\n",
       "  <thead>\n",
       "    <tr style=\"text-align: right;\">\n",
       "      <th></th>\n",
       "      <th>date</th>\n",
       "      <th>visit_id</th>\n",
       "      <th>client_id</th>\n",
       "      <th>visit_duration</th>\n",
       "    </tr>\n",
       "  </thead>\n",
       "  <tbody>\n",
       "    <tr>\n",
       "      <th>0</th>\n",
       "      <td>2022-05-01 22:30:37</td>\n",
       "      <td>2305985862102679718</td>\n",
       "      <td>1648991419730583177</td>\n",
       "      <td>7</td>\n",
       "    </tr>\n",
       "    <tr>\n",
       "      <th>1</th>\n",
       "      <td>2022-04-28 22:31:57</td>\n",
       "      <td>2238059103780601873</td>\n",
       "      <td>1651082186327730631</td>\n",
       "      <td>7</td>\n",
       "    </tr>\n",
       "    <tr>\n",
       "      <th>2</th>\n",
       "      <td>2022-04-22 19:28:11</td>\n",
       "      <td>2099273109514748205</td>\n",
       "      <td>163851657390912688</td>\n",
       "      <td>0</td>\n",
       "    </tr>\n",
       "    <tr>\n",
       "      <th>3</th>\n",
       "      <td>2022-04-19 10:58:55</td>\n",
       "      <td>2023315303962509512</td>\n",
       "      <td>1650311540470343111</td>\n",
       "      <td>15</td>\n",
       "    </tr>\n",
       "    <tr>\n",
       "      <th>4</th>\n",
       "      <td>2022-05-09 04:31:18</td>\n",
       "      <td>2470203429493932112</td>\n",
       "      <td>1651822039339341135</td>\n",
       "      <td>0</td>\n",
       "    </tr>\n",
       "  </tbody>\n",
       "</table>\n",
       "</div>"
      ],
      "text/plain": [
       "                  date             visit_id            client_id  \\\n",
       "0  2022-05-01 22:30:37  2305985862102679718  1648991419730583177   \n",
       "1  2022-04-28 22:31:57  2238059103780601873  1651082186327730631   \n",
       "2  2022-04-22 19:28:11  2099273109514748205   163851657390912688   \n",
       "3  2022-04-19 10:58:55  2023315303962509512  1650311540470343111   \n",
       "4  2022-05-09 04:31:18  2470203429493932112  1651822039339341135   \n",
       "\n",
       "   visit_duration  \n",
       "0               7  \n",
       "1               7  \n",
       "2               0  \n",
       "3              15  \n",
       "4               0  "
      ]
     },
     "execution_count": 8,
     "metadata": {},
     "output_type": "execute_result"
    }
   ],
   "source": [
    "visits.head()"
   ]
  },
  {
   "cell_type": "code",
   "execution_count": 9,
   "metadata": {},
   "outputs": [],
   "source": [
    "# определяем начало сессии, приводим к формату даты-времени\n",
    "visits['visit_start'] = pd.to_datetime(visits['date'])"
   ]
  },
  {
   "cell_type": "code",
   "execution_count": 10,
   "metadata": {},
   "outputs": [],
   "source": [
    "hits = pd.read_csv('/Users/jullia/Downloads/Задания тендер/MFPlus_hits.csv', sep=';')\n"
   ]
  },
  {
   "cell_type": "code",
   "execution_count": 11,
   "metadata": {},
   "outputs": [
    {
     "data": {
      "text/html": [
       "<div>\n",
       "<style scoped>\n",
       "    .dataframe tbody tr th:only-of-type {\n",
       "        vertical-align: middle;\n",
       "    }\n",
       "\n",
       "    .dataframe tbody tr th {\n",
       "        vertical-align: top;\n",
       "    }\n",
       "\n",
       "    .dataframe thead th {\n",
       "        text-align: right;\n",
       "    }\n",
       "</style>\n",
       "<table border=\"1\" class=\"dataframe\">\n",
       "  <thead>\n",
       "    <tr style=\"text-align: right;\">\n",
       "      <th></th>\n",
       "      <th>ym:pv:dateTime</th>\n",
       "      <th>ym:pv:watchID</th>\n",
       "      <th>ym:pv:clientID</th>\n",
       "      <th>ym:pv:URL</th>\n",
       "      <th>ym:pv:parsedParamsKey2</th>\n",
       "      <th>ym:pv:parsedParamsKey3</th>\n",
       "      <th>ym:pv:parsedParamsKey4</th>\n",
       "      <th>ym:pv:parsedParamsKey5</th>\n",
       "    </tr>\n",
       "  </thead>\n",
       "  <tbody>\n",
       "    <tr>\n",
       "      <th>0</th>\n",
       "      <td>2022-05-15 22:51:06</td>\n",
       "      <td>2623397282019803354</td>\n",
       "      <td>16138276891048456082</td>\n",
       "      <td>https://plus.megafon.ru/</td>\n",
       "      <td>[]</td>\n",
       "      <td>[]</td>\n",
       "      <td>[]</td>\n",
       "      <td>[]</td>\n",
       "    </tr>\n",
       "    <tr>\n",
       "      <th>1</th>\n",
       "      <td>2022-05-15 22:51:12</td>\n",
       "      <td>2623398959716761898</td>\n",
       "      <td>16138276891048456082</td>\n",
       "      <td>https://plus.megafon.ru/</td>\n",
       "      <td>['plus-web [prod] / NAVIGATIONS']</td>\n",
       "      <td>['useNavigations / [МФ+] / Scroll / ']</td>\n",
       "      <td>['20']</td>\n",
       "      <td>['d-v429-e1']</td>\n",
       "    </tr>\n",
       "    <tr>\n",
       "      <th>2</th>\n",
       "      <td>2022-05-15 22:51:12</td>\n",
       "      <td>2623398977377402942</td>\n",
       "      <td>16138276891048456082</td>\n",
       "      <td>goal://plus.megafon.ru/MegafonPlusScroll_20</td>\n",
       "      <td>[]</td>\n",
       "      <td>[]</td>\n",
       "      <td>[]</td>\n",
       "      <td>[]</td>\n",
       "    </tr>\n",
       "    <tr>\n",
       "      <th>3</th>\n",
       "      <td>2022-05-15 22:51:20</td>\n",
       "      <td>2623400872067203452</td>\n",
       "      <td>16138276891048456082</td>\n",
       "      <td>https://plus.megafon.ru/</td>\n",
       "      <td>['plus-web [prod] / NAVIGATIONS']</td>\n",
       "      <td>['useNavigations / [МФ+] / Scroll / ']</td>\n",
       "      <td>['40']</td>\n",
       "      <td>['d-v429-e1']</td>\n",
       "    </tr>\n",
       "    <tr>\n",
       "      <th>4</th>\n",
       "      <td>2022-05-15 22:51:20</td>\n",
       "      <td>2623400887705403727</td>\n",
       "      <td>16138276891048456082</td>\n",
       "      <td>goal://plus.megafon.ru/MegafonPlusScroll_40</td>\n",
       "      <td>[]</td>\n",
       "      <td>[]</td>\n",
       "      <td>[]</td>\n",
       "      <td>[]</td>\n",
       "    </tr>\n",
       "  </tbody>\n",
       "</table>\n",
       "</div>"
      ],
      "text/plain": [
       "        ym:pv:dateTime        ym:pv:watchID        ym:pv:clientID  \\\n",
       "0  2022-05-15 22:51:06  2623397282019803354  16138276891048456082   \n",
       "1  2022-05-15 22:51:12  2623398959716761898  16138276891048456082   \n",
       "2  2022-05-15 22:51:12  2623398977377402942  16138276891048456082   \n",
       "3  2022-05-15 22:51:20  2623400872067203452  16138276891048456082   \n",
       "4  2022-05-15 22:51:20  2623400887705403727  16138276891048456082   \n",
       "\n",
       "                                     ym:pv:URL  \\\n",
       "0                     https://plus.megafon.ru/   \n",
       "1                     https://plus.megafon.ru/   \n",
       "2  goal://plus.megafon.ru/MegafonPlusScroll_20   \n",
       "3                     https://plus.megafon.ru/   \n",
       "4  goal://plus.megafon.ru/MegafonPlusScroll_40   \n",
       "\n",
       "              ym:pv:parsedParamsKey2                  ym:pv:parsedParamsKey3  \\\n",
       "0                                 []                                      []   \n",
       "1  ['plus-web [prod] / NAVIGATIONS']  ['useNavigations / [МФ+] / Scroll / ']   \n",
       "2                                 []                                      []   \n",
       "3  ['plus-web [prod] / NAVIGATIONS']  ['useNavigations / [МФ+] / Scroll / ']   \n",
       "4                                 []                                      []   \n",
       "\n",
       "  ym:pv:parsedParamsKey4 ym:pv:parsedParamsKey5  \n",
       "0                     []                     []  \n",
       "1                 ['20']          ['d-v429-e1']  \n",
       "2                     []                     []  \n",
       "3                 ['40']          ['d-v429-e1']  \n",
       "4                     []                     []  "
      ]
     },
     "execution_count": 11,
     "metadata": {},
     "output_type": "execute_result"
    }
   ],
   "source": [
    "hits.head()"
   ]
  },
  {
   "cell_type": "code",
   "execution_count": 12,
   "metadata": {},
   "outputs": [],
   "source": [
    "# переименовываем столбцы\n",
    "hits_columns = ['date','watch_id','client_id','url','ParamsKey2','ParamsKey3','ParamsKey4','ParamsKey5']"
   ]
  },
  {
   "cell_type": "code",
   "execution_count": 13,
   "metadata": {},
   "outputs": [],
   "source": [
    "hits.columns = hits_columns"
   ]
  },
  {
   "cell_type": "code",
   "execution_count": 14,
   "metadata": {},
   "outputs": [
    {
     "data": {
      "text/html": [
       "<div>\n",
       "<style scoped>\n",
       "    .dataframe tbody tr th:only-of-type {\n",
       "        vertical-align: middle;\n",
       "    }\n",
       "\n",
       "    .dataframe tbody tr th {\n",
       "        vertical-align: top;\n",
       "    }\n",
       "\n",
       "    .dataframe thead th {\n",
       "        text-align: right;\n",
       "    }\n",
       "</style>\n",
       "<table border=\"1\" class=\"dataframe\">\n",
       "  <thead>\n",
       "    <tr style=\"text-align: right;\">\n",
       "      <th></th>\n",
       "      <th>date</th>\n",
       "      <th>watch_id</th>\n",
       "      <th>client_id</th>\n",
       "      <th>url</th>\n",
       "      <th>ParamsKey2</th>\n",
       "      <th>ParamsKey3</th>\n",
       "      <th>ParamsKey4</th>\n",
       "      <th>ParamsKey5</th>\n",
       "    </tr>\n",
       "  </thead>\n",
       "  <tbody>\n",
       "    <tr>\n",
       "      <th>0</th>\n",
       "      <td>2022-05-15 22:51:06</td>\n",
       "      <td>2623397282019803354</td>\n",
       "      <td>16138276891048456082</td>\n",
       "      <td>https://plus.megafon.ru/</td>\n",
       "      <td>[]</td>\n",
       "      <td>[]</td>\n",
       "      <td>[]</td>\n",
       "      <td>[]</td>\n",
       "    </tr>\n",
       "    <tr>\n",
       "      <th>1</th>\n",
       "      <td>2022-05-15 22:51:12</td>\n",
       "      <td>2623398959716761898</td>\n",
       "      <td>16138276891048456082</td>\n",
       "      <td>https://plus.megafon.ru/</td>\n",
       "      <td>['plus-web [prod] / NAVIGATIONS']</td>\n",
       "      <td>['useNavigations / [МФ+] / Scroll / ']</td>\n",
       "      <td>['20']</td>\n",
       "      <td>['d-v429-e1']</td>\n",
       "    </tr>\n",
       "    <tr>\n",
       "      <th>2</th>\n",
       "      <td>2022-05-15 22:51:12</td>\n",
       "      <td>2623398977377402942</td>\n",
       "      <td>16138276891048456082</td>\n",
       "      <td>goal://plus.megafon.ru/MegafonPlusScroll_20</td>\n",
       "      <td>[]</td>\n",
       "      <td>[]</td>\n",
       "      <td>[]</td>\n",
       "      <td>[]</td>\n",
       "    </tr>\n",
       "    <tr>\n",
       "      <th>3</th>\n",
       "      <td>2022-05-15 22:51:20</td>\n",
       "      <td>2623400872067203452</td>\n",
       "      <td>16138276891048456082</td>\n",
       "      <td>https://plus.megafon.ru/</td>\n",
       "      <td>['plus-web [prod] / NAVIGATIONS']</td>\n",
       "      <td>['useNavigations / [МФ+] / Scroll / ']</td>\n",
       "      <td>['40']</td>\n",
       "      <td>['d-v429-e1']</td>\n",
       "    </tr>\n",
       "    <tr>\n",
       "      <th>4</th>\n",
       "      <td>2022-05-15 22:51:20</td>\n",
       "      <td>2623400887705403727</td>\n",
       "      <td>16138276891048456082</td>\n",
       "      <td>goal://plus.megafon.ru/MegafonPlusScroll_40</td>\n",
       "      <td>[]</td>\n",
       "      <td>[]</td>\n",
       "      <td>[]</td>\n",
       "      <td>[]</td>\n",
       "    </tr>\n",
       "  </tbody>\n",
       "</table>\n",
       "</div>"
      ],
      "text/plain": [
       "                  date             watch_id             client_id  \\\n",
       "0  2022-05-15 22:51:06  2623397282019803354  16138276891048456082   \n",
       "1  2022-05-15 22:51:12  2623398959716761898  16138276891048456082   \n",
       "2  2022-05-15 22:51:12  2623398977377402942  16138276891048456082   \n",
       "3  2022-05-15 22:51:20  2623400872067203452  16138276891048456082   \n",
       "4  2022-05-15 22:51:20  2623400887705403727  16138276891048456082   \n",
       "\n",
       "                                           url  \\\n",
       "0                     https://plus.megafon.ru/   \n",
       "1                     https://plus.megafon.ru/   \n",
       "2  goal://plus.megafon.ru/MegafonPlusScroll_20   \n",
       "3                     https://plus.megafon.ru/   \n",
       "4  goal://plus.megafon.ru/MegafonPlusScroll_40   \n",
       "\n",
       "                          ParamsKey2                              ParamsKey3  \\\n",
       "0                                 []                                      []   \n",
       "1  ['plus-web [prod] / NAVIGATIONS']  ['useNavigations / [МФ+] / Scroll / ']   \n",
       "2                                 []                                      []   \n",
       "3  ['plus-web [prod] / NAVIGATIONS']  ['useNavigations / [МФ+] / Scroll / ']   \n",
       "4                                 []                                      []   \n",
       "\n",
       "  ParamsKey4     ParamsKey5  \n",
       "0         []             []  \n",
       "1     ['20']  ['d-v429-e1']  \n",
       "2         []             []  \n",
       "3     ['40']  ['d-v429-e1']  \n",
       "4         []             []  "
      ]
     },
     "execution_count": 14,
     "metadata": {},
     "output_type": "execute_result"
    }
   ],
   "source": [
    "hits.head(5)"
   ]
  },
  {
   "cell_type": "code",
   "execution_count": 15,
   "metadata": {},
   "outputs": [],
   "source": [
    "#добавляем время хита в формате даты-времени\n",
    "hits['hit_time'] = pd.to_datetime(hits['date'])"
   ]
  },
  {
   "cell_type": "code",
   "execution_count": 16,
   "metadata": {},
   "outputs": [],
   "source": [
    "hits['watch_id'] = hits['watch_id'].astype('str')"
   ]
  },
  {
   "cell_type": "code",
   "execution_count": 17,
   "metadata": {},
   "outputs": [],
   "source": [
    "# определяем окончание сессии\n",
    "visits['visit_end'] = visits['visit_start'] + pd.to_timedelta(visits['visit_duration'], unit='m')"
   ]
  },
  {
   "cell_type": "code",
   "execution_count": 18,
   "metadata": {},
   "outputs": [
    {
     "data": {
      "text/html": [
       "<div>\n",
       "<style scoped>\n",
       "    .dataframe tbody tr th:only-of-type {\n",
       "        vertical-align: middle;\n",
       "    }\n",
       "\n",
       "    .dataframe tbody tr th {\n",
       "        vertical-align: top;\n",
       "    }\n",
       "\n",
       "    .dataframe thead th {\n",
       "        text-align: right;\n",
       "    }\n",
       "</style>\n",
       "<table border=\"1\" class=\"dataframe\">\n",
       "  <thead>\n",
       "    <tr style=\"text-align: right;\">\n",
       "      <th></th>\n",
       "      <th>date</th>\n",
       "      <th>visit_id</th>\n",
       "      <th>client_id</th>\n",
       "      <th>visit_duration</th>\n",
       "      <th>visit_start</th>\n",
       "      <th>visit_end</th>\n",
       "    </tr>\n",
       "  </thead>\n",
       "  <tbody>\n",
       "    <tr>\n",
       "      <th>0</th>\n",
       "      <td>2022-05-01 22:30:37</td>\n",
       "      <td>2305985862102679718</td>\n",
       "      <td>1648991419730583177</td>\n",
       "      <td>7</td>\n",
       "      <td>2022-05-01 22:30:37</td>\n",
       "      <td>2022-05-01 22:37:37</td>\n",
       "    </tr>\n",
       "    <tr>\n",
       "      <th>1</th>\n",
       "      <td>2022-04-28 22:31:57</td>\n",
       "      <td>2238059103780601873</td>\n",
       "      <td>1651082186327730631</td>\n",
       "      <td>7</td>\n",
       "      <td>2022-04-28 22:31:57</td>\n",
       "      <td>2022-04-28 22:38:57</td>\n",
       "    </tr>\n",
       "    <tr>\n",
       "      <th>2</th>\n",
       "      <td>2022-04-22 19:28:11</td>\n",
       "      <td>2099273109514748205</td>\n",
       "      <td>163851657390912688</td>\n",
       "      <td>0</td>\n",
       "      <td>2022-04-22 19:28:11</td>\n",
       "      <td>2022-04-22 19:28:11</td>\n",
       "    </tr>\n",
       "    <tr>\n",
       "      <th>3</th>\n",
       "      <td>2022-04-19 10:58:55</td>\n",
       "      <td>2023315303962509512</td>\n",
       "      <td>1650311540470343111</td>\n",
       "      <td>15</td>\n",
       "      <td>2022-04-19 10:58:55</td>\n",
       "      <td>2022-04-19 11:13:55</td>\n",
       "    </tr>\n",
       "    <tr>\n",
       "      <th>4</th>\n",
       "      <td>2022-05-09 04:31:18</td>\n",
       "      <td>2470203429493932112</td>\n",
       "      <td>1651822039339341135</td>\n",
       "      <td>0</td>\n",
       "      <td>2022-05-09 04:31:18</td>\n",
       "      <td>2022-05-09 04:31:18</td>\n",
       "    </tr>\n",
       "    <tr>\n",
       "      <th>...</th>\n",
       "      <td>...</td>\n",
       "      <td>...</td>\n",
       "      <td>...</td>\n",
       "      <td>...</td>\n",
       "      <td>...</td>\n",
       "      <td>...</td>\n",
       "    </tr>\n",
       "    <tr>\n",
       "      <th>126126</th>\n",
       "      <td>2022-05-08 08:55:01</td>\n",
       "      <td>2451702035276890223</td>\n",
       "      <td>1643485052686289873</td>\n",
       "      <td>9</td>\n",
       "      <td>2022-05-08 08:55:01</td>\n",
       "      <td>2022-05-08 09:04:01</td>\n",
       "    </tr>\n",
       "    <tr>\n",
       "      <th>126127</th>\n",
       "      <td>2022-05-12 17:50:52</td>\n",
       "      <td>2550727300977262630</td>\n",
       "      <td>1626677638121299271</td>\n",
       "      <td>15</td>\n",
       "      <td>2022-05-12 17:50:52</td>\n",
       "      <td>2022-05-12 18:05:52</td>\n",
       "    </tr>\n",
       "    <tr>\n",
       "      <th>126128</th>\n",
       "      <td>2022-05-07 19:40:26</td>\n",
       "      <td>2439204455185645824</td>\n",
       "      <td>1619204793497286942</td>\n",
       "      <td>25</td>\n",
       "      <td>2022-05-07 19:40:26</td>\n",
       "      <td>2022-05-07 20:05:26</td>\n",
       "    </tr>\n",
       "    <tr>\n",
       "      <th>126129</th>\n",
       "      <td>2022-05-17 06:39:19</td>\n",
       "      <td>2653410888589771079</td>\n",
       "      <td>1652758757191003836</td>\n",
       "      <td>49</td>\n",
       "      <td>2022-05-17 06:39:19</td>\n",
       "      <td>2022-05-17 07:28:19</td>\n",
       "    </tr>\n",
       "    <tr>\n",
       "      <th>126130</th>\n",
       "      <td>2022-05-11 11:08:45</td>\n",
       "      <td>2521753307715731674</td>\n",
       "      <td>1652014285507387565</td>\n",
       "      <td>15</td>\n",
       "      <td>2022-05-11 11:08:45</td>\n",
       "      <td>2022-05-11 11:23:45</td>\n",
       "    </tr>\n",
       "  </tbody>\n",
       "</table>\n",
       "<p>126131 rows × 6 columns</p>\n",
       "</div>"
      ],
      "text/plain": [
       "                       date             visit_id            client_id  \\\n",
       "0       2022-05-01 22:30:37  2305985862102679718  1648991419730583177   \n",
       "1       2022-04-28 22:31:57  2238059103780601873  1651082186327730631   \n",
       "2       2022-04-22 19:28:11  2099273109514748205   163851657390912688   \n",
       "3       2022-04-19 10:58:55  2023315303962509512  1650311540470343111   \n",
       "4       2022-05-09 04:31:18  2470203429493932112  1651822039339341135   \n",
       "...                     ...                  ...                  ...   \n",
       "126126  2022-05-08 08:55:01  2451702035276890223  1643485052686289873   \n",
       "126127  2022-05-12 17:50:52  2550727300977262630  1626677638121299271   \n",
       "126128  2022-05-07 19:40:26  2439204455185645824  1619204793497286942   \n",
       "126129  2022-05-17 06:39:19  2653410888589771079  1652758757191003836   \n",
       "126130  2022-05-11 11:08:45  2521753307715731674  1652014285507387565   \n",
       "\n",
       "        visit_duration         visit_start           visit_end  \n",
       "0                    7 2022-05-01 22:30:37 2022-05-01 22:37:37  \n",
       "1                    7 2022-04-28 22:31:57 2022-04-28 22:38:57  \n",
       "2                    0 2022-04-22 19:28:11 2022-04-22 19:28:11  \n",
       "3                   15 2022-04-19 10:58:55 2022-04-19 11:13:55  \n",
       "4                    0 2022-05-09 04:31:18 2022-05-09 04:31:18  \n",
       "...                ...                 ...                 ...  \n",
       "126126               9 2022-05-08 08:55:01 2022-05-08 09:04:01  \n",
       "126127              15 2022-05-12 17:50:52 2022-05-12 18:05:52  \n",
       "126128              25 2022-05-07 19:40:26 2022-05-07 20:05:26  \n",
       "126129              49 2022-05-17 06:39:19 2022-05-17 07:28:19  \n",
       "126130              15 2022-05-11 11:08:45 2022-05-11 11:23:45  \n",
       "\n",
       "[126131 rows x 6 columns]"
      ]
     },
     "execution_count": 18,
     "metadata": {},
     "output_type": "execute_result"
    }
   ],
   "source": [
    "visits"
   ]
  },
  {
   "cell_type": "code",
   "execution_count": 19,
   "metadata": {},
   "outputs": [],
   "source": [
    "#преобразуем шаги для удобства обработки\n",
    "def work_with_string(el):\n",
    "    return \"_\".join(re.sub(r'[\\[\\]\\/\\']',\"\",el).replace(\"  \",\" \").strip().split(\" \"))"
   ]
  },
  {
   "cell_type": "code",
   "execution_count": 20,
   "metadata": {},
   "outputs": [],
   "source": [
    "cols = ['ParamsKey2', 'ParamsKey3', 'ParamsKey4', 'ParamsKey5']"
   ]
  },
  {
   "cell_type": "code",
   "execution_count": 21,
   "metadata": {},
   "outputs": [],
   "source": [
    "for col  in cols:\n",
    "    hits[col] = hits[col].apply(lambda x: work_with_string(x))"
   ]
  },
  {
   "cell_type": "code",
   "execution_count": 22,
   "metadata": {},
   "outputs": [
    {
     "data": {
      "text/html": [
       "<div>\n",
       "<style scoped>\n",
       "    .dataframe tbody tr th:only-of-type {\n",
       "        vertical-align: middle;\n",
       "    }\n",
       "\n",
       "    .dataframe tbody tr th {\n",
       "        vertical-align: top;\n",
       "    }\n",
       "\n",
       "    .dataframe thead th {\n",
       "        text-align: right;\n",
       "    }\n",
       "</style>\n",
       "<table border=\"1\" class=\"dataframe\">\n",
       "  <thead>\n",
       "    <tr style=\"text-align: right;\">\n",
       "      <th></th>\n",
       "      <th>date</th>\n",
       "      <th>watch_id</th>\n",
       "      <th>client_id</th>\n",
       "      <th>url</th>\n",
       "      <th>ParamsKey2</th>\n",
       "      <th>ParamsKey3</th>\n",
       "      <th>ParamsKey4</th>\n",
       "      <th>ParamsKey5</th>\n",
       "      <th>hit_time</th>\n",
       "    </tr>\n",
       "  </thead>\n",
       "  <tbody>\n",
       "    <tr>\n",
       "      <th>0</th>\n",
       "      <td>2022-05-15 22:51:06</td>\n",
       "      <td>2623397282019803354</td>\n",
       "      <td>16138276891048456082</td>\n",
       "      <td>https://plus.megafon.ru/</td>\n",
       "      <td></td>\n",
       "      <td></td>\n",
       "      <td></td>\n",
       "      <td></td>\n",
       "      <td>2022-05-15 22:51:06</td>\n",
       "    </tr>\n",
       "    <tr>\n",
       "      <th>1</th>\n",
       "      <td>2022-05-15 22:51:12</td>\n",
       "      <td>2623398959716761898</td>\n",
       "      <td>16138276891048456082</td>\n",
       "      <td>https://plus.megafon.ru/</td>\n",
       "      <td>plus-web_prod_NAVIGATIONS</td>\n",
       "      <td>useNavigations_МФ+_Scroll</td>\n",
       "      <td>20</td>\n",
       "      <td>d-v429-e1</td>\n",
       "      <td>2022-05-15 22:51:12</td>\n",
       "    </tr>\n",
       "    <tr>\n",
       "      <th>2</th>\n",
       "      <td>2022-05-15 22:51:12</td>\n",
       "      <td>2623398977377402942</td>\n",
       "      <td>16138276891048456082</td>\n",
       "      <td>goal://plus.megafon.ru/MegafonPlusScroll_20</td>\n",
       "      <td></td>\n",
       "      <td></td>\n",
       "      <td></td>\n",
       "      <td></td>\n",
       "      <td>2022-05-15 22:51:12</td>\n",
       "    </tr>\n",
       "    <tr>\n",
       "      <th>3</th>\n",
       "      <td>2022-05-15 22:51:20</td>\n",
       "      <td>2623400872067203452</td>\n",
       "      <td>16138276891048456082</td>\n",
       "      <td>https://plus.megafon.ru/</td>\n",
       "      <td>plus-web_prod_NAVIGATIONS</td>\n",
       "      <td>useNavigations_МФ+_Scroll</td>\n",
       "      <td>40</td>\n",
       "      <td>d-v429-e1</td>\n",
       "      <td>2022-05-15 22:51:20</td>\n",
       "    </tr>\n",
       "    <tr>\n",
       "      <th>4</th>\n",
       "      <td>2022-05-15 22:51:20</td>\n",
       "      <td>2623400887705403727</td>\n",
       "      <td>16138276891048456082</td>\n",
       "      <td>goal://plus.megafon.ru/MegafonPlusScroll_40</td>\n",
       "      <td></td>\n",
       "      <td></td>\n",
       "      <td></td>\n",
       "      <td></td>\n",
       "      <td>2022-05-15 22:51:20</td>\n",
       "    </tr>\n",
       "  </tbody>\n",
       "</table>\n",
       "</div>"
      ],
      "text/plain": [
       "                  date             watch_id             client_id  \\\n",
       "0  2022-05-15 22:51:06  2623397282019803354  16138276891048456082   \n",
       "1  2022-05-15 22:51:12  2623398959716761898  16138276891048456082   \n",
       "2  2022-05-15 22:51:12  2623398977377402942  16138276891048456082   \n",
       "3  2022-05-15 22:51:20  2623400872067203452  16138276891048456082   \n",
       "4  2022-05-15 22:51:20  2623400887705403727  16138276891048456082   \n",
       "\n",
       "                                           url                 ParamsKey2  \\\n",
       "0                     https://plus.megafon.ru/                              \n",
       "1                     https://plus.megafon.ru/  plus-web_prod_NAVIGATIONS   \n",
       "2  goal://plus.megafon.ru/MegafonPlusScroll_20                              \n",
       "3                     https://plus.megafon.ru/  plus-web_prod_NAVIGATIONS   \n",
       "4  goal://plus.megafon.ru/MegafonPlusScroll_40                              \n",
       "\n",
       "                  ParamsKey3 ParamsKey4 ParamsKey5            hit_time  \n",
       "0                                                  2022-05-15 22:51:06  \n",
       "1  useNavigations_МФ+_Scroll         20  d-v429-e1 2022-05-15 22:51:12  \n",
       "2                                                  2022-05-15 22:51:12  \n",
       "3  useNavigations_МФ+_Scroll         40  d-v429-e1 2022-05-15 22:51:20  \n",
       "4                                                  2022-05-15 22:51:20  "
      ]
     },
     "execution_count": 22,
     "metadata": {},
     "output_type": "execute_result"
    }
   ],
   "source": [
    "hits.head()"
   ]
  },
  {
   "cell_type": "code",
   "execution_count": 23,
   "metadata": {},
   "outputs": [],
   "source": [
    "#импортируем словарь шагов\n",
    "steps = pd.read_csv('/Users/jullia/Downloads/Копия Описание параметров событий_МФ Плюс.xlsx - События воронки (1).csv', nrows=28)"
   ]
  },
  {
   "cell_type": "code",
   "execution_count": 24,
   "metadata": {},
   "outputs": [],
   "source": [
    "steps = steps.fillna(\"\")"
   ]
  },
  {
   "cell_type": "code",
   "execution_count": 25,
   "metadata": {},
   "outputs": [],
   "source": [
    "for col  in cols:\n",
    "    steps[col] = steps[col].apply(lambda x: work_with_string(x))"
   ]
  },
  {
   "cell_type": "code",
   "execution_count": 26,
   "metadata": {},
   "outputs": [],
   "source": [
    "steps = steps.rename(columns={'Шаги воронки':'step'})"
   ]
  },
  {
   "cell_type": "code",
   "execution_count": 27,
   "metadata": {},
   "outputs": [
    {
     "data": {
      "text/html": [
       "<div>\n",
       "<style scoped>\n",
       "    .dataframe tbody tr th:only-of-type {\n",
       "        vertical-align: middle;\n",
       "    }\n",
       "\n",
       "    .dataframe tbody tr th {\n",
       "        vertical-align: top;\n",
       "    }\n",
       "\n",
       "    .dataframe thead th {\n",
       "        text-align: right;\n",
       "    }\n",
       "</style>\n",
       "<table border=\"1\" class=\"dataframe\">\n",
       "  <thead>\n",
       "    <tr style=\"text-align: right;\">\n",
       "      <th></th>\n",
       "      <th>step</th>\n",
       "      <th>Описание событий</th>\n",
       "      <th>ParamsKey2</th>\n",
       "      <th>ParamsKey3</th>\n",
       "      <th>ParamsKey4</th>\n",
       "      <th>ParamsKey5</th>\n",
       "    </tr>\n",
       "  </thead>\n",
       "  <tbody>\n",
       "    <tr>\n",
       "      <th>23</th>\n",
       "      <td>6</td>\n",
       "      <td>Успешный ввод кода - авторизация в форме регис...</td>\n",
       "      <td>plus-web_prod_CONVERSIONS</td>\n",
       "      <td>conversionStep_МФ+_sendInput2</td>\n",
       "      <td>Продолжить_Введен_код_из_смс</td>\n",
       "      <td>d-v412-e18</td>\n",
       "    </tr>\n",
       "    <tr>\n",
       "      <th>24</th>\n",
       "      <td>6</td>\n",
       "      <td>Успешный ввод кода - авторизация в форме регис...</td>\n",
       "      <td>plus-web_prod_CONVERSIONS</td>\n",
       "      <td>conversionStepМФ+sendInput2</td>\n",
       "      <td>Продолжить_Введен_код_из_смс</td>\n",
       "      <td>d-v412-e18</td>\n",
       "    </tr>\n",
       "    <tr>\n",
       "      <th>25</th>\n",
       "      <td>7</td>\n",
       "      <td>Отключение подписки</td>\n",
       "      <td>plus-web_prod_CONVERSIONS</td>\n",
       "      <td>conversionStep_МФ+_submitTransaction</td>\n",
       "      <td>Абонент_Отключение_подписки_Готово</td>\n",
       "      <td>d-v412-e33</td>\n",
       "    </tr>\n",
       "    <tr>\n",
       "      <th>26</th>\n",
       "      <td>7</td>\n",
       "      <td>Отключение подписки</td>\n",
       "      <td>plus-web_prod_CONVERSIONS</td>\n",
       "      <td>conversionStep_МФ+_submitTransaction_auth</td>\n",
       "      <td>Абонент_Отключение_подписки_Готово</td>\n",
       "      <td>d-v412-e33</td>\n",
       "    </tr>\n",
       "    <tr>\n",
       "      <th>27</th>\n",
       "      <td>7</td>\n",
       "      <td>Отключение подписки</td>\n",
       "      <td>plus-web_prod_CONVERSIONS</td>\n",
       "      <td>conversionStep_МФ+_submitTransaction</td>\n",
       "      <td>Абонент_Отключение_подписки_Готово</td>\n",
       "      <td>d-v412-e33</td>\n",
       "    </tr>\n",
       "  </tbody>\n",
       "</table>\n",
       "</div>"
      ],
      "text/plain": [
       "    step                                   Описание событий  \\\n",
       "23     6  Успешный ввод кода - авторизация в форме регис...   \n",
       "24     6  Успешный ввод кода - авторизация в форме регис...   \n",
       "25     7                                Отключение подписки   \n",
       "26     7                                Отключение подписки   \n",
       "27     7                                Отключение подписки   \n",
       "\n",
       "                   ParamsKey2                                 ParamsKey3  \\\n",
       "23  plus-web_prod_CONVERSIONS              conversionStep_МФ+_sendInput2   \n",
       "24  plus-web_prod_CONVERSIONS                conversionStepМФ+sendInput2   \n",
       "25  plus-web_prod_CONVERSIONS       conversionStep_МФ+_submitTransaction   \n",
       "26  plus-web_prod_CONVERSIONS  conversionStep_МФ+_submitTransaction_auth   \n",
       "27  plus-web_prod_CONVERSIONS       conversionStep_МФ+_submitTransaction   \n",
       "\n",
       "                            ParamsKey4  ParamsKey5  \n",
       "23        Продолжить_Введен_код_из_смс  d-v412-e18  \n",
       "24        Продолжить_Введен_код_из_смс  d-v412-e18  \n",
       "25  Абонент_Отключение_подписки_Готово  d-v412-e33  \n",
       "26  Абонент_Отключение_подписки_Готово  d-v412-e33  \n",
       "27  Абонент_Отключение_подписки_Готово  d-v412-e33  "
      ]
     },
     "execution_count": 27,
     "metadata": {},
     "output_type": "execute_result"
    }
   ],
   "source": [
    "steps.tail()"
   ]
  },
  {
   "cell_type": "code",
   "execution_count": 28,
   "metadata": {},
   "outputs": [],
   "source": [
    "#объединяем шаги с хитами, каждому хиту ставим во соответствие шег\n",
    "hits_with_steps = hits.merge(steps,how='left', on=['ParamsKey2','ParamsKey3','ParamsKey4','ParamsKey5'] )"
   ]
  },
  {
   "cell_type": "code",
   "execution_count": 29,
   "metadata": {},
   "outputs": [],
   "source": [
    "\n",
    "hits_with_steps = hits_with_steps.drop('Описание событий',axis=1)\n"
   ]
  },
  {
   "cell_type": "code",
   "execution_count": 30,
   "metadata": {},
   "outputs": [
    {
     "data": {
      "text/html": [
       "<div>\n",
       "<style scoped>\n",
       "    .dataframe tbody tr th:only-of-type {\n",
       "        vertical-align: middle;\n",
       "    }\n",
       "\n",
       "    .dataframe tbody tr th {\n",
       "        vertical-align: top;\n",
       "    }\n",
       "\n",
       "    .dataframe thead th {\n",
       "        text-align: right;\n",
       "    }\n",
       "</style>\n",
       "<table border=\"1\" class=\"dataframe\">\n",
       "  <thead>\n",
       "    <tr style=\"text-align: right;\">\n",
       "      <th></th>\n",
       "      <th>date</th>\n",
       "      <th>watch_id</th>\n",
       "      <th>client_id</th>\n",
       "      <th>url</th>\n",
       "      <th>ParamsKey2</th>\n",
       "      <th>ParamsKey3</th>\n",
       "      <th>ParamsKey4</th>\n",
       "      <th>ParamsKey5</th>\n",
       "      <th>hit_time</th>\n",
       "      <th>step</th>\n",
       "    </tr>\n",
       "  </thead>\n",
       "  <tbody>\n",
       "    <tr>\n",
       "      <th>0</th>\n",
       "      <td>2022-05-15 22:51:06</td>\n",
       "      <td>2623397282019803354</td>\n",
       "      <td>16138276891048456082</td>\n",
       "      <td>https://plus.megafon.ru/</td>\n",
       "      <td></td>\n",
       "      <td></td>\n",
       "      <td></td>\n",
       "      <td></td>\n",
       "      <td>2022-05-15 22:51:06</td>\n",
       "      <td>NaN</td>\n",
       "    </tr>\n",
       "    <tr>\n",
       "      <th>1</th>\n",
       "      <td>2022-05-15 22:51:12</td>\n",
       "      <td>2623398959716761898</td>\n",
       "      <td>16138276891048456082</td>\n",
       "      <td>https://plus.megafon.ru/</td>\n",
       "      <td>plus-web_prod_NAVIGATIONS</td>\n",
       "      <td>useNavigations_МФ+_Scroll</td>\n",
       "      <td>20</td>\n",
       "      <td>d-v429-e1</td>\n",
       "      <td>2022-05-15 22:51:12</td>\n",
       "      <td>NaN</td>\n",
       "    </tr>\n",
       "    <tr>\n",
       "      <th>2</th>\n",
       "      <td>2022-05-15 22:51:12</td>\n",
       "      <td>2623398977377402942</td>\n",
       "      <td>16138276891048456082</td>\n",
       "      <td>goal://plus.megafon.ru/MegafonPlusScroll_20</td>\n",
       "      <td></td>\n",
       "      <td></td>\n",
       "      <td></td>\n",
       "      <td></td>\n",
       "      <td>2022-05-15 22:51:12</td>\n",
       "      <td>NaN</td>\n",
       "    </tr>\n",
       "    <tr>\n",
       "      <th>3</th>\n",
       "      <td>2022-05-15 22:51:20</td>\n",
       "      <td>2623400872067203452</td>\n",
       "      <td>16138276891048456082</td>\n",
       "      <td>https://plus.megafon.ru/</td>\n",
       "      <td>plus-web_prod_NAVIGATIONS</td>\n",
       "      <td>useNavigations_МФ+_Scroll</td>\n",
       "      <td>40</td>\n",
       "      <td>d-v429-e1</td>\n",
       "      <td>2022-05-15 22:51:20</td>\n",
       "      <td>NaN</td>\n",
       "    </tr>\n",
       "    <tr>\n",
       "      <th>4</th>\n",
       "      <td>2022-05-15 22:51:20</td>\n",
       "      <td>2623400887705403727</td>\n",
       "      <td>16138276891048456082</td>\n",
       "      <td>goal://plus.megafon.ru/MegafonPlusScroll_40</td>\n",
       "      <td></td>\n",
       "      <td></td>\n",
       "      <td></td>\n",
       "      <td></td>\n",
       "      <td>2022-05-15 22:51:20</td>\n",
       "      <td>NaN</td>\n",
       "    </tr>\n",
       "  </tbody>\n",
       "</table>\n",
       "</div>"
      ],
      "text/plain": [
       "                  date             watch_id             client_id  \\\n",
       "0  2022-05-15 22:51:06  2623397282019803354  16138276891048456082   \n",
       "1  2022-05-15 22:51:12  2623398959716761898  16138276891048456082   \n",
       "2  2022-05-15 22:51:12  2623398977377402942  16138276891048456082   \n",
       "3  2022-05-15 22:51:20  2623400872067203452  16138276891048456082   \n",
       "4  2022-05-15 22:51:20  2623400887705403727  16138276891048456082   \n",
       "\n",
       "                                           url                 ParamsKey2  \\\n",
       "0                     https://plus.megafon.ru/                              \n",
       "1                     https://plus.megafon.ru/  plus-web_prod_NAVIGATIONS   \n",
       "2  goal://plus.megafon.ru/MegafonPlusScroll_20                              \n",
       "3                     https://plus.megafon.ru/  plus-web_prod_NAVIGATIONS   \n",
       "4  goal://plus.megafon.ru/MegafonPlusScroll_40                              \n",
       "\n",
       "                  ParamsKey3 ParamsKey4 ParamsKey5            hit_time  step  \n",
       "0                                                  2022-05-15 22:51:06   NaN  \n",
       "1  useNavigations_МФ+_Scroll         20  d-v429-e1 2022-05-15 22:51:12   NaN  \n",
       "2                                                  2022-05-15 22:51:12   NaN  \n",
       "3  useNavigations_МФ+_Scroll         40  d-v429-e1 2022-05-15 22:51:20   NaN  \n",
       "4                                                  2022-05-15 22:51:20   NaN  "
      ]
     },
     "execution_count": 30,
     "metadata": {},
     "output_type": "execute_result"
    }
   ],
   "source": [
    "hits_with_steps.head()"
   ]
  },
  {
   "cell_type": "code",
   "execution_count": 31,
   "metadata": {},
   "outputs": [],
   "source": [
    "#считаем количество посещений 1 странцицы\n",
    "first_page = hits_with_steps.query('url==\"https://plus.megafon.ru/\"')['client_id'].count()"
   ]
  },
  {
   "cell_type": "code",
   "execution_count": 32,
   "metadata": {},
   "outputs": [],
   "source": [
    "#удаляем хиты, у которых нет шагов воронки\n",
    "hits_with_steps = hits_with_steps.dropna()"
   ]
  },
  {
   "cell_type": "code",
   "execution_count": 33,
   "metadata": {},
   "outputs": [],
   "source": [
    "hits_with_steps = hits_with_steps[['watch_id', 'client_id','step','hit_time','url']]"
   ]
  },
  {
   "cell_type": "code",
   "execution_count": 34,
   "metadata": {},
   "outputs": [
    {
     "data": {
      "text/html": [
       "<div>\n",
       "<style scoped>\n",
       "    .dataframe tbody tr th:only-of-type {\n",
       "        vertical-align: middle;\n",
       "    }\n",
       "\n",
       "    .dataframe tbody tr th {\n",
       "        vertical-align: top;\n",
       "    }\n",
       "\n",
       "    .dataframe thead th {\n",
       "        text-align: right;\n",
       "    }\n",
       "</style>\n",
       "<table border=\"1\" class=\"dataframe\">\n",
       "  <thead>\n",
       "    <tr style=\"text-align: right;\">\n",
       "      <th></th>\n",
       "      <th>watch_id</th>\n",
       "      <th>client_id</th>\n",
       "      <th>step</th>\n",
       "      <th>hit_time</th>\n",
       "      <th>url</th>\n",
       "    </tr>\n",
       "  </thead>\n",
       "  <tbody>\n",
       "    <tr>\n",
       "      <th>39</th>\n",
       "      <td>2618775777306476874</td>\n",
       "      <td>1652626599649969589</td>\n",
       "      <td>2.0</td>\n",
       "      <td>2022-05-15 17:57:16</td>\n",
       "      <td>https://plus.megafon.ru/?advcake_params=59e9a5...</td>\n",
       "    </tr>\n",
       "    <tr>\n",
       "      <th>43</th>\n",
       "      <td>2618776365009207582</td>\n",
       "      <td>1652626599649969589</td>\n",
       "      <td>3.0</td>\n",
       "      <td>2022-05-15 17:57:19</td>\n",
       "      <td>https://account.megafon.ru/auth/realms/Subscri...</td>\n",
       "    </tr>\n",
       "    <tr>\n",
       "      <th>44</th>\n",
       "      <td>2618779816291729734</td>\n",
       "      <td>1652626599649969589</td>\n",
       "      <td>4.0</td>\n",
       "      <td>2022-05-15 17:57:32</td>\n",
       "      <td>https://account.megafon.ru/auth/realms/Subscri...</td>\n",
       "    </tr>\n",
       "    <tr>\n",
       "      <th>47</th>\n",
       "      <td>2618787341541310790</td>\n",
       "      <td>1652626599649969589</td>\n",
       "      <td>5.0</td>\n",
       "      <td>2022-05-15 17:58:00</td>\n",
       "      <td>https://account.megafon.ru/auth/realms/Subscri...</td>\n",
       "    </tr>\n",
       "    <tr>\n",
       "      <th>48</th>\n",
       "      <td>2618787341541310790</td>\n",
       "      <td>1652626599649969589</td>\n",
       "      <td>6.0</td>\n",
       "      <td>2022-05-15 17:58:00</td>\n",
       "      <td>https://account.megafon.ru/auth/realms/Subscri...</td>\n",
       "    </tr>\n",
       "  </tbody>\n",
       "</table>\n",
       "</div>"
      ],
      "text/plain": [
       "               watch_id            client_id  step            hit_time  \\\n",
       "39  2618775777306476874  1652626599649969589   2.0 2022-05-15 17:57:16   \n",
       "43  2618776365009207582  1652626599649969589   3.0 2022-05-15 17:57:19   \n",
       "44  2618779816291729734  1652626599649969589   4.0 2022-05-15 17:57:32   \n",
       "47  2618787341541310790  1652626599649969589   5.0 2022-05-15 17:58:00   \n",
       "48  2618787341541310790  1652626599649969589   6.0 2022-05-15 17:58:00   \n",
       "\n",
       "                                                  url  \n",
       "39  https://plus.megafon.ru/?advcake_params=59e9a5...  \n",
       "43  https://account.megafon.ru/auth/realms/Subscri...  \n",
       "44  https://account.megafon.ru/auth/realms/Subscri...  \n",
       "47  https://account.megafon.ru/auth/realms/Subscri...  \n",
       "48  https://account.megafon.ru/auth/realms/Subscri...  "
      ]
     },
     "execution_count": 34,
     "metadata": {},
     "output_type": "execute_result"
    }
   ],
   "source": [
    "hits_with_steps.head()"
   ]
  },
  {
   "cell_type": "code",
   "execution_count": 35,
   "metadata": {},
   "outputs": [
    {
     "name": "stdout",
     "output_type": "stream",
     "text": [
      "<class 'pandas.core.frame.DataFrame'>\n",
      "Int64Index: 111818 entries, 39 to 995746\n",
      "Data columns (total 5 columns):\n",
      " #   Column     Non-Null Count   Dtype         \n",
      "---  ------     --------------   -----         \n",
      " 0   watch_id   111818 non-null  object        \n",
      " 1   client_id  111818 non-null  uint64        \n",
      " 2   step       111818 non-null  float64       \n",
      " 3   hit_time   111818 non-null  datetime64[ns]\n",
      " 4   url        111818 non-null  object        \n",
      "dtypes: datetime64[ns](1), float64(1), object(2), uint64(1)\n",
      "memory usage: 5.1+ MB\n"
     ]
    }
   ],
   "source": [
    "hits_with_steps.info()"
   ]
  },
  {
   "cell_type": "code",
   "execution_count": 36,
   "metadata": {},
   "outputs": [
    {
     "name": "stdout",
     "output_type": "stream",
     "text": [
      "<class 'pandas.core.frame.DataFrame'>\n",
      "RangeIndex: 126131 entries, 0 to 126130\n",
      "Data columns (total 6 columns):\n",
      " #   Column          Non-Null Count   Dtype         \n",
      "---  ------          --------------   -----         \n",
      " 0   date            126131 non-null  object        \n",
      " 1   visit_id        126131 non-null  int64         \n",
      " 2   client_id       126131 non-null  uint64        \n",
      " 3   visit_duration  126131 non-null  int64         \n",
      " 4   visit_start     126131 non-null  datetime64[ns]\n",
      " 5   visit_end       126131 non-null  datetime64[ns]\n",
      "dtypes: datetime64[ns](2), int64(2), object(1), uint64(1)\n",
      "memory usage: 5.8+ MB\n"
     ]
    }
   ],
   "source": [
    "visits.info()"
   ]
  },
  {
   "cell_type": "code",
   "execution_count": 37,
   "metadata": {},
   "outputs": [],
   "source": [
    "visits['client_id'] = visits['client_id'].astype('str')"
   ]
  },
  {
   "cell_type": "code",
   "execution_count": 38,
   "metadata": {},
   "outputs": [],
   "source": [
    "#удаляем дефис в начале некоторых clientid\n",
    "def remove_unknown_simbols(el):\n",
    "    return (re.sub(r'-',\"\",el).replace(\"  \",\" \").strip())"
   ]
  },
  {
   "cell_type": "code",
   "execution_count": 39,
   "metadata": {},
   "outputs": [],
   "source": [
    "visits['client_id'] = visits['client_id'].apply(lambda x: remove_unknown_simbols(x))"
   ]
  },
  {
   "cell_type": "code",
   "execution_count": 40,
   "metadata": {},
   "outputs": [],
   "source": [
    "visits['visit_duration'] = visits['visit_duration'].astype('int')"
   ]
  },
  {
   "cell_type": "code",
   "execution_count": 41,
   "metadata": {},
   "outputs": [
    {
     "name": "stdout",
     "output_type": "stream",
     "text": [
      "<class 'pandas.core.frame.DataFrame'>\n",
      "RangeIndex: 126131 entries, 0 to 126130\n",
      "Data columns (total 6 columns):\n",
      " #   Column          Non-Null Count   Dtype         \n",
      "---  ------          --------------   -----         \n",
      " 0   date            126131 non-null  object        \n",
      " 1   visit_id        126131 non-null  int64         \n",
      " 2   client_id       126131 non-null  object        \n",
      " 3   visit_duration  126131 non-null  int64         \n",
      " 4   visit_start     126131 non-null  datetime64[ns]\n",
      " 5   visit_end       126131 non-null  datetime64[ns]\n",
      "dtypes: datetime64[ns](2), int64(2), object(2)\n",
      "memory usage: 5.8+ MB\n"
     ]
    }
   ],
   "source": [
    "visits.info()"
   ]
  },
  {
   "cell_type": "code",
   "execution_count": 42,
   "metadata": {},
   "outputs": [],
   "source": [
    "hits['client_id'] = hits['client_id'].astype('str')\n",
    "hits['watch_id'] = hits['watch_id'].astype('str')"
   ]
  },
  {
   "cell_type": "code",
   "execution_count": 43,
   "metadata": {},
   "outputs": [],
   "source": [
    "query = \"\"\" \n",
    "select \n",
    "    v.date, \n",
    "    cast(v.visit_id as string) as visit_id,\n",
    "    cast(v.client_id as string) as client_id,\n",
    "    v.visit_duration,\n",
    "    v.visit_start,\n",
    "    v.visit_end , \n",
    "    cast(h.watch_id as string) as watch_id,\n",
    "    h.hit_time,\n",
    "    h.client_id,\n",
    "    h.step,\n",
    "    h.url\n",
    "from visits v left join hits_with_steps h\n",
    "on v.client_id = h.client_id and  visit_start <= h.hit_time and v.visit_end >= h.hit_time\n",
    "\"\"\"\n"
   ]
  },
  {
   "cell_type": "code",
   "execution_count": 44,
   "metadata": {},
   "outputs": [],
   "source": [
    "#объединяем сессии и хиты\n",
    "data = duckdb.query(query).df()"
   ]
  },
  {
   "cell_type": "code",
   "execution_count": 45,
   "metadata": {},
   "outputs": [],
   "source": [
    "data = data.dropna()"
   ]
  },
  {
   "cell_type": "code",
   "execution_count": 46,
   "metadata": {},
   "outputs": [
    {
     "name": "stdout",
     "output_type": "stream",
     "text": [
      "<class 'pandas.core.frame.DataFrame'>\n",
      "Int64Index: 122909 entries, 0 to 230896\n",
      "Data columns (total 11 columns):\n",
      " #   Column          Non-Null Count   Dtype         \n",
      "---  ------          --------------   -----         \n",
      " 0   date            122909 non-null  object        \n",
      " 1   visit_id        122909 non-null  object        \n",
      " 2   client_id       122909 non-null  object        \n",
      " 3   visit_duration  122909 non-null  int64         \n",
      " 4   visit_start     122909 non-null  datetime64[ns]\n",
      " 5   visit_end       122909 non-null  datetime64[ns]\n",
      " 6   watch_id        122909 non-null  object        \n",
      " 7   hit_time        122909 non-null  datetime64[ns]\n",
      " 8   client_id_2     122909 non-null  float64       \n",
      " 9   step            122909 non-null  float64       \n",
      " 10  url             122909 non-null  object        \n",
      "dtypes: datetime64[ns](3), float64(2), int64(1), object(5)\n",
      "memory usage: 11.3+ MB\n"
     ]
    }
   ],
   "source": [
    "data.info()"
   ]
  },
  {
   "cell_type": "code",
   "execution_count": 47,
   "metadata": {},
   "outputs": [],
   "source": [
    "data['step'] = data['step'].astype('int')"
   ]
  },
  {
   "cell_type": "code",
   "execution_count": 48,
   "metadata": {},
   "outputs": [
    {
     "data": {
      "text/html": [
       "<div>\n",
       "<style scoped>\n",
       "    .dataframe tbody tr th:only-of-type {\n",
       "        vertical-align: middle;\n",
       "    }\n",
       "\n",
       "    .dataframe tbody tr th {\n",
       "        vertical-align: top;\n",
       "    }\n",
       "\n",
       "    .dataframe thead th {\n",
       "        text-align: right;\n",
       "    }\n",
       "</style>\n",
       "<table border=\"1\" class=\"dataframe\">\n",
       "  <thead>\n",
       "    <tr style=\"text-align: right;\">\n",
       "      <th></th>\n",
       "      <th>date</th>\n",
       "      <th>visit_id</th>\n",
       "      <th>client_id</th>\n",
       "      <th>visit_duration</th>\n",
       "      <th>visit_start</th>\n",
       "      <th>visit_end</th>\n",
       "      <th>watch_id</th>\n",
       "      <th>hit_time</th>\n",
       "      <th>client_id_2</th>\n",
       "      <th>step</th>\n",
       "      <th>url</th>\n",
       "    </tr>\n",
       "  </thead>\n",
       "  <tbody>\n",
       "    <tr>\n",
       "      <th>230892</th>\n",
       "      <td>2022-05-05 10:26:06</td>\n",
       "      <td>2385187070672109764</td>\n",
       "      <td>1649011726966690886</td>\n",
       "      <td>115</td>\n",
       "      <td>2022-05-05 10:26:06</td>\n",
       "      <td>2022-05-05 12:21:06</td>\n",
       "      <td>2385208943041577156</td>\n",
       "      <td>2022-05-05 10:27:30</td>\n",
       "      <td>1.649012e+18</td>\n",
       "      <td>5</td>\n",
       "      <td>https://account.megafon.ru/auth/realms/Subscri...</td>\n",
       "    </tr>\n",
       "    <tr>\n",
       "      <th>230893</th>\n",
       "      <td>2022-05-05 10:26:06</td>\n",
       "      <td>2385187070672109764</td>\n",
       "      <td>1649011726966690886</td>\n",
       "      <td>115</td>\n",
       "      <td>2022-05-05 10:26:06</td>\n",
       "      <td>2022-05-05 12:21:06</td>\n",
       "      <td>2385203691447910596</td>\n",
       "      <td>2022-05-05 10:27:09</td>\n",
       "      <td>1.649012e+18</td>\n",
       "      <td>4</td>\n",
       "      <td>https://account.megafon.ru/auth/realms/Subscri...</td>\n",
       "    </tr>\n",
       "    <tr>\n",
       "      <th>230894</th>\n",
       "      <td>2022-05-05 10:26:06</td>\n",
       "      <td>2385187070672109764</td>\n",
       "      <td>1649011726966690886</td>\n",
       "      <td>115</td>\n",
       "      <td>2022-05-05 10:26:06</td>\n",
       "      <td>2022-05-05 12:21:06</td>\n",
       "      <td>2385191393437941918</td>\n",
       "      <td>2022-05-05 10:26:23</td>\n",
       "      <td>1.649012e+18</td>\n",
       "      <td>4</td>\n",
       "      <td>https://account.megafon.ru/auth/realms/Subscri...</td>\n",
       "    </tr>\n",
       "    <tr>\n",
       "      <th>230895</th>\n",
       "      <td>2022-05-05 10:26:06</td>\n",
       "      <td>2385187070672109764</td>\n",
       "      <td>1649011726966690886</td>\n",
       "      <td>115</td>\n",
       "      <td>2022-05-05 10:26:06</td>\n",
       "      <td>2022-05-05 12:21:06</td>\n",
       "      <td>2385191003138031804</td>\n",
       "      <td>2022-05-05 10:26:21</td>\n",
       "      <td>1.649012e+18</td>\n",
       "      <td>3</td>\n",
       "      <td>https://account.megafon.ru/auth/realms/Subscri...</td>\n",
       "    </tr>\n",
       "    <tr>\n",
       "      <th>230896</th>\n",
       "      <td>2022-05-05 10:26:06</td>\n",
       "      <td>2385187070672109764</td>\n",
       "      <td>1649011726966690886</td>\n",
       "      <td>115</td>\n",
       "      <td>2022-05-05 10:26:06</td>\n",
       "      <td>2022-05-05 12:21:06</td>\n",
       "      <td>2385189472422854993</td>\n",
       "      <td>2022-05-05 10:26:15</td>\n",
       "      <td>1.649012e+18</td>\n",
       "      <td>2</td>\n",
       "      <td>https://plus.megafon.ru/</td>\n",
       "    </tr>\n",
       "  </tbody>\n",
       "</table>\n",
       "</div>"
      ],
      "text/plain": [
       "                       date             visit_id            client_id  \\\n",
       "230892  2022-05-05 10:26:06  2385187070672109764  1649011726966690886   \n",
       "230893  2022-05-05 10:26:06  2385187070672109764  1649011726966690886   \n",
       "230894  2022-05-05 10:26:06  2385187070672109764  1649011726966690886   \n",
       "230895  2022-05-05 10:26:06  2385187070672109764  1649011726966690886   \n",
       "230896  2022-05-05 10:26:06  2385187070672109764  1649011726966690886   \n",
       "\n",
       "        visit_duration         visit_start           visit_end  \\\n",
       "230892             115 2022-05-05 10:26:06 2022-05-05 12:21:06   \n",
       "230893             115 2022-05-05 10:26:06 2022-05-05 12:21:06   \n",
       "230894             115 2022-05-05 10:26:06 2022-05-05 12:21:06   \n",
       "230895             115 2022-05-05 10:26:06 2022-05-05 12:21:06   \n",
       "230896             115 2022-05-05 10:26:06 2022-05-05 12:21:06   \n",
       "\n",
       "                   watch_id            hit_time   client_id_2  step  \\\n",
       "230892  2385208943041577156 2022-05-05 10:27:30  1.649012e+18     5   \n",
       "230893  2385203691447910596 2022-05-05 10:27:09  1.649012e+18     4   \n",
       "230894  2385191393437941918 2022-05-05 10:26:23  1.649012e+18     4   \n",
       "230895  2385191003138031804 2022-05-05 10:26:21  1.649012e+18     3   \n",
       "230896  2385189472422854993 2022-05-05 10:26:15  1.649012e+18     2   \n",
       "\n",
       "                                                      url  \n",
       "230892  https://account.megafon.ru/auth/realms/Subscri...  \n",
       "230893  https://account.megafon.ru/auth/realms/Subscri...  \n",
       "230894  https://account.megafon.ru/auth/realms/Subscri...  \n",
       "230895  https://account.megafon.ru/auth/realms/Subscri...  \n",
       "230896                           https://plus.megafon.ru/  "
      ]
     },
     "execution_count": 48,
     "metadata": {},
     "output_type": "execute_result"
    }
   ],
   "source": [
    "data.tail()"
   ]
  },
  {
   "cell_type": "code",
   "execution_count": 49,
   "metadata": {},
   "outputs": [],
   "source": [
    "#определяем последовательность шагов для каждой сессии\n",
    "data_reduced = data.sort_values(by='hit_time')[['visit_id','step']].groupby('visit_id',as_index=False).agg(lambda x : list(x))"
   ]
  },
  {
   "cell_type": "code",
   "execution_count": 50,
   "metadata": {},
   "outputs": [
    {
     "data": {
      "text/html": [
       "<div>\n",
       "<style scoped>\n",
       "    .dataframe tbody tr th:only-of-type {\n",
       "        vertical-align: middle;\n",
       "    }\n",
       "\n",
       "    .dataframe tbody tr th {\n",
       "        vertical-align: top;\n",
       "    }\n",
       "\n",
       "    .dataframe thead th {\n",
       "        text-align: right;\n",
       "    }\n",
       "</style>\n",
       "<table border=\"1\" class=\"dataframe\">\n",
       "  <thead>\n",
       "    <tr style=\"text-align: right;\">\n",
       "      <th></th>\n",
       "      <th>visit_id</th>\n",
       "      <th>step</th>\n",
       "    </tr>\n",
       "  </thead>\n",
       "  <tbody>\n",
       "    <tr>\n",
       "      <th>0</th>\n",
       "      <td>2023521183830376547</td>\n",
       "      <td>[2, 2, 2, 2, 2, 2, 2, 2, 2, 2, 2, 2, 3, 3, 6, ...</td>\n",
       "    </tr>\n",
       "    <tr>\n",
       "      <th>1</th>\n",
       "      <td>2025034091373527214</td>\n",
       "      <td>[2, 2]</td>\n",
       "    </tr>\n",
       "    <tr>\n",
       "      <th>2</th>\n",
       "      <td>2025360039948058723</td>\n",
       "      <td>[2, 2, 2, 2, 2, 2, 2, 2, 2, 2, 2, 2, 3, 3, 6, ...</td>\n",
       "    </tr>\n",
       "    <tr>\n",
       "      <th>3</th>\n",
       "      <td>2026107441266819171</td>\n",
       "      <td>[2, 2, 2, 2, 3, 3, 6, 6, 2, 2, 2]</td>\n",
       "    </tr>\n",
       "    <tr>\n",
       "      <th>4</th>\n",
       "      <td>2026958335234277699</td>\n",
       "      <td>[2, 2, 2]</td>\n",
       "    </tr>\n",
       "  </tbody>\n",
       "</table>\n",
       "</div>"
      ],
      "text/plain": [
       "              visit_id                                               step\n",
       "0  2023521183830376547  [2, 2, 2, 2, 2, 2, 2, 2, 2, 2, 2, 2, 3, 3, 6, ...\n",
       "1  2025034091373527214                                             [2, 2]\n",
       "2  2025360039948058723  [2, 2, 2, 2, 2, 2, 2, 2, 2, 2, 2, 2, 3, 3, 6, ...\n",
       "3  2026107441266819171                  [2, 2, 2, 2, 3, 3, 6, 6, 2, 2, 2]\n",
       "4  2026958335234277699                                          [2, 2, 2]"
      ]
     },
     "execution_count": 50,
     "metadata": {},
     "output_type": "execute_result"
    }
   ],
   "source": [
    "data_reduced.head(5)"
   ]
  },
  {
   "cell_type": "code",
   "execution_count": 51,
   "metadata": {},
   "outputs": [],
   "source": [
    "# опредляем финальный шаг сессии, если в сесссии есть все шаги до шага n - она относится к шагу n\n",
    "def final_step(el):\n",
    "    if (2 in el) and (3 not in el and 4 not in el and 5 not in el and 6 not in el and 7 not in el):\n",
    "        return 2\n",
    "    elif (2 in el and 3 in el) and (4 not in el and 5 not in el and 6 not in el and 7 not in el):\n",
    "        return 3\n",
    "    elif (2 in el and 3 in el and 4 in el) and (5 not in el and 6 not in el and 7 not in el):\n",
    "        return 4\n",
    "    elif (2 in el and 3 in el and 4 in el and 5 in el) and (6 not in el and 7 not in el):\n",
    "        return 5\n",
    "    elif (2 in el and 3 in el and 4 in el and 5 in el and 6 in el) and (7 not in el):\n",
    "        return 6\n",
    "    elif (2 in el and 3 in el and 4 in el and 5 in el and 6 in el and 7 in el):\n",
    "        return 7\n",
    "    else:\n",
    "        return 0\n"
   ]
  },
  {
   "cell_type": "code",
   "execution_count": 52,
   "metadata": {},
   "outputs": [
    {
     "data": {
      "text/html": [
       "<div>\n",
       "<style scoped>\n",
       "    .dataframe tbody tr th:only-of-type {\n",
       "        vertical-align: middle;\n",
       "    }\n",
       "\n",
       "    .dataframe tbody tr th {\n",
       "        vertical-align: top;\n",
       "    }\n",
       "\n",
       "    .dataframe thead th {\n",
       "        text-align: right;\n",
       "    }\n",
       "</style>\n",
       "<table border=\"1\" class=\"dataframe\">\n",
       "  <thead>\n",
       "    <tr style=\"text-align: right;\">\n",
       "      <th></th>\n",
       "      <th>visit_id</th>\n",
       "      <th>step</th>\n",
       "    </tr>\n",
       "  </thead>\n",
       "  <tbody>\n",
       "    <tr>\n",
       "      <th>0</th>\n",
       "      <td>2023521183830376547</td>\n",
       "      <td>[2, 2, 2, 2, 2, 2, 2, 2, 2, 2, 2, 2, 3, 3, 6, ...</td>\n",
       "    </tr>\n",
       "    <tr>\n",
       "      <th>1</th>\n",
       "      <td>2025034091373527214</td>\n",
       "      <td>[2, 2]</td>\n",
       "    </tr>\n",
       "    <tr>\n",
       "      <th>2</th>\n",
       "      <td>2025360039948058723</td>\n",
       "      <td>[2, 2, 2, 2, 2, 2, 2, 2, 2, 2, 2, 2, 3, 3, 6, ...</td>\n",
       "    </tr>\n",
       "    <tr>\n",
       "      <th>3</th>\n",
       "      <td>2026107441266819171</td>\n",
       "      <td>[2, 2, 2, 2, 3, 3, 6, 6, 2, 2, 2]</td>\n",
       "    </tr>\n",
       "    <tr>\n",
       "      <th>4</th>\n",
       "      <td>2026958335234277699</td>\n",
       "      <td>[2, 2, 2]</td>\n",
       "    </tr>\n",
       "  </tbody>\n",
       "</table>\n",
       "</div>"
      ],
      "text/plain": [
       "              visit_id                                               step\n",
       "0  2023521183830376547  [2, 2, 2, 2, 2, 2, 2, 2, 2, 2, 2, 2, 3, 3, 6, ...\n",
       "1  2025034091373527214                                             [2, 2]\n",
       "2  2025360039948058723  [2, 2, 2, 2, 2, 2, 2, 2, 2, 2, 2, 2, 3, 3, 6, ...\n",
       "3  2026107441266819171                  [2, 2, 2, 2, 3, 3, 6, 6, 2, 2, 2]\n",
       "4  2026958335234277699                                          [2, 2, 2]"
      ]
     },
     "execution_count": 52,
     "metadata": {},
     "output_type": "execute_result"
    }
   ],
   "source": [
    "data_reduced.head()"
   ]
  },
  {
   "cell_type": "code",
   "execution_count": 53,
   "metadata": {},
   "outputs": [],
   "source": [
    "data_reduced['final_step'] = data_reduced['step'].map(lambda x: final_step(x))"
   ]
  },
  {
   "cell_type": "code",
   "execution_count": 54,
   "metadata": {},
   "outputs": [
    {
     "data": {
      "text/html": [
       "<div>\n",
       "<style scoped>\n",
       "    .dataframe tbody tr th:only-of-type {\n",
       "        vertical-align: middle;\n",
       "    }\n",
       "\n",
       "    .dataframe tbody tr th {\n",
       "        vertical-align: top;\n",
       "    }\n",
       "\n",
       "    .dataframe thead th {\n",
       "        text-align: right;\n",
       "    }\n",
       "</style>\n",
       "<table border=\"1\" class=\"dataframe\">\n",
       "  <thead>\n",
       "    <tr style=\"text-align: right;\">\n",
       "      <th></th>\n",
       "      <th>visit_id</th>\n",
       "      <th>step</th>\n",
       "      <th>final_step</th>\n",
       "    </tr>\n",
       "  </thead>\n",
       "  <tbody>\n",
       "    <tr>\n",
       "      <th>17982</th>\n",
       "      <td>2714137303219175787</td>\n",
       "      <td>[3]</td>\n",
       "      <td>0</td>\n",
       "    </tr>\n",
       "    <tr>\n",
       "      <th>17983</th>\n",
       "      <td>2714186115679519116</td>\n",
       "      <td>[2, 3, 4, 6, 5]</td>\n",
       "      <td>6</td>\n",
       "    </tr>\n",
       "    <tr>\n",
       "      <th>17984</th>\n",
       "      <td>2714295532039962696</td>\n",
       "      <td>[2, 3, 4, 5, 6]</td>\n",
       "      <td>6</td>\n",
       "    </tr>\n",
       "    <tr>\n",
       "      <th>17985</th>\n",
       "      <td>2714341643749425765</td>\n",
       "      <td>[2, 3, 6, 5, 3, 3, 6, 6, 3, 3, 6, 6, 3, 3, 3, ...</td>\n",
       "      <td>0</td>\n",
       "    </tr>\n",
       "    <tr>\n",
       "      <th>17986</th>\n",
       "      <td>2714508551042367754</td>\n",
       "      <td>[2, 3]</td>\n",
       "      <td>3</td>\n",
       "    </tr>\n",
       "    <tr>\n",
       "      <th>17987</th>\n",
       "      <td>2714520323978952877</td>\n",
       "      <td>[2, 3]</td>\n",
       "      <td>3</td>\n",
       "    </tr>\n",
       "    <tr>\n",
       "      <th>17988</th>\n",
       "      <td>2714531766642671716</td>\n",
       "      <td>[2, 3, 2, 2, 3, 4, 4, 6, 5, 5, 6, 2]</td>\n",
       "      <td>6</td>\n",
       "    </tr>\n",
       "    <tr>\n",
       "      <th>17989</th>\n",
       "      <td>2714546244388913346</td>\n",
       "      <td>[2, 3, 4, 6, 5]</td>\n",
       "      <td>6</td>\n",
       "    </tr>\n",
       "    <tr>\n",
       "      <th>17990</th>\n",
       "      <td>2714563367654916385</td>\n",
       "      <td>[3, 4, 5, 6, 6, 5, 3, 4, 5, 6, 5, 6, 6, 5]</td>\n",
       "      <td>0</td>\n",
       "    </tr>\n",
       "    <tr>\n",
       "      <th>17991</th>\n",
       "      <td>2714618359076618277</td>\n",
       "      <td>[2, 3, 4, 3, 2, 3, 4, 6, 5, 6, 5, 3, 2, 3, 4, ...</td>\n",
       "      <td>6</td>\n",
       "    </tr>\n",
       "    <tr>\n",
       "      <th>17992</th>\n",
       "      <td>2714633647295561752</td>\n",
       "      <td>[2, 3, 4, 6, 5]</td>\n",
       "      <td>6</td>\n",
       "    </tr>\n",
       "    <tr>\n",
       "      <th>17993</th>\n",
       "      <td>2714659291614413163</td>\n",
       "      <td>[2, 3]</td>\n",
       "      <td>3</td>\n",
       "    </tr>\n",
       "    <tr>\n",
       "      <th>17994</th>\n",
       "      <td>2714705885288988822</td>\n",
       "      <td>[2, 3, 4, 5, 6]</td>\n",
       "      <td>6</td>\n",
       "    </tr>\n",
       "    <tr>\n",
       "      <th>17995</th>\n",
       "      <td>2714985692970876986</td>\n",
       "      <td>[2, 3]</td>\n",
       "      <td>3</td>\n",
       "    </tr>\n",
       "    <tr>\n",
       "      <th>17996</th>\n",
       "      <td>2715000246710305095</td>\n",
       "      <td>[2, 3, 6, 5, 3, 3, 3, 3, 3, 3, 3, 3]</td>\n",
       "      <td>0</td>\n",
       "    </tr>\n",
       "  </tbody>\n",
       "</table>\n",
       "</div>"
      ],
      "text/plain": [
       "                  visit_id                                               step  \\\n",
       "17982  2714137303219175787                                                [3]   \n",
       "17983  2714186115679519116                                    [2, 3, 4, 6, 5]   \n",
       "17984  2714295532039962696                                    [2, 3, 4, 5, 6]   \n",
       "17985  2714341643749425765  [2, 3, 6, 5, 3, 3, 6, 6, 3, 3, 6, 6, 3, 3, 3, ...   \n",
       "17986  2714508551042367754                                             [2, 3]   \n",
       "17987  2714520323978952877                                             [2, 3]   \n",
       "17988  2714531766642671716               [2, 3, 2, 2, 3, 4, 4, 6, 5, 5, 6, 2]   \n",
       "17989  2714546244388913346                                    [2, 3, 4, 6, 5]   \n",
       "17990  2714563367654916385         [3, 4, 5, 6, 6, 5, 3, 4, 5, 6, 5, 6, 6, 5]   \n",
       "17991  2714618359076618277  [2, 3, 4, 3, 2, 3, 4, 6, 5, 6, 5, 3, 2, 3, 4, ...   \n",
       "17992  2714633647295561752                                    [2, 3, 4, 6, 5]   \n",
       "17993  2714659291614413163                                             [2, 3]   \n",
       "17994  2714705885288988822                                    [2, 3, 4, 5, 6]   \n",
       "17995  2714985692970876986                                             [2, 3]   \n",
       "17996  2715000246710305095               [2, 3, 6, 5, 3, 3, 3, 3, 3, 3, 3, 3]   \n",
       "\n",
       "       final_step  \n",
       "17982           0  \n",
       "17983           6  \n",
       "17984           6  \n",
       "17985           0  \n",
       "17986           3  \n",
       "17987           3  \n",
       "17988           6  \n",
       "17989           6  \n",
       "17990           0  \n",
       "17991           6  \n",
       "17992           6  \n",
       "17993           3  \n",
       "17994           6  \n",
       "17995           3  \n",
       "17996           0  "
      ]
     },
     "execution_count": 54,
     "metadata": {},
     "output_type": "execute_result"
    }
   ],
   "source": [
    "data_reduced.tail(15)"
   ]
  },
  {
   "cell_type": "code",
   "execution_count": 55,
   "metadata": {},
   "outputs": [],
   "source": [
    "#группируем полученные данные по финальным шагам\n",
    "grouped = data_reduced.groupby('final_step', as_index=False).count()"
   ]
  },
  {
   "cell_type": "code",
   "execution_count": 56,
   "metadata": {},
   "outputs": [],
   "source": [
    "#добавляем первый шаг - просмотр начальной страницы\n",
    "grouped.loc[len(grouped.index)] = [1, first_page, first_page]"
   ]
  },
  {
   "cell_type": "code",
   "execution_count": 57,
   "metadata": {},
   "outputs": [],
   "source": [
    "#удаляем нулевой шаг - когда финальный шаг не может быть определен\n",
    "grouped = grouped.drop(0,axis=0)"
   ]
  },
  {
   "cell_type": "code",
   "execution_count": 58,
   "metadata": {},
   "outputs": [],
   "source": [
    "final_df = grouped.sort_values(by='final_step')"
   ]
  },
  {
   "cell_type": "code",
   "execution_count": 59,
   "metadata": {},
   "outputs": [
    {
     "data": {
      "text/html": [
       "<div>\n",
       "<style scoped>\n",
       "    .dataframe tbody tr th:only-of-type {\n",
       "        vertical-align: middle;\n",
       "    }\n",
       "\n",
       "    .dataframe tbody tr th {\n",
       "        vertical-align: top;\n",
       "    }\n",
       "\n",
       "    .dataframe thead th {\n",
       "        text-align: right;\n",
       "    }\n",
       "</style>\n",
       "<table border=\"1\" class=\"dataframe\">\n",
       "  <thead>\n",
       "    <tr style=\"text-align: right;\">\n",
       "      <th></th>\n",
       "      <th>final_step</th>\n",
       "      <th>visit_id</th>\n",
       "      <th>step</th>\n",
       "    </tr>\n",
       "  </thead>\n",
       "  <tbody>\n",
       "    <tr>\n",
       "      <th>6</th>\n",
       "      <td>1</td>\n",
       "      <td>418619</td>\n",
       "      <td>418619</td>\n",
       "    </tr>\n",
       "    <tr>\n",
       "      <th>1</th>\n",
       "      <td>2</td>\n",
       "      <td>2424</td>\n",
       "      <td>2424</td>\n",
       "    </tr>\n",
       "    <tr>\n",
       "      <th>2</th>\n",
       "      <td>3</td>\n",
       "      <td>3744</td>\n",
       "      <td>3744</td>\n",
       "    </tr>\n",
       "    <tr>\n",
       "      <th>3</th>\n",
       "      <td>4</td>\n",
       "      <td>543</td>\n",
       "      <td>543</td>\n",
       "    </tr>\n",
       "    <tr>\n",
       "      <th>4</th>\n",
       "      <td>6</td>\n",
       "      <td>7111</td>\n",
       "      <td>7111</td>\n",
       "    </tr>\n",
       "    <tr>\n",
       "      <th>5</th>\n",
       "      <td>7</td>\n",
       "      <td>804</td>\n",
       "      <td>804</td>\n",
       "    </tr>\n",
       "  </tbody>\n",
       "</table>\n",
       "</div>"
      ],
      "text/plain": [
       "   final_step  visit_id    step\n",
       "6           1    418619  418619\n",
       "1           2      2424    2424\n",
       "2           3      3744    3744\n",
       "3           4       543     543\n",
       "4           6      7111    7111\n",
       "5           7       804     804"
      ]
     },
     "execution_count": 59,
     "metadata": {},
     "output_type": "execute_result"
    }
   ],
   "source": [
    "final_df"
   ]
  },
  {
   "cell_type": "code",
   "execution_count": 60,
   "metadata": {},
   "outputs": [
    {
     "data": {
      "application/vnd.plotly.v1+json": {
       "config": {
        "plotlyServerURL": "https://plot.ly"
       },
       "data": [
        {
         "type": "funnel",
         "x": [
          418619,
          2424,
          3744,
          543,
          7111,
          804
         ],
         "y": [
          "First page",
          "Click enter",
          "Registration",
          "Phone num input",
          "Code accepted",
          "Unsubscribe"
         ]
        }
       ],
       "layout": {
        "template": {
         "data": {
          "bar": [
           {
            "error_x": {
             "color": "#2a3f5f"
            },
            "error_y": {
             "color": "#2a3f5f"
            },
            "marker": {
             "line": {
              "color": "#E5ECF6",
              "width": 0.5
             },
             "pattern": {
              "fillmode": "overlay",
              "size": 10,
              "solidity": 0.2
             }
            },
            "type": "bar"
           }
          ],
          "barpolar": [
           {
            "marker": {
             "line": {
              "color": "#E5ECF6",
              "width": 0.5
             },
             "pattern": {
              "fillmode": "overlay",
              "size": 10,
              "solidity": 0.2
             }
            },
            "type": "barpolar"
           }
          ],
          "carpet": [
           {
            "aaxis": {
             "endlinecolor": "#2a3f5f",
             "gridcolor": "white",
             "linecolor": "white",
             "minorgridcolor": "white",
             "startlinecolor": "#2a3f5f"
            },
            "baxis": {
             "endlinecolor": "#2a3f5f",
             "gridcolor": "white",
             "linecolor": "white",
             "minorgridcolor": "white",
             "startlinecolor": "#2a3f5f"
            },
            "type": "carpet"
           }
          ],
          "choropleth": [
           {
            "colorbar": {
             "outlinewidth": 0,
             "ticks": ""
            },
            "type": "choropleth"
           }
          ],
          "contour": [
           {
            "colorbar": {
             "outlinewidth": 0,
             "ticks": ""
            },
            "colorscale": [
             [
              0,
              "#0d0887"
             ],
             [
              0.1111111111111111,
              "#46039f"
             ],
             [
              0.2222222222222222,
              "#7201a8"
             ],
             [
              0.3333333333333333,
              "#9c179e"
             ],
             [
              0.4444444444444444,
              "#bd3786"
             ],
             [
              0.5555555555555556,
              "#d8576b"
             ],
             [
              0.6666666666666666,
              "#ed7953"
             ],
             [
              0.7777777777777778,
              "#fb9f3a"
             ],
             [
              0.8888888888888888,
              "#fdca26"
             ],
             [
              1,
              "#f0f921"
             ]
            ],
            "type": "contour"
           }
          ],
          "contourcarpet": [
           {
            "colorbar": {
             "outlinewidth": 0,
             "ticks": ""
            },
            "type": "contourcarpet"
           }
          ],
          "heatmap": [
           {
            "colorbar": {
             "outlinewidth": 0,
             "ticks": ""
            },
            "colorscale": [
             [
              0,
              "#0d0887"
             ],
             [
              0.1111111111111111,
              "#46039f"
             ],
             [
              0.2222222222222222,
              "#7201a8"
             ],
             [
              0.3333333333333333,
              "#9c179e"
             ],
             [
              0.4444444444444444,
              "#bd3786"
             ],
             [
              0.5555555555555556,
              "#d8576b"
             ],
             [
              0.6666666666666666,
              "#ed7953"
             ],
             [
              0.7777777777777778,
              "#fb9f3a"
             ],
             [
              0.8888888888888888,
              "#fdca26"
             ],
             [
              1,
              "#f0f921"
             ]
            ],
            "type": "heatmap"
           }
          ],
          "heatmapgl": [
           {
            "colorbar": {
             "outlinewidth": 0,
             "ticks": ""
            },
            "colorscale": [
             [
              0,
              "#0d0887"
             ],
             [
              0.1111111111111111,
              "#46039f"
             ],
             [
              0.2222222222222222,
              "#7201a8"
             ],
             [
              0.3333333333333333,
              "#9c179e"
             ],
             [
              0.4444444444444444,
              "#bd3786"
             ],
             [
              0.5555555555555556,
              "#d8576b"
             ],
             [
              0.6666666666666666,
              "#ed7953"
             ],
             [
              0.7777777777777778,
              "#fb9f3a"
             ],
             [
              0.8888888888888888,
              "#fdca26"
             ],
             [
              1,
              "#f0f921"
             ]
            ],
            "type": "heatmapgl"
           }
          ],
          "histogram": [
           {
            "marker": {
             "pattern": {
              "fillmode": "overlay",
              "size": 10,
              "solidity": 0.2
             }
            },
            "type": "histogram"
           }
          ],
          "histogram2d": [
           {
            "colorbar": {
             "outlinewidth": 0,
             "ticks": ""
            },
            "colorscale": [
             [
              0,
              "#0d0887"
             ],
             [
              0.1111111111111111,
              "#46039f"
             ],
             [
              0.2222222222222222,
              "#7201a8"
             ],
             [
              0.3333333333333333,
              "#9c179e"
             ],
             [
              0.4444444444444444,
              "#bd3786"
             ],
             [
              0.5555555555555556,
              "#d8576b"
             ],
             [
              0.6666666666666666,
              "#ed7953"
             ],
             [
              0.7777777777777778,
              "#fb9f3a"
             ],
             [
              0.8888888888888888,
              "#fdca26"
             ],
             [
              1,
              "#f0f921"
             ]
            ],
            "type": "histogram2d"
           }
          ],
          "histogram2dcontour": [
           {
            "colorbar": {
             "outlinewidth": 0,
             "ticks": ""
            },
            "colorscale": [
             [
              0,
              "#0d0887"
             ],
             [
              0.1111111111111111,
              "#46039f"
             ],
             [
              0.2222222222222222,
              "#7201a8"
             ],
             [
              0.3333333333333333,
              "#9c179e"
             ],
             [
              0.4444444444444444,
              "#bd3786"
             ],
             [
              0.5555555555555556,
              "#d8576b"
             ],
             [
              0.6666666666666666,
              "#ed7953"
             ],
             [
              0.7777777777777778,
              "#fb9f3a"
             ],
             [
              0.8888888888888888,
              "#fdca26"
             ],
             [
              1,
              "#f0f921"
             ]
            ],
            "type": "histogram2dcontour"
           }
          ],
          "mesh3d": [
           {
            "colorbar": {
             "outlinewidth": 0,
             "ticks": ""
            },
            "type": "mesh3d"
           }
          ],
          "parcoords": [
           {
            "line": {
             "colorbar": {
              "outlinewidth": 0,
              "ticks": ""
             }
            },
            "type": "parcoords"
           }
          ],
          "pie": [
           {
            "automargin": true,
            "type": "pie"
           }
          ],
          "scatter": [
           {
            "fillpattern": {
             "fillmode": "overlay",
             "size": 10,
             "solidity": 0.2
            },
            "type": "scatter"
           }
          ],
          "scatter3d": [
           {
            "line": {
             "colorbar": {
              "outlinewidth": 0,
              "ticks": ""
             }
            },
            "marker": {
             "colorbar": {
              "outlinewidth": 0,
              "ticks": ""
             }
            },
            "type": "scatter3d"
           }
          ],
          "scattercarpet": [
           {
            "marker": {
             "colorbar": {
              "outlinewidth": 0,
              "ticks": ""
             }
            },
            "type": "scattercarpet"
           }
          ],
          "scattergeo": [
           {
            "marker": {
             "colorbar": {
              "outlinewidth": 0,
              "ticks": ""
             }
            },
            "type": "scattergeo"
           }
          ],
          "scattergl": [
           {
            "marker": {
             "colorbar": {
              "outlinewidth": 0,
              "ticks": ""
             }
            },
            "type": "scattergl"
           }
          ],
          "scattermapbox": [
           {
            "marker": {
             "colorbar": {
              "outlinewidth": 0,
              "ticks": ""
             }
            },
            "type": "scattermapbox"
           }
          ],
          "scatterpolar": [
           {
            "marker": {
             "colorbar": {
              "outlinewidth": 0,
              "ticks": ""
             }
            },
            "type": "scatterpolar"
           }
          ],
          "scatterpolargl": [
           {
            "marker": {
             "colorbar": {
              "outlinewidth": 0,
              "ticks": ""
             }
            },
            "type": "scatterpolargl"
           }
          ],
          "scatterternary": [
           {
            "marker": {
             "colorbar": {
              "outlinewidth": 0,
              "ticks": ""
             }
            },
            "type": "scatterternary"
           }
          ],
          "surface": [
           {
            "colorbar": {
             "outlinewidth": 0,
             "ticks": ""
            },
            "colorscale": [
             [
              0,
              "#0d0887"
             ],
             [
              0.1111111111111111,
              "#46039f"
             ],
             [
              0.2222222222222222,
              "#7201a8"
             ],
             [
              0.3333333333333333,
              "#9c179e"
             ],
             [
              0.4444444444444444,
              "#bd3786"
             ],
             [
              0.5555555555555556,
              "#d8576b"
             ],
             [
              0.6666666666666666,
              "#ed7953"
             ],
             [
              0.7777777777777778,
              "#fb9f3a"
             ],
             [
              0.8888888888888888,
              "#fdca26"
             ],
             [
              1,
              "#f0f921"
             ]
            ],
            "type": "surface"
           }
          ],
          "table": [
           {
            "cells": {
             "fill": {
              "color": "#EBF0F8"
             },
             "line": {
              "color": "white"
             }
            },
            "header": {
             "fill": {
              "color": "#C8D4E3"
             },
             "line": {
              "color": "white"
             }
            },
            "type": "table"
           }
          ]
         },
         "layout": {
          "annotationdefaults": {
           "arrowcolor": "#2a3f5f",
           "arrowhead": 0,
           "arrowwidth": 1
          },
          "autotypenumbers": "strict",
          "coloraxis": {
           "colorbar": {
            "outlinewidth": 0,
            "ticks": ""
           }
          },
          "colorscale": {
           "diverging": [
            [
             0,
             "#8e0152"
            ],
            [
             0.1,
             "#c51b7d"
            ],
            [
             0.2,
             "#de77ae"
            ],
            [
             0.3,
             "#f1b6da"
            ],
            [
             0.4,
             "#fde0ef"
            ],
            [
             0.5,
             "#f7f7f7"
            ],
            [
             0.6,
             "#e6f5d0"
            ],
            [
             0.7,
             "#b8e186"
            ],
            [
             0.8,
             "#7fbc41"
            ],
            [
             0.9,
             "#4d9221"
            ],
            [
             1,
             "#276419"
            ]
           ],
           "sequential": [
            [
             0,
             "#0d0887"
            ],
            [
             0.1111111111111111,
             "#46039f"
            ],
            [
             0.2222222222222222,
             "#7201a8"
            ],
            [
             0.3333333333333333,
             "#9c179e"
            ],
            [
             0.4444444444444444,
             "#bd3786"
            ],
            [
             0.5555555555555556,
             "#d8576b"
            ],
            [
             0.6666666666666666,
             "#ed7953"
            ],
            [
             0.7777777777777778,
             "#fb9f3a"
            ],
            [
             0.8888888888888888,
             "#fdca26"
            ],
            [
             1,
             "#f0f921"
            ]
           ],
           "sequentialminus": [
            [
             0,
             "#0d0887"
            ],
            [
             0.1111111111111111,
             "#46039f"
            ],
            [
             0.2222222222222222,
             "#7201a8"
            ],
            [
             0.3333333333333333,
             "#9c179e"
            ],
            [
             0.4444444444444444,
             "#bd3786"
            ],
            [
             0.5555555555555556,
             "#d8576b"
            ],
            [
             0.6666666666666666,
             "#ed7953"
            ],
            [
             0.7777777777777778,
             "#fb9f3a"
            ],
            [
             0.8888888888888888,
             "#fdca26"
            ],
            [
             1,
             "#f0f921"
            ]
           ]
          },
          "colorway": [
           "#636efa",
           "#EF553B",
           "#00cc96",
           "#ab63fa",
           "#FFA15A",
           "#19d3f3",
           "#FF6692",
           "#B6E880",
           "#FF97FF",
           "#FECB52"
          ],
          "font": {
           "color": "#2a3f5f"
          },
          "geo": {
           "bgcolor": "white",
           "lakecolor": "white",
           "landcolor": "#E5ECF6",
           "showlakes": true,
           "showland": true,
           "subunitcolor": "white"
          },
          "hoverlabel": {
           "align": "left"
          },
          "hovermode": "closest",
          "mapbox": {
           "style": "light"
          },
          "paper_bgcolor": "white",
          "plot_bgcolor": "#E5ECF6",
          "polar": {
           "angularaxis": {
            "gridcolor": "white",
            "linecolor": "white",
            "ticks": ""
           },
           "bgcolor": "#E5ECF6",
           "radialaxis": {
            "gridcolor": "white",
            "linecolor": "white",
            "ticks": ""
           }
          },
          "scene": {
           "xaxis": {
            "backgroundcolor": "#E5ECF6",
            "gridcolor": "white",
            "gridwidth": 2,
            "linecolor": "white",
            "showbackground": true,
            "ticks": "",
            "zerolinecolor": "white"
           },
           "yaxis": {
            "backgroundcolor": "#E5ECF6",
            "gridcolor": "white",
            "gridwidth": 2,
            "linecolor": "white",
            "showbackground": true,
            "ticks": "",
            "zerolinecolor": "white"
           },
           "zaxis": {
            "backgroundcolor": "#E5ECF6",
            "gridcolor": "white",
            "gridwidth": 2,
            "linecolor": "white",
            "showbackground": true,
            "ticks": "",
            "zerolinecolor": "white"
           }
          },
          "shapedefaults": {
           "line": {
            "color": "#2a3f5f"
           }
          },
          "ternary": {
           "aaxis": {
            "gridcolor": "white",
            "linecolor": "white",
            "ticks": ""
           },
           "baxis": {
            "gridcolor": "white",
            "linecolor": "white",
            "ticks": ""
           },
           "bgcolor": "#E5ECF6",
           "caxis": {
            "gridcolor": "white",
            "linecolor": "white",
            "ticks": ""
           }
          },
          "title": {
           "x": 0.05
          },
          "xaxis": {
           "automargin": true,
           "gridcolor": "white",
           "linecolor": "white",
           "ticks": "",
           "title": {
            "standoff": 15
           },
           "zerolinecolor": "white",
           "zerolinewidth": 2
          },
          "yaxis": {
           "automargin": true,
           "gridcolor": "white",
           "linecolor": "white",
           "ticks": "",
           "title": {
            "standoff": 15
           },
           "zerolinecolor": "white",
           "zerolinewidth": 2
          }
         }
        }
       }
      }
     },
     "metadata": {},
     "output_type": "display_data"
    }
   ],
   "source": [
    "from plotly import graph_objects as go\n",
    "\n",
    "fig = go.Figure(go.Funnel(\n",
    "    y = [\"First page\", \"Click enter\", \"Registration\", \"Phone num input\",\"Code accepted\",\"Unsubscribe\"],\n",
    "    x = final_df['step']))\n",
    "\n",
    "fig.show()"
   ]
  },
  {
   "cell_type": "code",
   "execution_count": 63,
   "metadata": {},
   "outputs": [
    {
     "data": {
      "application/vnd.plotly.v1+json": {
       "config": {
        "plotlyServerURL": "https://plot.ly"
       },
       "data": [
        {
         "hovertemplate": "number=%{x}<br>stage=%{y}<extra></extra>",
         "legendgroup": "",
         "marker": {
          "color": "#636efa"
         },
         "name": "",
         "orientation": "h",
         "showlegend": false,
         "type": "funnel",
         "x": [
          2424,
          3744,
          543,
          7111,
          804
         ],
         "xaxis": "x",
         "y": [
          "2",
          "3",
          "4",
          "6",
          "7"
         ],
         "yaxis": "y"
        }
       ],
       "layout": {
        "legend": {
         "tracegroupgap": 0
        },
        "margin": {
         "t": 60
        },
        "template": {
         "data": {
          "bar": [
           {
            "error_x": {
             "color": "#2a3f5f"
            },
            "error_y": {
             "color": "#2a3f5f"
            },
            "marker": {
             "line": {
              "color": "#E5ECF6",
              "width": 0.5
             },
             "pattern": {
              "fillmode": "overlay",
              "size": 10,
              "solidity": 0.2
             }
            },
            "type": "bar"
           }
          ],
          "barpolar": [
           {
            "marker": {
             "line": {
              "color": "#E5ECF6",
              "width": 0.5
             },
             "pattern": {
              "fillmode": "overlay",
              "size": 10,
              "solidity": 0.2
             }
            },
            "type": "barpolar"
           }
          ],
          "carpet": [
           {
            "aaxis": {
             "endlinecolor": "#2a3f5f",
             "gridcolor": "white",
             "linecolor": "white",
             "minorgridcolor": "white",
             "startlinecolor": "#2a3f5f"
            },
            "baxis": {
             "endlinecolor": "#2a3f5f",
             "gridcolor": "white",
             "linecolor": "white",
             "minorgridcolor": "white",
             "startlinecolor": "#2a3f5f"
            },
            "type": "carpet"
           }
          ],
          "choropleth": [
           {
            "colorbar": {
             "outlinewidth": 0,
             "ticks": ""
            },
            "type": "choropleth"
           }
          ],
          "contour": [
           {
            "colorbar": {
             "outlinewidth": 0,
             "ticks": ""
            },
            "colorscale": [
             [
              0,
              "#0d0887"
             ],
             [
              0.1111111111111111,
              "#46039f"
             ],
             [
              0.2222222222222222,
              "#7201a8"
             ],
             [
              0.3333333333333333,
              "#9c179e"
             ],
             [
              0.4444444444444444,
              "#bd3786"
             ],
             [
              0.5555555555555556,
              "#d8576b"
             ],
             [
              0.6666666666666666,
              "#ed7953"
             ],
             [
              0.7777777777777778,
              "#fb9f3a"
             ],
             [
              0.8888888888888888,
              "#fdca26"
             ],
             [
              1,
              "#f0f921"
             ]
            ],
            "type": "contour"
           }
          ],
          "contourcarpet": [
           {
            "colorbar": {
             "outlinewidth": 0,
             "ticks": ""
            },
            "type": "contourcarpet"
           }
          ],
          "heatmap": [
           {
            "colorbar": {
             "outlinewidth": 0,
             "ticks": ""
            },
            "colorscale": [
             [
              0,
              "#0d0887"
             ],
             [
              0.1111111111111111,
              "#46039f"
             ],
             [
              0.2222222222222222,
              "#7201a8"
             ],
             [
              0.3333333333333333,
              "#9c179e"
             ],
             [
              0.4444444444444444,
              "#bd3786"
             ],
             [
              0.5555555555555556,
              "#d8576b"
             ],
             [
              0.6666666666666666,
              "#ed7953"
             ],
             [
              0.7777777777777778,
              "#fb9f3a"
             ],
             [
              0.8888888888888888,
              "#fdca26"
             ],
             [
              1,
              "#f0f921"
             ]
            ],
            "type": "heatmap"
           }
          ],
          "heatmapgl": [
           {
            "colorbar": {
             "outlinewidth": 0,
             "ticks": ""
            },
            "colorscale": [
             [
              0,
              "#0d0887"
             ],
             [
              0.1111111111111111,
              "#46039f"
             ],
             [
              0.2222222222222222,
              "#7201a8"
             ],
             [
              0.3333333333333333,
              "#9c179e"
             ],
             [
              0.4444444444444444,
              "#bd3786"
             ],
             [
              0.5555555555555556,
              "#d8576b"
             ],
             [
              0.6666666666666666,
              "#ed7953"
             ],
             [
              0.7777777777777778,
              "#fb9f3a"
             ],
             [
              0.8888888888888888,
              "#fdca26"
             ],
             [
              1,
              "#f0f921"
             ]
            ],
            "type": "heatmapgl"
           }
          ],
          "histogram": [
           {
            "marker": {
             "pattern": {
              "fillmode": "overlay",
              "size": 10,
              "solidity": 0.2
             }
            },
            "type": "histogram"
           }
          ],
          "histogram2d": [
           {
            "colorbar": {
             "outlinewidth": 0,
             "ticks": ""
            },
            "colorscale": [
             [
              0,
              "#0d0887"
             ],
             [
              0.1111111111111111,
              "#46039f"
             ],
             [
              0.2222222222222222,
              "#7201a8"
             ],
             [
              0.3333333333333333,
              "#9c179e"
             ],
             [
              0.4444444444444444,
              "#bd3786"
             ],
             [
              0.5555555555555556,
              "#d8576b"
             ],
             [
              0.6666666666666666,
              "#ed7953"
             ],
             [
              0.7777777777777778,
              "#fb9f3a"
             ],
             [
              0.8888888888888888,
              "#fdca26"
             ],
             [
              1,
              "#f0f921"
             ]
            ],
            "type": "histogram2d"
           }
          ],
          "histogram2dcontour": [
           {
            "colorbar": {
             "outlinewidth": 0,
             "ticks": ""
            },
            "colorscale": [
             [
              0,
              "#0d0887"
             ],
             [
              0.1111111111111111,
              "#46039f"
             ],
             [
              0.2222222222222222,
              "#7201a8"
             ],
             [
              0.3333333333333333,
              "#9c179e"
             ],
             [
              0.4444444444444444,
              "#bd3786"
             ],
             [
              0.5555555555555556,
              "#d8576b"
             ],
             [
              0.6666666666666666,
              "#ed7953"
             ],
             [
              0.7777777777777778,
              "#fb9f3a"
             ],
             [
              0.8888888888888888,
              "#fdca26"
             ],
             [
              1,
              "#f0f921"
             ]
            ],
            "type": "histogram2dcontour"
           }
          ],
          "mesh3d": [
           {
            "colorbar": {
             "outlinewidth": 0,
             "ticks": ""
            },
            "type": "mesh3d"
           }
          ],
          "parcoords": [
           {
            "line": {
             "colorbar": {
              "outlinewidth": 0,
              "ticks": ""
             }
            },
            "type": "parcoords"
           }
          ],
          "pie": [
           {
            "automargin": true,
            "type": "pie"
           }
          ],
          "scatter": [
           {
            "fillpattern": {
             "fillmode": "overlay",
             "size": 10,
             "solidity": 0.2
            },
            "type": "scatter"
           }
          ],
          "scatter3d": [
           {
            "line": {
             "colorbar": {
              "outlinewidth": 0,
              "ticks": ""
             }
            },
            "marker": {
             "colorbar": {
              "outlinewidth": 0,
              "ticks": ""
             }
            },
            "type": "scatter3d"
           }
          ],
          "scattercarpet": [
           {
            "marker": {
             "colorbar": {
              "outlinewidth": 0,
              "ticks": ""
             }
            },
            "type": "scattercarpet"
           }
          ],
          "scattergeo": [
           {
            "marker": {
             "colorbar": {
              "outlinewidth": 0,
              "ticks": ""
             }
            },
            "type": "scattergeo"
           }
          ],
          "scattergl": [
           {
            "marker": {
             "colorbar": {
              "outlinewidth": 0,
              "ticks": ""
             }
            },
            "type": "scattergl"
           }
          ],
          "scattermapbox": [
           {
            "marker": {
             "colorbar": {
              "outlinewidth": 0,
              "ticks": ""
             }
            },
            "type": "scattermapbox"
           }
          ],
          "scatterpolar": [
           {
            "marker": {
             "colorbar": {
              "outlinewidth": 0,
              "ticks": ""
             }
            },
            "type": "scatterpolar"
           }
          ],
          "scatterpolargl": [
           {
            "marker": {
             "colorbar": {
              "outlinewidth": 0,
              "ticks": ""
             }
            },
            "type": "scatterpolargl"
           }
          ],
          "scatterternary": [
           {
            "marker": {
             "colorbar": {
              "outlinewidth": 0,
              "ticks": ""
             }
            },
            "type": "scatterternary"
           }
          ],
          "surface": [
           {
            "colorbar": {
             "outlinewidth": 0,
             "ticks": ""
            },
            "colorscale": [
             [
              0,
              "#0d0887"
             ],
             [
              0.1111111111111111,
              "#46039f"
             ],
             [
              0.2222222222222222,
              "#7201a8"
             ],
             [
              0.3333333333333333,
              "#9c179e"
             ],
             [
              0.4444444444444444,
              "#bd3786"
             ],
             [
              0.5555555555555556,
              "#d8576b"
             ],
             [
              0.6666666666666666,
              "#ed7953"
             ],
             [
              0.7777777777777778,
              "#fb9f3a"
             ],
             [
              0.8888888888888888,
              "#fdca26"
             ],
             [
              1,
              "#f0f921"
             ]
            ],
            "type": "surface"
           }
          ],
          "table": [
           {
            "cells": {
             "fill": {
              "color": "#EBF0F8"
             },
             "line": {
              "color": "white"
             }
            },
            "header": {
             "fill": {
              "color": "#C8D4E3"
             },
             "line": {
              "color": "white"
             }
            },
            "type": "table"
           }
          ]
         },
         "layout": {
          "annotationdefaults": {
           "arrowcolor": "#2a3f5f",
           "arrowhead": 0,
           "arrowwidth": 1
          },
          "autotypenumbers": "strict",
          "coloraxis": {
           "colorbar": {
            "outlinewidth": 0,
            "ticks": ""
           }
          },
          "colorscale": {
           "diverging": [
            [
             0,
             "#8e0152"
            ],
            [
             0.1,
             "#c51b7d"
            ],
            [
             0.2,
             "#de77ae"
            ],
            [
             0.3,
             "#f1b6da"
            ],
            [
             0.4,
             "#fde0ef"
            ],
            [
             0.5,
             "#f7f7f7"
            ],
            [
             0.6,
             "#e6f5d0"
            ],
            [
             0.7,
             "#b8e186"
            ],
            [
             0.8,
             "#7fbc41"
            ],
            [
             0.9,
             "#4d9221"
            ],
            [
             1,
             "#276419"
            ]
           ],
           "sequential": [
            [
             0,
             "#0d0887"
            ],
            [
             0.1111111111111111,
             "#46039f"
            ],
            [
             0.2222222222222222,
             "#7201a8"
            ],
            [
             0.3333333333333333,
             "#9c179e"
            ],
            [
             0.4444444444444444,
             "#bd3786"
            ],
            [
             0.5555555555555556,
             "#d8576b"
            ],
            [
             0.6666666666666666,
             "#ed7953"
            ],
            [
             0.7777777777777778,
             "#fb9f3a"
            ],
            [
             0.8888888888888888,
             "#fdca26"
            ],
            [
             1,
             "#f0f921"
            ]
           ],
           "sequentialminus": [
            [
             0,
             "#0d0887"
            ],
            [
             0.1111111111111111,
             "#46039f"
            ],
            [
             0.2222222222222222,
             "#7201a8"
            ],
            [
             0.3333333333333333,
             "#9c179e"
            ],
            [
             0.4444444444444444,
             "#bd3786"
            ],
            [
             0.5555555555555556,
             "#d8576b"
            ],
            [
             0.6666666666666666,
             "#ed7953"
            ],
            [
             0.7777777777777778,
             "#fb9f3a"
            ],
            [
             0.8888888888888888,
             "#fdca26"
            ],
            [
             1,
             "#f0f921"
            ]
           ]
          },
          "colorway": [
           "#636efa",
           "#EF553B",
           "#00cc96",
           "#ab63fa",
           "#FFA15A",
           "#19d3f3",
           "#FF6692",
           "#B6E880",
           "#FF97FF",
           "#FECB52"
          ],
          "font": {
           "color": "#2a3f5f"
          },
          "geo": {
           "bgcolor": "white",
           "lakecolor": "white",
           "landcolor": "#E5ECF6",
           "showlakes": true,
           "showland": true,
           "subunitcolor": "white"
          },
          "hoverlabel": {
           "align": "left"
          },
          "hovermode": "closest",
          "mapbox": {
           "style": "light"
          },
          "paper_bgcolor": "white",
          "plot_bgcolor": "#E5ECF6",
          "polar": {
           "angularaxis": {
            "gridcolor": "white",
            "linecolor": "white",
            "ticks": ""
           },
           "bgcolor": "#E5ECF6",
           "radialaxis": {
            "gridcolor": "white",
            "linecolor": "white",
            "ticks": ""
           }
          },
          "scene": {
           "xaxis": {
            "backgroundcolor": "#E5ECF6",
            "gridcolor": "white",
            "gridwidth": 2,
            "linecolor": "white",
            "showbackground": true,
            "ticks": "",
            "zerolinecolor": "white"
           },
           "yaxis": {
            "backgroundcolor": "#E5ECF6",
            "gridcolor": "white",
            "gridwidth": 2,
            "linecolor": "white",
            "showbackground": true,
            "ticks": "",
            "zerolinecolor": "white"
           },
           "zaxis": {
            "backgroundcolor": "#E5ECF6",
            "gridcolor": "white",
            "gridwidth": 2,
            "linecolor": "white",
            "showbackground": true,
            "ticks": "",
            "zerolinecolor": "white"
           }
          },
          "shapedefaults": {
           "line": {
            "color": "#2a3f5f"
           }
          },
          "ternary": {
           "aaxis": {
            "gridcolor": "white",
            "linecolor": "white",
            "ticks": ""
           },
           "baxis": {
            "gridcolor": "white",
            "linecolor": "white",
            "ticks": ""
           },
           "bgcolor": "#E5ECF6",
           "caxis": {
            "gridcolor": "white",
            "linecolor": "white",
            "ticks": ""
           }
          },
          "title": {
           "x": 0.05
          },
          "xaxis": {
           "automargin": true,
           "gridcolor": "white",
           "linecolor": "white",
           "ticks": "",
           "title": {
            "standoff": 15
           },
           "zerolinecolor": "white",
           "zerolinewidth": 2
          },
          "yaxis": {
           "automargin": true,
           "gridcolor": "white",
           "linecolor": "white",
           "ticks": "",
           "title": {
            "standoff": 15
           },
           "zerolinecolor": "white",
           "zerolinewidth": 2
          }
         }
        },
        "xaxis": {
         "anchor": "y",
         "domain": [
          0,
          1
         ],
         "title": {
          "text": "number"
         }
        },
        "yaxis": {
         "anchor": "x",
         "domain": [
          0,
          1
         ],
         "title": {
          "text": "stage"
         }
        }
       }
      }
     },
     "metadata": {},
     "output_type": "display_data"
    }
   ],
   "source": [
    "data = dict(\n",
    "    number= [2424,3744,543,7111,804],\n",
    "    stage=['2','3','4','6','7'])\n",
    "fig = px.funnel(data, x='number', y='stage')\n",
    "fig.show()"
   ]
  },
  {
   "cell_type": "code",
   "execution_count": 64,
   "metadata": {},
   "outputs": [
    {
     "data": {
      "text/plain": [
       "visit_id                                    2023521183830376547\n",
       "step          [2, 2, 2, 2, 2, 2, 2, 2, 2, 2, 2, 2, 3, 3, 6, ...\n",
       "final_step                                                    0\n",
       "Name: 0, dtype: object"
      ]
     },
     "execution_count": 64,
     "metadata": {},
     "output_type": "execute_result"
    }
   ],
   "source": [
    "data_reduced.query('5 in step & ~(6 in step)')"
   ]
  },
  {
   "cell_type": "markdown",
   "metadata": {},
   "source": [
    "Нет таких сессий, в которыйх бы был 5 шаг  и не было б шестого"
   ]
  }
 ],
 "metadata": {
  "kernelspec": {
   "display_name": "Python 3 (ipykernel)",
   "language": "python",
   "name": "python3"
  },
  "language_info": {
   "codemirror_mode": {
    "name": "ipython",
    "version": 3
   },
   "file_extension": ".py",
   "mimetype": "text/x-python",
   "name": "python",
   "nbconvert_exporter": "python",
   "pygments_lexer": "ipython3",
   "version": "3.10.6"
  },
  "vscode": {
   "interpreter": {
    "hash": "0ad3aa4c500f953d2d972a195b8aa394cb62e9d78f3a6be906eb896857f3c26b"
   }
  }
 },
 "nbformat": 4,
 "nbformat_minor": 2
}
