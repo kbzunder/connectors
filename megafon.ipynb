{
 "cells": [
  {
   "cell_type": "code",
   "execution_count": 161,
   "metadata": {},
   "outputs": [],
   "source": [
    "import pandas as pd\n",
    "import re\n",
    "import datetime\n",
    "from datetime import datetime\n",
    "import pandasql\n",
    "from pandasql import sqldf\n",
    "import duckdb\n",
    "import plotly.express as px\n",
    "import pandoc\n",
    "import numpy as np"
   ]
  },
  {
   "cell_type": "code",
   "execution_count": 162,
   "metadata": {},
   "outputs": [],
   "source": [
    "visits = pd.read_csv('/Users/jullia/Downloads/Задания тендер/MFPlus_visits.csv',sep=';')"
   ]
  },
  {
   "cell_type": "code",
   "execution_count": 163,
   "metadata": {},
   "outputs": [
    {
     "data": {
      "text/html": [
       "<div>\n",
       "<style scoped>\n",
       "    .dataframe tbody tr th:only-of-type {\n",
       "        vertical-align: middle;\n",
       "    }\n",
       "\n",
       "    .dataframe tbody tr th {\n",
       "        vertical-align: top;\n",
       "    }\n",
       "\n",
       "    .dataframe thead th {\n",
       "        text-align: right;\n",
       "    }\n",
       "</style>\n",
       "<table border=\"1\" class=\"dataframe\">\n",
       "  <thead>\n",
       "    <tr style=\"text-align: right;\">\n",
       "      <th></th>\n",
       "      <th>ym:s:dateTime</th>\n",
       "      <th>ym:s:visitID</th>\n",
       "      <th>ym:s:clientID</th>\n",
       "      <th>ym:s:visitDuration</th>\n",
       "    </tr>\n",
       "  </thead>\n",
       "  <tbody>\n",
       "    <tr>\n",
       "      <th>126126</th>\n",
       "      <td>2022-05-08 08:55:01</td>\n",
       "      <td>2451702035276890223</td>\n",
       "      <td>1643485052686289873</td>\n",
       "      <td>9</td>\n",
       "    </tr>\n",
       "    <tr>\n",
       "      <th>126127</th>\n",
       "      <td>2022-05-12 17:50:52</td>\n",
       "      <td>2550727300977262630</td>\n",
       "      <td>1626677638121299271</td>\n",
       "      <td>15</td>\n",
       "    </tr>\n",
       "    <tr>\n",
       "      <th>126128</th>\n",
       "      <td>2022-05-07 19:40:26</td>\n",
       "      <td>2439204455185645824</td>\n",
       "      <td>1619204793497286942</td>\n",
       "      <td>25</td>\n",
       "    </tr>\n",
       "    <tr>\n",
       "      <th>126129</th>\n",
       "      <td>2022-05-17 06:39:19</td>\n",
       "      <td>2653410888589771079</td>\n",
       "      <td>1652758757191003836</td>\n",
       "      <td>49</td>\n",
       "    </tr>\n",
       "    <tr>\n",
       "      <th>126130</th>\n",
       "      <td>2022-05-11 11:08:45</td>\n",
       "      <td>2521753307715731674</td>\n",
       "      <td>1652014285507387565</td>\n",
       "      <td>15</td>\n",
       "    </tr>\n",
       "  </tbody>\n",
       "</table>\n",
       "</div>"
      ],
      "text/plain": [
       "              ym:s:dateTime         ym:s:visitID        ym:s:clientID  \\\n",
       "126126  2022-05-08 08:55:01  2451702035276890223  1643485052686289873   \n",
       "126127  2022-05-12 17:50:52  2550727300977262630  1626677638121299271   \n",
       "126128  2022-05-07 19:40:26  2439204455185645824  1619204793497286942   \n",
       "126129  2022-05-17 06:39:19  2653410888589771079  1652758757191003836   \n",
       "126130  2022-05-11 11:08:45  2521753307715731674  1652014285507387565   \n",
       "\n",
       "        ym:s:visitDuration  \n",
       "126126                   9  \n",
       "126127                  15  \n",
       "126128                  25  \n",
       "126129                  49  \n",
       "126130                  15  "
      ]
     },
     "execution_count": 163,
     "metadata": {},
     "output_type": "execute_result"
    }
   ],
   "source": [
    "visits.tail()"
   ]
  },
  {
   "cell_type": "code",
   "execution_count": 164,
   "metadata": {},
   "outputs": [
    {
     "data": {
      "text/html": [
       "<div>\n",
       "<style scoped>\n",
       "    .dataframe tbody tr th:only-of-type {\n",
       "        vertical-align: middle;\n",
       "    }\n",
       "\n",
       "    .dataframe tbody tr th {\n",
       "        vertical-align: top;\n",
       "    }\n",
       "\n",
       "    .dataframe thead th {\n",
       "        text-align: right;\n",
       "    }\n",
       "</style>\n",
       "<table border=\"1\" class=\"dataframe\">\n",
       "  <thead>\n",
       "    <tr style=\"text-align: right;\">\n",
       "      <th></th>\n",
       "      <th>ym:s:dateTime</th>\n",
       "      <th>ym:s:visitID</th>\n",
       "      <th>ym:s:clientID</th>\n",
       "      <th>ym:s:visitDuration</th>\n",
       "    </tr>\n",
       "  </thead>\n",
       "  <tbody>\n",
       "    <tr>\n",
       "      <th>20638</th>\n",
       "      <td>2022-05-02 15:04:31</td>\n",
       "      <td>2321618350904443053</td>\n",
       "      <td>16514930714918281</td>\n",
       "      <td>1841</td>\n",
       "    </tr>\n",
       "  </tbody>\n",
       "</table>\n",
       "</div>"
      ],
      "text/plain": [
       "             ym:s:dateTime         ym:s:visitID      ym:s:clientID  \\\n",
       "20638  2022-05-02 15:04:31  2321618350904443053  16514930714918281   \n",
       "\n",
       "       ym:s:visitDuration  \n",
       "20638                1841  "
      ]
     },
     "execution_count": 164,
     "metadata": {},
     "output_type": "execute_result"
    }
   ],
   "source": [
    "visits[visits['ym:s:visitID']==2321618350904443053]"
   ]
  },
  {
   "cell_type": "code",
   "execution_count": 165,
   "metadata": {},
   "outputs": [
    {
     "name": "stdout",
     "output_type": "stream",
     "text": [
      "<class 'pandas.core.frame.DataFrame'>\n",
      "RangeIndex: 126131 entries, 0 to 126130\n",
      "Data columns (total 4 columns):\n",
      " #   Column              Non-Null Count   Dtype \n",
      "---  ------              --------------   ----- \n",
      " 0   ym:s:dateTime       126131 non-null  object\n",
      " 1   ym:s:visitID        126131 non-null  int64 \n",
      " 2   ym:s:clientID       126131 non-null  uint64\n",
      " 3   ym:s:visitDuration  126131 non-null  int64 \n",
      "dtypes: int64(2), object(1), uint64(1)\n",
      "memory usage: 3.8+ MB\n"
     ]
    }
   ],
   "source": [
    "visits.info()"
   ]
  },
  {
   "cell_type": "code",
   "execution_count": 166,
   "metadata": {},
   "outputs": [],
   "source": [
    "#renaming columns\n",
    "visit_cols = ['date','visit_id','client_id','visit_duration']"
   ]
  },
  {
   "cell_type": "code",
   "execution_count": 167,
   "metadata": {},
   "outputs": [],
   "source": [
    "visits.columns = visit_cols"
   ]
  },
  {
   "cell_type": "code",
   "execution_count": 168,
   "metadata": {},
   "outputs": [
    {
     "data": {
      "text/html": [
       "<div>\n",
       "<style scoped>\n",
       "    .dataframe tbody tr th:only-of-type {\n",
       "        vertical-align: middle;\n",
       "    }\n",
       "\n",
       "    .dataframe tbody tr th {\n",
       "        vertical-align: top;\n",
       "    }\n",
       "\n",
       "    .dataframe thead th {\n",
       "        text-align: right;\n",
       "    }\n",
       "</style>\n",
       "<table border=\"1\" class=\"dataframe\">\n",
       "  <thead>\n",
       "    <tr style=\"text-align: right;\">\n",
       "      <th></th>\n",
       "      <th>date</th>\n",
       "      <th>visit_id</th>\n",
       "      <th>client_id</th>\n",
       "      <th>visit_duration</th>\n",
       "    </tr>\n",
       "  </thead>\n",
       "  <tbody>\n",
       "    <tr>\n",
       "      <th>0</th>\n",
       "      <td>2022-05-01 22:30:37</td>\n",
       "      <td>2305985862102679718</td>\n",
       "      <td>1648991419730583177</td>\n",
       "      <td>7</td>\n",
       "    </tr>\n",
       "    <tr>\n",
       "      <th>1</th>\n",
       "      <td>2022-04-28 22:31:57</td>\n",
       "      <td>2238059103780601873</td>\n",
       "      <td>1651082186327730631</td>\n",
       "      <td>7</td>\n",
       "    </tr>\n",
       "    <tr>\n",
       "      <th>2</th>\n",
       "      <td>2022-04-22 19:28:11</td>\n",
       "      <td>2099273109514748205</td>\n",
       "      <td>163851657390912688</td>\n",
       "      <td>0</td>\n",
       "    </tr>\n",
       "    <tr>\n",
       "      <th>3</th>\n",
       "      <td>2022-04-19 10:58:55</td>\n",
       "      <td>2023315303962509512</td>\n",
       "      <td>1650311540470343111</td>\n",
       "      <td>15</td>\n",
       "    </tr>\n",
       "    <tr>\n",
       "      <th>4</th>\n",
       "      <td>2022-05-09 04:31:18</td>\n",
       "      <td>2470203429493932112</td>\n",
       "      <td>1651822039339341135</td>\n",
       "      <td>0</td>\n",
       "    </tr>\n",
       "  </tbody>\n",
       "</table>\n",
       "</div>"
      ],
      "text/plain": [
       "                  date             visit_id            client_id  \\\n",
       "0  2022-05-01 22:30:37  2305985862102679718  1648991419730583177   \n",
       "1  2022-04-28 22:31:57  2238059103780601873  1651082186327730631   \n",
       "2  2022-04-22 19:28:11  2099273109514748205   163851657390912688   \n",
       "3  2022-04-19 10:58:55  2023315303962509512  1650311540470343111   \n",
       "4  2022-05-09 04:31:18  2470203429493932112  1651822039339341135   \n",
       "\n",
       "   visit_duration  \n",
       "0               7  \n",
       "1               7  \n",
       "2               0  \n",
       "3              15  \n",
       "4               0  "
      ]
     },
     "execution_count": 168,
     "metadata": {},
     "output_type": "execute_result"
    }
   ],
   "source": [
    "visits.head()"
   ]
  },
  {
   "cell_type": "code",
   "execution_count": 169,
   "metadata": {},
   "outputs": [],
   "source": [
    "# определяем начало сессии, приводим к формату даты-времени\n",
    "visits['visit_start'] = pd.to_datetime(visits['date'])"
   ]
  },
  {
   "cell_type": "code",
   "execution_count": 341,
   "metadata": {},
   "outputs": [],
   "source": [
    "hits = pd.read_csv('/Users/jullia/Downloads/Задания тендер/MFPlus_hits.csv', sep=';')\n"
   ]
  },
  {
   "cell_type": "code",
   "execution_count": 342,
   "metadata": {},
   "outputs": [
    {
     "data": {
      "text/html": [
       "<div>\n",
       "<style scoped>\n",
       "    .dataframe tbody tr th:only-of-type {\n",
       "        vertical-align: middle;\n",
       "    }\n",
       "\n",
       "    .dataframe tbody tr th {\n",
       "        vertical-align: top;\n",
       "    }\n",
       "\n",
       "    .dataframe thead th {\n",
       "        text-align: right;\n",
       "    }\n",
       "</style>\n",
       "<table border=\"1\" class=\"dataframe\">\n",
       "  <thead>\n",
       "    <tr style=\"text-align: right;\">\n",
       "      <th></th>\n",
       "      <th>ym:pv:dateTime</th>\n",
       "      <th>ym:pv:watchID</th>\n",
       "      <th>ym:pv:clientID</th>\n",
       "      <th>ym:pv:URL</th>\n",
       "      <th>ym:pv:parsedParamsKey2</th>\n",
       "      <th>ym:pv:parsedParamsKey3</th>\n",
       "      <th>ym:pv:parsedParamsKey4</th>\n",
       "      <th>ym:pv:parsedParamsKey5</th>\n",
       "    </tr>\n",
       "  </thead>\n",
       "  <tbody>\n",
       "    <tr>\n",
       "      <th>0</th>\n",
       "      <td>2022-05-15 22:51:06</td>\n",
       "      <td>2623397282019803354</td>\n",
       "      <td>16138276891048456082</td>\n",
       "      <td>https://plus.megafon.ru/</td>\n",
       "      <td>[]</td>\n",
       "      <td>[]</td>\n",
       "      <td>[]</td>\n",
       "      <td>[]</td>\n",
       "    </tr>\n",
       "    <tr>\n",
       "      <th>1</th>\n",
       "      <td>2022-05-15 22:51:12</td>\n",
       "      <td>2623398959716761898</td>\n",
       "      <td>16138276891048456082</td>\n",
       "      <td>https://plus.megafon.ru/</td>\n",
       "      <td>['plus-web [prod] / NAVIGATIONS']</td>\n",
       "      <td>['useNavigations / [МФ+] / Scroll / ']</td>\n",
       "      <td>['20']</td>\n",
       "      <td>['d-v429-e1']</td>\n",
       "    </tr>\n",
       "    <tr>\n",
       "      <th>2</th>\n",
       "      <td>2022-05-15 22:51:12</td>\n",
       "      <td>2623398977377402942</td>\n",
       "      <td>16138276891048456082</td>\n",
       "      <td>goal://plus.megafon.ru/MegafonPlusScroll_20</td>\n",
       "      <td>[]</td>\n",
       "      <td>[]</td>\n",
       "      <td>[]</td>\n",
       "      <td>[]</td>\n",
       "    </tr>\n",
       "    <tr>\n",
       "      <th>3</th>\n",
       "      <td>2022-05-15 22:51:20</td>\n",
       "      <td>2623400872067203452</td>\n",
       "      <td>16138276891048456082</td>\n",
       "      <td>https://plus.megafon.ru/</td>\n",
       "      <td>['plus-web [prod] / NAVIGATIONS']</td>\n",
       "      <td>['useNavigations / [МФ+] / Scroll / ']</td>\n",
       "      <td>['40']</td>\n",
       "      <td>['d-v429-e1']</td>\n",
       "    </tr>\n",
       "    <tr>\n",
       "      <th>4</th>\n",
       "      <td>2022-05-15 22:51:20</td>\n",
       "      <td>2623400887705403727</td>\n",
       "      <td>16138276891048456082</td>\n",
       "      <td>goal://plus.megafon.ru/MegafonPlusScroll_40</td>\n",
       "      <td>[]</td>\n",
       "      <td>[]</td>\n",
       "      <td>[]</td>\n",
       "      <td>[]</td>\n",
       "    </tr>\n",
       "  </tbody>\n",
       "</table>\n",
       "</div>"
      ],
      "text/plain": [
       "        ym:pv:dateTime        ym:pv:watchID        ym:pv:clientID  \\\n",
       "0  2022-05-15 22:51:06  2623397282019803354  16138276891048456082   \n",
       "1  2022-05-15 22:51:12  2623398959716761898  16138276891048456082   \n",
       "2  2022-05-15 22:51:12  2623398977377402942  16138276891048456082   \n",
       "3  2022-05-15 22:51:20  2623400872067203452  16138276891048456082   \n",
       "4  2022-05-15 22:51:20  2623400887705403727  16138276891048456082   \n",
       "\n",
       "                                     ym:pv:URL  \\\n",
       "0                     https://plus.megafon.ru/   \n",
       "1                     https://plus.megafon.ru/   \n",
       "2  goal://plus.megafon.ru/MegafonPlusScroll_20   \n",
       "3                     https://plus.megafon.ru/   \n",
       "4  goal://plus.megafon.ru/MegafonPlusScroll_40   \n",
       "\n",
       "              ym:pv:parsedParamsKey2                  ym:pv:parsedParamsKey3  \\\n",
       "0                                 []                                      []   \n",
       "1  ['plus-web [prod] / NAVIGATIONS']  ['useNavigations / [МФ+] / Scroll / ']   \n",
       "2                                 []                                      []   \n",
       "3  ['plus-web [prod] / NAVIGATIONS']  ['useNavigations / [МФ+] / Scroll / ']   \n",
       "4                                 []                                      []   \n",
       "\n",
       "  ym:pv:parsedParamsKey4 ym:pv:parsedParamsKey5  \n",
       "0                     []                     []  \n",
       "1                 ['20']          ['d-v429-e1']  \n",
       "2                     []                     []  \n",
       "3                 ['40']          ['d-v429-e1']  \n",
       "4                     []                     []  "
      ]
     },
     "execution_count": 342,
     "metadata": {},
     "output_type": "execute_result"
    }
   ],
   "source": [
    "hits.head()"
   ]
  },
  {
   "cell_type": "code",
   "execution_count": 343,
   "metadata": {},
   "outputs": [
    {
     "name": "stdout",
     "output_type": "stream",
     "text": [
      "<class 'pandas.core.frame.DataFrame'>\n",
      "RangeIndex: 962271 entries, 0 to 962270\n",
      "Data columns (total 8 columns):\n",
      " #   Column                  Non-Null Count   Dtype \n",
      "---  ------                  --------------   ----- \n",
      " 0   ym:pv:dateTime          962271 non-null  object\n",
      " 1   ym:pv:watchID           962271 non-null  int64 \n",
      " 2   ym:pv:clientID          962271 non-null  uint64\n",
      " 3   ym:pv:URL               962271 non-null  object\n",
      " 4   ym:pv:parsedParamsKey2  962271 non-null  object\n",
      " 5   ym:pv:parsedParamsKey3  962271 non-null  object\n",
      " 6   ym:pv:parsedParamsKey4  962271 non-null  object\n",
      " 7   ym:pv:parsedParamsKey5  962271 non-null  object\n",
      "dtypes: int64(1), object(6), uint64(1)\n",
      "memory usage: 58.7+ MB\n"
     ]
    }
   ],
   "source": [
    "hits.info()"
   ]
  },
  {
   "cell_type": "code",
   "execution_count": 345,
   "metadata": {},
   "outputs": [],
   "source": [
    "# переименовываем столбцы\n",
    "hits_columns = ['date','watch_id','client_id','url','param2','param3','param4','param5']"
   ]
  },
  {
   "cell_type": "code",
   "execution_count": 346,
   "metadata": {},
   "outputs": [],
   "source": [
    "hits.columns = hits_columns"
   ]
  },
  {
   "cell_type": "code",
   "execution_count": 347,
   "metadata": {},
   "outputs": [
    {
     "data": {
      "text/html": [
       "<div>\n",
       "<style scoped>\n",
       "    .dataframe tbody tr th:only-of-type {\n",
       "        vertical-align: middle;\n",
       "    }\n",
       "\n",
       "    .dataframe tbody tr th {\n",
       "        vertical-align: top;\n",
       "    }\n",
       "\n",
       "    .dataframe thead th {\n",
       "        text-align: right;\n",
       "    }\n",
       "</style>\n",
       "<table border=\"1\" class=\"dataframe\">\n",
       "  <thead>\n",
       "    <tr style=\"text-align: right;\">\n",
       "      <th></th>\n",
       "      <th>date</th>\n",
       "      <th>watch_id</th>\n",
       "      <th>client_id</th>\n",
       "      <th>url</th>\n",
       "      <th>param2</th>\n",
       "      <th>param3</th>\n",
       "      <th>param4</th>\n",
       "      <th>param5</th>\n",
       "    </tr>\n",
       "  </thead>\n",
       "  <tbody>\n",
       "    <tr>\n",
       "      <th>0</th>\n",
       "      <td>2022-05-15 22:51:06</td>\n",
       "      <td>2623397282019803354</td>\n",
       "      <td>16138276891048456082</td>\n",
       "      <td>https://plus.megafon.ru/</td>\n",
       "      <td>[]</td>\n",
       "      <td>[]</td>\n",
       "      <td>[]</td>\n",
       "      <td>[]</td>\n",
       "    </tr>\n",
       "    <tr>\n",
       "      <th>1</th>\n",
       "      <td>2022-05-15 22:51:12</td>\n",
       "      <td>2623398959716761898</td>\n",
       "      <td>16138276891048456082</td>\n",
       "      <td>https://plus.megafon.ru/</td>\n",
       "      <td>['plus-web [prod] / NAVIGATIONS']</td>\n",
       "      <td>['useNavigations / [МФ+] / Scroll / ']</td>\n",
       "      <td>['20']</td>\n",
       "      <td>['d-v429-e1']</td>\n",
       "    </tr>\n",
       "    <tr>\n",
       "      <th>2</th>\n",
       "      <td>2022-05-15 22:51:12</td>\n",
       "      <td>2623398977377402942</td>\n",
       "      <td>16138276891048456082</td>\n",
       "      <td>goal://plus.megafon.ru/MegafonPlusScroll_20</td>\n",
       "      <td>[]</td>\n",
       "      <td>[]</td>\n",
       "      <td>[]</td>\n",
       "      <td>[]</td>\n",
       "    </tr>\n",
       "    <tr>\n",
       "      <th>3</th>\n",
       "      <td>2022-05-15 22:51:20</td>\n",
       "      <td>2623400872067203452</td>\n",
       "      <td>16138276891048456082</td>\n",
       "      <td>https://plus.megafon.ru/</td>\n",
       "      <td>['plus-web [prod] / NAVIGATIONS']</td>\n",
       "      <td>['useNavigations / [МФ+] / Scroll / ']</td>\n",
       "      <td>['40']</td>\n",
       "      <td>['d-v429-e1']</td>\n",
       "    </tr>\n",
       "    <tr>\n",
       "      <th>4</th>\n",
       "      <td>2022-05-15 22:51:20</td>\n",
       "      <td>2623400887705403727</td>\n",
       "      <td>16138276891048456082</td>\n",
       "      <td>goal://plus.megafon.ru/MegafonPlusScroll_40</td>\n",
       "      <td>[]</td>\n",
       "      <td>[]</td>\n",
       "      <td>[]</td>\n",
       "      <td>[]</td>\n",
       "    </tr>\n",
       "  </tbody>\n",
       "</table>\n",
       "</div>"
      ],
      "text/plain": [
       "                  date             watch_id             client_id  \\\n",
       "0  2022-05-15 22:51:06  2623397282019803354  16138276891048456082   \n",
       "1  2022-05-15 22:51:12  2623398959716761898  16138276891048456082   \n",
       "2  2022-05-15 22:51:12  2623398977377402942  16138276891048456082   \n",
       "3  2022-05-15 22:51:20  2623400872067203452  16138276891048456082   \n",
       "4  2022-05-15 22:51:20  2623400887705403727  16138276891048456082   \n",
       "\n",
       "                                           url  \\\n",
       "0                     https://plus.megafon.ru/   \n",
       "1                     https://plus.megafon.ru/   \n",
       "2  goal://plus.megafon.ru/MegafonPlusScroll_20   \n",
       "3                     https://plus.megafon.ru/   \n",
       "4  goal://plus.megafon.ru/MegafonPlusScroll_40   \n",
       "\n",
       "                              param2                                  param3  \\\n",
       "0                                 []                                      []   \n",
       "1  ['plus-web [prod] / NAVIGATIONS']  ['useNavigations / [МФ+] / Scroll / ']   \n",
       "2                                 []                                      []   \n",
       "3  ['plus-web [prod] / NAVIGATIONS']  ['useNavigations / [МФ+] / Scroll / ']   \n",
       "4                                 []                                      []   \n",
       "\n",
       "   param4         param5  \n",
       "0      []             []  \n",
       "1  ['20']  ['d-v429-e1']  \n",
       "2      []             []  \n",
       "3  ['40']  ['d-v429-e1']  \n",
       "4      []             []  "
      ]
     },
     "execution_count": 347,
     "metadata": {},
     "output_type": "execute_result"
    }
   ],
   "source": [
    "hits.head(5)"
   ]
  },
  {
   "cell_type": "code",
   "execution_count": 348,
   "metadata": {},
   "outputs": [],
   "source": [
    "#добавляем время хита в формате даты-времени\n",
    "hits['hit_time'] = pd.to_datetime(hits['date'])"
   ]
  },
  {
   "cell_type": "code",
   "execution_count": 349,
   "metadata": {},
   "outputs": [],
   "source": [
    "hits['watch_id'] = hits['watch_id'].astype('str')"
   ]
  },
  {
   "cell_type": "code",
   "execution_count": 351,
   "metadata": {},
   "outputs": [],
   "source": [
    "# определяем окончание сессии\n",
    "visits['visit_end'] = visits['visit_start'] + pd.to_timedelta(visits['visit_duration'], unit='s')"
   ]
  },
  {
   "cell_type": "code",
   "execution_count": 352,
   "metadata": {},
   "outputs": [
    {
     "data": {
      "text/html": [
       "<div>\n",
       "<style scoped>\n",
       "    .dataframe tbody tr th:only-of-type {\n",
       "        vertical-align: middle;\n",
       "    }\n",
       "\n",
       "    .dataframe tbody tr th {\n",
       "        vertical-align: top;\n",
       "    }\n",
       "\n",
       "    .dataframe thead th {\n",
       "        text-align: right;\n",
       "    }\n",
       "</style>\n",
       "<table border=\"1\" class=\"dataframe\">\n",
       "  <thead>\n",
       "    <tr style=\"text-align: right;\">\n",
       "      <th></th>\n",
       "      <th>date</th>\n",
       "      <th>visit_id</th>\n",
       "      <th>client_id</th>\n",
       "      <th>visit_duration</th>\n",
       "      <th>visit_start</th>\n",
       "      <th>visit_end</th>\n",
       "    </tr>\n",
       "  </thead>\n",
       "  <tbody>\n",
       "    <tr>\n",
       "      <th>0</th>\n",
       "      <td>2022-05-01 22:30:37</td>\n",
       "      <td>2305985862102679718</td>\n",
       "      <td>1648991419730583177</td>\n",
       "      <td>7</td>\n",
       "      <td>2022-05-01 22:30:37</td>\n",
       "      <td>2022-05-01 22:30:44</td>\n",
       "    </tr>\n",
       "    <tr>\n",
       "      <th>1</th>\n",
       "      <td>2022-04-28 22:31:57</td>\n",
       "      <td>2238059103780601873</td>\n",
       "      <td>1651082186327730631</td>\n",
       "      <td>7</td>\n",
       "      <td>2022-04-28 22:31:57</td>\n",
       "      <td>2022-04-28 22:32:04</td>\n",
       "    </tr>\n",
       "    <tr>\n",
       "      <th>2</th>\n",
       "      <td>2022-04-22 19:28:11</td>\n",
       "      <td>2099273109514748205</td>\n",
       "      <td>163851657390912688</td>\n",
       "      <td>0</td>\n",
       "      <td>2022-04-22 19:28:11</td>\n",
       "      <td>2022-04-22 19:28:11</td>\n",
       "    </tr>\n",
       "    <tr>\n",
       "      <th>3</th>\n",
       "      <td>2022-04-19 10:58:55</td>\n",
       "      <td>2023315303962509512</td>\n",
       "      <td>1650311540470343111</td>\n",
       "      <td>15</td>\n",
       "      <td>2022-04-19 10:58:55</td>\n",
       "      <td>2022-04-19 10:59:10</td>\n",
       "    </tr>\n",
       "    <tr>\n",
       "      <th>4</th>\n",
       "      <td>2022-05-09 04:31:18</td>\n",
       "      <td>2470203429493932112</td>\n",
       "      <td>1651822039339341135</td>\n",
       "      <td>0</td>\n",
       "      <td>2022-05-09 04:31:18</td>\n",
       "      <td>2022-05-09 04:31:18</td>\n",
       "    </tr>\n",
       "    <tr>\n",
       "      <th>...</th>\n",
       "      <td>...</td>\n",
       "      <td>...</td>\n",
       "      <td>...</td>\n",
       "      <td>...</td>\n",
       "      <td>...</td>\n",
       "      <td>...</td>\n",
       "    </tr>\n",
       "    <tr>\n",
       "      <th>126126</th>\n",
       "      <td>2022-05-08 08:55:01</td>\n",
       "      <td>2451702035276890223</td>\n",
       "      <td>1643485052686289873</td>\n",
       "      <td>9</td>\n",
       "      <td>2022-05-08 08:55:01</td>\n",
       "      <td>2022-05-08 08:55:10</td>\n",
       "    </tr>\n",
       "    <tr>\n",
       "      <th>126127</th>\n",
       "      <td>2022-05-12 17:50:52</td>\n",
       "      <td>2550727300977262630</td>\n",
       "      <td>1626677638121299271</td>\n",
       "      <td>15</td>\n",
       "      <td>2022-05-12 17:50:52</td>\n",
       "      <td>2022-05-12 17:51:07</td>\n",
       "    </tr>\n",
       "    <tr>\n",
       "      <th>126128</th>\n",
       "      <td>2022-05-07 19:40:26</td>\n",
       "      <td>2439204455185645824</td>\n",
       "      <td>1619204793497286942</td>\n",
       "      <td>25</td>\n",
       "      <td>2022-05-07 19:40:26</td>\n",
       "      <td>2022-05-07 19:40:51</td>\n",
       "    </tr>\n",
       "    <tr>\n",
       "      <th>126129</th>\n",
       "      <td>2022-05-17 06:39:19</td>\n",
       "      <td>2653410888589771079</td>\n",
       "      <td>1652758757191003836</td>\n",
       "      <td>49</td>\n",
       "      <td>2022-05-17 06:39:19</td>\n",
       "      <td>2022-05-17 06:40:08</td>\n",
       "    </tr>\n",
       "    <tr>\n",
       "      <th>126130</th>\n",
       "      <td>2022-05-11 11:08:45</td>\n",
       "      <td>2521753307715731674</td>\n",
       "      <td>1652014285507387565</td>\n",
       "      <td>15</td>\n",
       "      <td>2022-05-11 11:08:45</td>\n",
       "      <td>2022-05-11 11:09:00</td>\n",
       "    </tr>\n",
       "  </tbody>\n",
       "</table>\n",
       "<p>126131 rows × 6 columns</p>\n",
       "</div>"
      ],
      "text/plain": [
       "                       date             visit_id            client_id  \\\n",
       "0       2022-05-01 22:30:37  2305985862102679718  1648991419730583177   \n",
       "1       2022-04-28 22:31:57  2238059103780601873  1651082186327730631   \n",
       "2       2022-04-22 19:28:11  2099273109514748205   163851657390912688   \n",
       "3       2022-04-19 10:58:55  2023315303962509512  1650311540470343111   \n",
       "4       2022-05-09 04:31:18  2470203429493932112  1651822039339341135   \n",
       "...                     ...                  ...                  ...   \n",
       "126126  2022-05-08 08:55:01  2451702035276890223  1643485052686289873   \n",
       "126127  2022-05-12 17:50:52  2550727300977262630  1626677638121299271   \n",
       "126128  2022-05-07 19:40:26  2439204455185645824  1619204793497286942   \n",
       "126129  2022-05-17 06:39:19  2653410888589771079  1652758757191003836   \n",
       "126130  2022-05-11 11:08:45  2521753307715731674  1652014285507387565   \n",
       "\n",
       "        visit_duration         visit_start           visit_end  \n",
       "0                    7 2022-05-01 22:30:37 2022-05-01 22:30:44  \n",
       "1                    7 2022-04-28 22:31:57 2022-04-28 22:32:04  \n",
       "2                    0 2022-04-22 19:28:11 2022-04-22 19:28:11  \n",
       "3                   15 2022-04-19 10:58:55 2022-04-19 10:59:10  \n",
       "4                    0 2022-05-09 04:31:18 2022-05-09 04:31:18  \n",
       "...                ...                 ...                 ...  \n",
       "126126               9 2022-05-08 08:55:01 2022-05-08 08:55:10  \n",
       "126127              15 2022-05-12 17:50:52 2022-05-12 17:51:07  \n",
       "126128              25 2022-05-07 19:40:26 2022-05-07 19:40:51  \n",
       "126129              49 2022-05-17 06:39:19 2022-05-17 06:40:08  \n",
       "126130              15 2022-05-11 11:08:45 2022-05-11 11:09:00  \n",
       "\n",
       "[126131 rows x 6 columns]"
      ]
     },
     "execution_count": 352,
     "metadata": {},
     "output_type": "execute_result"
    }
   ],
   "source": [
    "visits"
   ]
  },
  {
   "cell_type": "code",
   "execution_count": 254,
   "metadata": {},
   "outputs": [],
   "source": [
    "#преобразуем шаги для удобства обработки\n",
    "def work_with_string(el):\n",
    "    return \"_\".join(re.sub(r'[\\[\\]\\/\\']',\"\",el).replace(\"  \",\" \").strip().split(\" \"))"
   ]
  },
  {
   "cell_type": "code",
   "execution_count": 255,
   "metadata": {},
   "outputs": [],
   "source": [
    "cols = ['ParamsKey2', 'ParamsKey3', 'ParamsKey4', 'ParamsKey5']"
   ]
  },
  {
   "cell_type": "code",
   "execution_count": 256,
   "metadata": {},
   "outputs": [],
   "source": [
    "for col  in cols:\n",
    "    hits[col] = hits[col].apply(lambda x: work_with_string(x))"
   ]
  },
  {
   "cell_type": "code",
   "execution_count": 257,
   "metadata": {},
   "outputs": [
    {
     "data": {
      "text/html": [
       "<div>\n",
       "<style scoped>\n",
       "    .dataframe tbody tr th:only-of-type {\n",
       "        vertical-align: middle;\n",
       "    }\n",
       "\n",
       "    .dataframe tbody tr th {\n",
       "        vertical-align: top;\n",
       "    }\n",
       "\n",
       "    .dataframe thead th {\n",
       "        text-align: right;\n",
       "    }\n",
       "</style>\n",
       "<table border=\"1\" class=\"dataframe\">\n",
       "  <thead>\n",
       "    <tr style=\"text-align: right;\">\n",
       "      <th></th>\n",
       "      <th>date</th>\n",
       "      <th>watch_id</th>\n",
       "      <th>client_id</th>\n",
       "      <th>url</th>\n",
       "      <th>ParamsKey2</th>\n",
       "      <th>ParamsKey3</th>\n",
       "      <th>ParamsKey4</th>\n",
       "      <th>ParamsKey5</th>\n",
       "      <th>hit_time</th>\n",
       "    </tr>\n",
       "  </thead>\n",
       "  <tbody>\n",
       "    <tr>\n",
       "      <th>0</th>\n",
       "      <td>2022-05-15 22:51:06</td>\n",
       "      <td>2623397282019803354</td>\n",
       "      <td>16138276891048456082</td>\n",
       "      <td>https://plus.megafon.ru/</td>\n",
       "      <td></td>\n",
       "      <td></td>\n",
       "      <td></td>\n",
       "      <td></td>\n",
       "      <td>2022-05-15 22:51:06</td>\n",
       "    </tr>\n",
       "    <tr>\n",
       "      <th>1</th>\n",
       "      <td>2022-05-15 22:51:12</td>\n",
       "      <td>2623398959716761898</td>\n",
       "      <td>16138276891048456082</td>\n",
       "      <td>https://plus.megafon.ru/</td>\n",
       "      <td>plus-web_prod_NAVIGATIONS</td>\n",
       "      <td>useNavigations_МФ+_Scroll</td>\n",
       "      <td>20</td>\n",
       "      <td>d-v429-e1</td>\n",
       "      <td>2022-05-15 22:51:12</td>\n",
       "    </tr>\n",
       "    <tr>\n",
       "      <th>2</th>\n",
       "      <td>2022-05-15 22:51:12</td>\n",
       "      <td>2623398977377402942</td>\n",
       "      <td>16138276891048456082</td>\n",
       "      <td>goal://plus.megafon.ru/MegafonPlusScroll_20</td>\n",
       "      <td></td>\n",
       "      <td></td>\n",
       "      <td></td>\n",
       "      <td></td>\n",
       "      <td>2022-05-15 22:51:12</td>\n",
       "    </tr>\n",
       "    <tr>\n",
       "      <th>3</th>\n",
       "      <td>2022-05-15 22:51:20</td>\n",
       "      <td>2623400872067203452</td>\n",
       "      <td>16138276891048456082</td>\n",
       "      <td>https://plus.megafon.ru/</td>\n",
       "      <td>plus-web_prod_NAVIGATIONS</td>\n",
       "      <td>useNavigations_МФ+_Scroll</td>\n",
       "      <td>40</td>\n",
       "      <td>d-v429-e1</td>\n",
       "      <td>2022-05-15 22:51:20</td>\n",
       "    </tr>\n",
       "    <tr>\n",
       "      <th>4</th>\n",
       "      <td>2022-05-15 22:51:20</td>\n",
       "      <td>2623400887705403727</td>\n",
       "      <td>16138276891048456082</td>\n",
       "      <td>goal://plus.megafon.ru/MegafonPlusScroll_40</td>\n",
       "      <td></td>\n",
       "      <td></td>\n",
       "      <td></td>\n",
       "      <td></td>\n",
       "      <td>2022-05-15 22:51:20</td>\n",
       "    </tr>\n",
       "  </tbody>\n",
       "</table>\n",
       "</div>"
      ],
      "text/plain": [
       "                  date             watch_id             client_id  \\\n",
       "0  2022-05-15 22:51:06  2623397282019803354  16138276891048456082   \n",
       "1  2022-05-15 22:51:12  2623398959716761898  16138276891048456082   \n",
       "2  2022-05-15 22:51:12  2623398977377402942  16138276891048456082   \n",
       "3  2022-05-15 22:51:20  2623400872067203452  16138276891048456082   \n",
       "4  2022-05-15 22:51:20  2623400887705403727  16138276891048456082   \n",
       "\n",
       "                                           url                 ParamsKey2  \\\n",
       "0                     https://plus.megafon.ru/                              \n",
       "1                     https://plus.megafon.ru/  plus-web_prod_NAVIGATIONS   \n",
       "2  goal://plus.megafon.ru/MegafonPlusScroll_20                              \n",
       "3                     https://plus.megafon.ru/  plus-web_prod_NAVIGATIONS   \n",
       "4  goal://plus.megafon.ru/MegafonPlusScroll_40                              \n",
       "\n",
       "                  ParamsKey3 ParamsKey4 ParamsKey5            hit_time  \n",
       "0                                                  2022-05-15 22:51:06  \n",
       "1  useNavigations_МФ+_Scroll         20  d-v429-e1 2022-05-15 22:51:12  \n",
       "2                                                  2022-05-15 22:51:12  \n",
       "3  useNavigations_МФ+_Scroll         40  d-v429-e1 2022-05-15 22:51:20  \n",
       "4                                                  2022-05-15 22:51:20  "
      ]
     },
     "execution_count": 257,
     "metadata": {},
     "output_type": "execute_result"
    }
   ],
   "source": [
    "hits.head()"
   ]
  },
  {
   "cell_type": "code",
   "execution_count": 338,
   "metadata": {},
   "outputs": [],
   "source": [
    "#импортируем словарь шагов\n",
    "steps = pd.read_csv('/Users/jullia/Downloads/steps - Sheet1.csv', nrows=28)"
   ]
  },
  {
   "cell_type": "code",
   "execution_count": 339,
   "metadata": {},
   "outputs": [
    {
     "data": {
      "text/html": [
       "<div>\n",
       "<style scoped>\n",
       "    .dataframe tbody tr th:only-of-type {\n",
       "        vertical-align: middle;\n",
       "    }\n",
       "\n",
       "    .dataframe tbody tr th {\n",
       "        vertical-align: top;\n",
       "    }\n",
       "\n",
       "    .dataframe thead th {\n",
       "        text-align: right;\n",
       "    }\n",
       "</style>\n",
       "<table border=\"1\" class=\"dataframe\">\n",
       "  <thead>\n",
       "    <tr style=\"text-align: right;\">\n",
       "      <th></th>\n",
       "      <th>steps</th>\n",
       "      <th>description</th>\n",
       "      <th>param2</th>\n",
       "      <th>param3</th>\n",
       "      <th>param4</th>\n",
       "      <th>param5</th>\n",
       "    </tr>\n",
       "  </thead>\n",
       "  <tbody>\n",
       "    <tr>\n",
       "      <th>0</th>\n",
       "      <td>2</td>\n",
       "      <td>клик на кнопку, ведущую на авторизацию ИЛИ кли...</td>\n",
       "      <td>['plus-web [prod] / CONVERSIONS']</td>\n",
       "      <td>['conversionStep / [МФ+] / submit']</td>\n",
       "      <td>['Баннер / Подключить бесплатно на 30 дней']</td>\n",
       "      <td>['d-v412-e1']</td>\n",
       "    </tr>\n",
       "    <tr>\n",
       "      <th>1</th>\n",
       "      <td>2</td>\n",
       "      <td>клик на кнопку, ведущую на авторизацию ИЛИ кли...</td>\n",
       "      <td>['plus-web [prod] / CONVERSIONS']</td>\n",
       "      <td>['conversionStep / [МФ+] / submit / no auth']</td>\n",
       "      <td>['Баннер / Подключить бесплатно на 30 дней']</td>\n",
       "      <td>['d-v412-e1']</td>\n",
       "    </tr>\n",
       "    <tr>\n",
       "      <th>2</th>\n",
       "      <td>2</td>\n",
       "      <td>клик на кнопку, ведущую на авторизацию ИЛИ кли...</td>\n",
       "      <td>['plus-web [prod] / CONVERSIONS']</td>\n",
       "      <td>['conversionStep / [МФ+] / submit / ']</td>\n",
       "      <td>['Баннер / Подключить бесплатно на 30 дней']</td>\n",
       "      <td>['d-v412-e1']</td>\n",
       "    </tr>\n",
       "    <tr>\n",
       "      <th>3</th>\n",
       "      <td>2</td>\n",
       "      <td>клик на кнопку, ведущую на авторизацию ИЛИ кли...</td>\n",
       "      <td>['plus-web [prod] / CONVERSIONS']</td>\n",
       "      <td>['conversionStep / [МФ+] / submit / no auth']</td>\n",
       "      <td>['Шапка сайта / Войти']</td>\n",
       "      <td>['d-v412-e1']</td>\n",
       "    </tr>\n",
       "    <tr>\n",
       "      <th>4</th>\n",
       "      <td>2</td>\n",
       "      <td>клик на кнопку, ведущую на авторизацию ИЛИ кли...</td>\n",
       "      <td>['plus-web [prod] / CONVERSIONS']</td>\n",
       "      <td>['conversionStep / [МФ+] / submit']</td>\n",
       "      <td>['Шапка сайта / Войти']</td>\n",
       "      <td>['d-v412-e1']</td>\n",
       "    </tr>\n",
       "  </tbody>\n",
       "</table>\n",
       "</div>"
      ],
      "text/plain": [
       "   steps                                        description  \\\n",
       "0      2  клик на кнопку, ведущую на авторизацию ИЛИ кли...   \n",
       "1      2  клик на кнопку, ведущую на авторизацию ИЛИ кли...   \n",
       "2      2  клик на кнопку, ведущую на авторизацию ИЛИ кли...   \n",
       "3      2  клик на кнопку, ведущую на авторизацию ИЛИ кли...   \n",
       "4      2  клик на кнопку, ведущую на авторизацию ИЛИ кли...   \n",
       "\n",
       "                              param2  \\\n",
       "0  ['plus-web [prod] / CONVERSIONS']   \n",
       "1  ['plus-web [prod] / CONVERSIONS']   \n",
       "2  ['plus-web [prod] / CONVERSIONS']   \n",
       "3  ['plus-web [prod] / CONVERSIONS']   \n",
       "4  ['plus-web [prod] / CONVERSIONS']   \n",
       "\n",
       "                                          param3  \\\n",
       "0            ['conversionStep / [МФ+] / submit']   \n",
       "1  ['conversionStep / [МФ+] / submit / no auth']   \n",
       "2         ['conversionStep / [МФ+] / submit / ']   \n",
       "3  ['conversionStep / [МФ+] / submit / no auth']   \n",
       "4            ['conversionStep / [МФ+] / submit']   \n",
       "\n",
       "                                         param4         param5  \n",
       "0  ['Баннер / Подключить бесплатно на 30 дней']  ['d-v412-e1']  \n",
       "1  ['Баннер / Подключить бесплатно на 30 дней']  ['d-v412-e1']  \n",
       "2  ['Баннер / Подключить бесплатно на 30 дней']  ['d-v412-e1']  \n",
       "3                       ['Шапка сайта / Войти']  ['d-v412-e1']  \n",
       "4                       ['Шапка сайта / Войти']  ['d-v412-e1']  "
      ]
     },
     "execution_count": 339,
     "metadata": {},
     "output_type": "execute_result"
    }
   ],
   "source": [
    "steps.head()"
   ]
  },
  {
   "cell_type": "code",
   "execution_count": 340,
   "metadata": {},
   "outputs": [],
   "source": [
    "steps = steps.fillna(\"\")"
   ]
  },
  {
   "cell_type": "code",
   "execution_count": 260,
   "metadata": {},
   "outputs": [],
   "source": [
    "for col  in cols:\n",
    "    steps[col] = steps[col].apply(lambda x: work_with_string(x))"
   ]
  },
  {
   "cell_type": "code",
   "execution_count": 261,
   "metadata": {},
   "outputs": [],
   "source": [
    "steps = steps.rename(columns={'Шаги воронки':'step'})"
   ]
  },
  {
   "cell_type": "code",
   "execution_count": 262,
   "metadata": {},
   "outputs": [
    {
     "data": {
      "text/html": [
       "<div>\n",
       "<style scoped>\n",
       "    .dataframe tbody tr th:only-of-type {\n",
       "        vertical-align: middle;\n",
       "    }\n",
       "\n",
       "    .dataframe tbody tr th {\n",
       "        vertical-align: top;\n",
       "    }\n",
       "\n",
       "    .dataframe thead th {\n",
       "        text-align: right;\n",
       "    }\n",
       "</style>\n",
       "<table border=\"1\" class=\"dataframe\">\n",
       "  <thead>\n",
       "    <tr style=\"text-align: right;\">\n",
       "      <th></th>\n",
       "      <th>step</th>\n",
       "      <th>Описание событий</th>\n",
       "      <th>ParamsKey2</th>\n",
       "      <th>ParamsKey3</th>\n",
       "      <th>ParamsKey4</th>\n",
       "      <th>ParamsKey5</th>\n",
       "    </tr>\n",
       "  </thead>\n",
       "  <tbody>\n",
       "    <tr>\n",
       "      <th>23</th>\n",
       "      <td>6</td>\n",
       "      <td>Успешный ввод кода - авторизация в форме регис...</td>\n",
       "      <td>plus-web_prod_CONVERSIONS</td>\n",
       "      <td>conversionStep_МФ+_sendInput2</td>\n",
       "      <td>Продолжить_Введен_код_из_смс</td>\n",
       "      <td>d-v412-e18</td>\n",
       "    </tr>\n",
       "    <tr>\n",
       "      <th>24</th>\n",
       "      <td>6</td>\n",
       "      <td>Успешный ввод кода - авторизация в форме регис...</td>\n",
       "      <td>plus-web_prod_CONVERSIONS</td>\n",
       "      <td>conversionStepМФ+sendInput2</td>\n",
       "      <td>Продолжить_Введен_код_из_смс</td>\n",
       "      <td>d-v412-e18</td>\n",
       "    </tr>\n",
       "    <tr>\n",
       "      <th>25</th>\n",
       "      <td>7</td>\n",
       "      <td>Отключение подписки</td>\n",
       "      <td>plus-web_prod_CONVERSIONS</td>\n",
       "      <td>conversionStep_МФ+_submitTransaction</td>\n",
       "      <td>Абонент_Отключение_подписки_Готово</td>\n",
       "      <td>d-v412-e33</td>\n",
       "    </tr>\n",
       "    <tr>\n",
       "      <th>26</th>\n",
       "      <td>7</td>\n",
       "      <td>Отключение подписки</td>\n",
       "      <td>plus-web_prod_CONVERSIONS</td>\n",
       "      <td>conversionStep_МФ+_submitTransaction_auth</td>\n",
       "      <td>Абонент_Отключение_подписки_Готово</td>\n",
       "      <td>d-v412-e33</td>\n",
       "    </tr>\n",
       "    <tr>\n",
       "      <th>27</th>\n",
       "      <td>7</td>\n",
       "      <td>Отключение подписки</td>\n",
       "      <td>plus-web_prod_CONVERSIONS</td>\n",
       "      <td>conversionStep_МФ+_submitTransaction</td>\n",
       "      <td>Абонент_Отключение_подписки_Готово</td>\n",
       "      <td>d-v412-e33</td>\n",
       "    </tr>\n",
       "  </tbody>\n",
       "</table>\n",
       "</div>"
      ],
      "text/plain": [
       "    step                                   Описание событий  \\\n",
       "23     6  Успешный ввод кода - авторизация в форме регис...   \n",
       "24     6  Успешный ввод кода - авторизация в форме регис...   \n",
       "25     7                                Отключение подписки   \n",
       "26     7                                Отключение подписки   \n",
       "27     7                                Отключение подписки   \n",
       "\n",
       "                   ParamsKey2                                 ParamsKey3  \\\n",
       "23  plus-web_prod_CONVERSIONS              conversionStep_МФ+_sendInput2   \n",
       "24  plus-web_prod_CONVERSIONS                conversionStepМФ+sendInput2   \n",
       "25  plus-web_prod_CONVERSIONS       conversionStep_МФ+_submitTransaction   \n",
       "26  plus-web_prod_CONVERSIONS  conversionStep_МФ+_submitTransaction_auth   \n",
       "27  plus-web_prod_CONVERSIONS       conversionStep_МФ+_submitTransaction   \n",
       "\n",
       "                            ParamsKey4  ParamsKey5  \n",
       "23        Продолжить_Введен_код_из_смс  d-v412-e18  \n",
       "24        Продолжить_Введен_код_из_смс  d-v412-e18  \n",
       "25  Абонент_Отключение_подписки_Готово  d-v412-e33  \n",
       "26  Абонент_Отключение_подписки_Готово  d-v412-e33  \n",
       "27  Абонент_Отключение_подписки_Готово  d-v412-e33  "
      ]
     },
     "execution_count": 262,
     "metadata": {},
     "output_type": "execute_result"
    }
   ],
   "source": [
    "steps.tail()"
   ]
  },
  {
   "cell_type": "code",
   "execution_count": 354,
   "metadata": {},
   "outputs": [],
   "source": [
    "#объединяем шаги с хитами, каждому хиту ставим во соответствие шег\n",
    "hits_with_steps = hits.merge(steps,how='left', on=['param2','param3','param4','param5'] )"
   ]
  },
  {
   "cell_type": "code",
   "execution_count": 356,
   "metadata": {},
   "outputs": [],
   "source": [
    "\n",
    "hits_with_steps = hits_with_steps.drop('description',axis=1)\n"
   ]
  },
  {
   "cell_type": "code",
   "execution_count": 357,
   "metadata": {},
   "outputs": [
    {
     "data": {
      "text/html": [
       "<div>\n",
       "<style scoped>\n",
       "    .dataframe tbody tr th:only-of-type {\n",
       "        vertical-align: middle;\n",
       "    }\n",
       "\n",
       "    .dataframe tbody tr th {\n",
       "        vertical-align: top;\n",
       "    }\n",
       "\n",
       "    .dataframe thead th {\n",
       "        text-align: right;\n",
       "    }\n",
       "</style>\n",
       "<table border=\"1\" class=\"dataframe\">\n",
       "  <thead>\n",
       "    <tr style=\"text-align: right;\">\n",
       "      <th></th>\n",
       "      <th>date</th>\n",
       "      <th>watch_id</th>\n",
       "      <th>client_id</th>\n",
       "      <th>url</th>\n",
       "      <th>param2</th>\n",
       "      <th>param3</th>\n",
       "      <th>param4</th>\n",
       "      <th>param5</th>\n",
       "      <th>hit_time</th>\n",
       "      <th>steps</th>\n",
       "    </tr>\n",
       "  </thead>\n",
       "  <tbody>\n",
       "    <tr>\n",
       "      <th>0</th>\n",
       "      <td>2022-05-15 22:51:06</td>\n",
       "      <td>2623397282019803354</td>\n",
       "      <td>16138276891048456082</td>\n",
       "      <td>https://plus.megafon.ru/</td>\n",
       "      <td>[]</td>\n",
       "      <td>[]</td>\n",
       "      <td>[]</td>\n",
       "      <td>[]</td>\n",
       "      <td>2022-05-15 22:51:06</td>\n",
       "      <td>NaN</td>\n",
       "    </tr>\n",
       "    <tr>\n",
       "      <th>1</th>\n",
       "      <td>2022-05-15 22:51:12</td>\n",
       "      <td>2623398959716761898</td>\n",
       "      <td>16138276891048456082</td>\n",
       "      <td>https://plus.megafon.ru/</td>\n",
       "      <td>['plus-web [prod] / NAVIGATIONS']</td>\n",
       "      <td>['useNavigations / [МФ+] / Scroll / ']</td>\n",
       "      <td>['20']</td>\n",
       "      <td>['d-v429-e1']</td>\n",
       "      <td>2022-05-15 22:51:12</td>\n",
       "      <td>NaN</td>\n",
       "    </tr>\n",
       "    <tr>\n",
       "      <th>2</th>\n",
       "      <td>2022-05-15 22:51:12</td>\n",
       "      <td>2623398977377402942</td>\n",
       "      <td>16138276891048456082</td>\n",
       "      <td>goal://plus.megafon.ru/MegafonPlusScroll_20</td>\n",
       "      <td>[]</td>\n",
       "      <td>[]</td>\n",
       "      <td>[]</td>\n",
       "      <td>[]</td>\n",
       "      <td>2022-05-15 22:51:12</td>\n",
       "      <td>NaN</td>\n",
       "    </tr>\n",
       "    <tr>\n",
       "      <th>3</th>\n",
       "      <td>2022-05-15 22:51:20</td>\n",
       "      <td>2623400872067203452</td>\n",
       "      <td>16138276891048456082</td>\n",
       "      <td>https://plus.megafon.ru/</td>\n",
       "      <td>['plus-web [prod] / NAVIGATIONS']</td>\n",
       "      <td>['useNavigations / [МФ+] / Scroll / ']</td>\n",
       "      <td>['40']</td>\n",
       "      <td>['d-v429-e1']</td>\n",
       "      <td>2022-05-15 22:51:20</td>\n",
       "      <td>NaN</td>\n",
       "    </tr>\n",
       "    <tr>\n",
       "      <th>4</th>\n",
       "      <td>2022-05-15 22:51:20</td>\n",
       "      <td>2623400887705403727</td>\n",
       "      <td>16138276891048456082</td>\n",
       "      <td>goal://plus.megafon.ru/MegafonPlusScroll_40</td>\n",
       "      <td>[]</td>\n",
       "      <td>[]</td>\n",
       "      <td>[]</td>\n",
       "      <td>[]</td>\n",
       "      <td>2022-05-15 22:51:20</td>\n",
       "      <td>NaN</td>\n",
       "    </tr>\n",
       "  </tbody>\n",
       "</table>\n",
       "</div>"
      ],
      "text/plain": [
       "                  date             watch_id             client_id  \\\n",
       "0  2022-05-15 22:51:06  2623397282019803354  16138276891048456082   \n",
       "1  2022-05-15 22:51:12  2623398959716761898  16138276891048456082   \n",
       "2  2022-05-15 22:51:12  2623398977377402942  16138276891048456082   \n",
       "3  2022-05-15 22:51:20  2623400872067203452  16138276891048456082   \n",
       "4  2022-05-15 22:51:20  2623400887705403727  16138276891048456082   \n",
       "\n",
       "                                           url  \\\n",
       "0                     https://plus.megafon.ru/   \n",
       "1                     https://plus.megafon.ru/   \n",
       "2  goal://plus.megafon.ru/MegafonPlusScroll_20   \n",
       "3                     https://plus.megafon.ru/   \n",
       "4  goal://plus.megafon.ru/MegafonPlusScroll_40   \n",
       "\n",
       "                              param2                                  param3  \\\n",
       "0                                 []                                      []   \n",
       "1  ['plus-web [prod] / NAVIGATIONS']  ['useNavigations / [МФ+] / Scroll / ']   \n",
       "2                                 []                                      []   \n",
       "3  ['plus-web [prod] / NAVIGATIONS']  ['useNavigations / [МФ+] / Scroll / ']   \n",
       "4                                 []                                      []   \n",
       "\n",
       "   param4         param5            hit_time  steps  \n",
       "0      []             [] 2022-05-15 22:51:06    NaN  \n",
       "1  ['20']  ['d-v429-e1'] 2022-05-15 22:51:12    NaN  \n",
       "2      []             [] 2022-05-15 22:51:12    NaN  \n",
       "3  ['40']  ['d-v429-e1'] 2022-05-15 22:51:20    NaN  \n",
       "4      []             [] 2022-05-15 22:51:20    NaN  "
      ]
     },
     "execution_count": 357,
     "metadata": {},
     "output_type": "execute_result"
    }
   ],
   "source": [
    "hits_with_steps.head()"
   ]
  },
  {
   "cell_type": "code",
   "execution_count": 276,
   "metadata": {},
   "outputs": [],
   "source": [
    "#считаем количество посещений 1 странцицы\n",
    "first_page = hits_with_steps.query('url==\"https://plus.megafon.ru/\"')['client_id'].count()"
   ]
  },
  {
   "cell_type": "code",
   "execution_count": 359,
   "metadata": {},
   "outputs": [],
   "source": [
    "hits_with_steps = hits_with_steps[['watch_id', 'client_id','steps','hit_time','url']]"
   ]
  },
  {
   "cell_type": "code",
   "execution_count": 360,
   "metadata": {},
   "outputs": [
    {
     "data": {
      "text/html": [
       "<div>\n",
       "<style scoped>\n",
       "    .dataframe tbody tr th:only-of-type {\n",
       "        vertical-align: middle;\n",
       "    }\n",
       "\n",
       "    .dataframe tbody tr th {\n",
       "        vertical-align: top;\n",
       "    }\n",
       "\n",
       "    .dataframe thead th {\n",
       "        text-align: right;\n",
       "    }\n",
       "</style>\n",
       "<table border=\"1\" class=\"dataframe\">\n",
       "  <thead>\n",
       "    <tr style=\"text-align: right;\">\n",
       "      <th></th>\n",
       "      <th>watch_id</th>\n",
       "      <th>client_id</th>\n",
       "      <th>steps</th>\n",
       "      <th>hit_time</th>\n",
       "      <th>url</th>\n",
       "    </tr>\n",
       "  </thead>\n",
       "  <tbody>\n",
       "    <tr>\n",
       "      <th>0</th>\n",
       "      <td>2623397282019803354</td>\n",
       "      <td>16138276891048456082</td>\n",
       "      <td>NaN</td>\n",
       "      <td>2022-05-15 22:51:06</td>\n",
       "      <td>https://plus.megafon.ru/</td>\n",
       "    </tr>\n",
       "    <tr>\n",
       "      <th>1</th>\n",
       "      <td>2623398959716761898</td>\n",
       "      <td>16138276891048456082</td>\n",
       "      <td>NaN</td>\n",
       "      <td>2022-05-15 22:51:12</td>\n",
       "      <td>https://plus.megafon.ru/</td>\n",
       "    </tr>\n",
       "    <tr>\n",
       "      <th>2</th>\n",
       "      <td>2623398977377402942</td>\n",
       "      <td>16138276891048456082</td>\n",
       "      <td>NaN</td>\n",
       "      <td>2022-05-15 22:51:12</td>\n",
       "      <td>goal://plus.megafon.ru/MegafonPlusScroll_20</td>\n",
       "    </tr>\n",
       "    <tr>\n",
       "      <th>3</th>\n",
       "      <td>2623400872067203452</td>\n",
       "      <td>16138276891048456082</td>\n",
       "      <td>NaN</td>\n",
       "      <td>2022-05-15 22:51:20</td>\n",
       "      <td>https://plus.megafon.ru/</td>\n",
       "    </tr>\n",
       "    <tr>\n",
       "      <th>4</th>\n",
       "      <td>2623400887705403727</td>\n",
       "      <td>16138276891048456082</td>\n",
       "      <td>NaN</td>\n",
       "      <td>2022-05-15 22:51:20</td>\n",
       "      <td>goal://plus.megafon.ru/MegafonPlusScroll_40</td>\n",
       "    </tr>\n",
       "  </tbody>\n",
       "</table>\n",
       "</div>"
      ],
      "text/plain": [
       "              watch_id             client_id  steps            hit_time  \\\n",
       "0  2623397282019803354  16138276891048456082    NaN 2022-05-15 22:51:06   \n",
       "1  2623398959716761898  16138276891048456082    NaN 2022-05-15 22:51:12   \n",
       "2  2623398977377402942  16138276891048456082    NaN 2022-05-15 22:51:12   \n",
       "3  2623400872067203452  16138276891048456082    NaN 2022-05-15 22:51:20   \n",
       "4  2623400887705403727  16138276891048456082    NaN 2022-05-15 22:51:20   \n",
       "\n",
       "                                           url  \n",
       "0                     https://plus.megafon.ru/  \n",
       "1                     https://plus.megafon.ru/  \n",
       "2  goal://plus.megafon.ru/MegafonPlusScroll_20  \n",
       "3                     https://plus.megafon.ru/  \n",
       "4  goal://plus.megafon.ru/MegafonPlusScroll_40  "
      ]
     },
     "execution_count": 360,
     "metadata": {},
     "output_type": "execute_result"
    }
   ],
   "source": [
    "hits_with_steps.head()"
   ]
  },
  {
   "cell_type": "code",
   "execution_count": 279,
   "metadata": {},
   "outputs": [
    {
     "name": "stdout",
     "output_type": "stream",
     "text": [
      "<class 'pandas.core.frame.DataFrame'>\n",
      "Int64Index: 995810 entries, 0 to 995809\n",
      "Data columns (total 5 columns):\n",
      " #   Column     Non-Null Count   Dtype         \n",
      "---  ------     --------------   -----         \n",
      " 0   watch_id   995810 non-null  object        \n",
      " 1   client_id  995810 non-null  object        \n",
      " 2   step       111818 non-null  float64       \n",
      " 3   hit_time   995810 non-null  datetime64[ns]\n",
      " 4   url        995810 non-null  object        \n",
      "dtypes: datetime64[ns](1), float64(1), object(3)\n",
      "memory usage: 45.6+ MB\n"
     ]
    }
   ],
   "source": [
    "hits_with_steps.info()"
   ]
  },
  {
   "cell_type": "code",
   "execution_count": 362,
   "metadata": {},
   "outputs": [],
   "source": [
    "hits_with_steps.loc[(('https://plus.megafon.ru/' in hits_with_steps['url'].values) and np.isnan(hits_with_steps['steps'].values)),'steps'] = 1"
   ]
  },
  {
   "cell_type": "code",
   "execution_count": 363,
   "metadata": {},
   "outputs": [
    {
     "name": "stdout",
     "output_type": "stream",
     "text": [
      "<class 'pandas.core.frame.DataFrame'>\n",
      "Int64Index: 972746 entries, 0 to 972745\n",
      "Data columns (total 5 columns):\n",
      " #   Column     Non-Null Count   Dtype         \n",
      "---  ------     --------------   -----         \n",
      " 0   watch_id   972746 non-null  object        \n",
      " 1   client_id  972746 non-null  uint64        \n",
      " 2   steps      972746 non-null  float64       \n",
      " 3   hit_time   972746 non-null  datetime64[ns]\n",
      " 4   url        972746 non-null  object        \n",
      "dtypes: datetime64[ns](1), float64(1), object(2), uint64(1)\n",
      "memory usage: 44.5+ MB\n"
     ]
    }
   ],
   "source": [
    "hits_with_steps.info()"
   ]
  },
  {
   "cell_type": "code",
   "execution_count": 364,
   "metadata": {},
   "outputs": [
    {
     "name": "stdout",
     "output_type": "stream",
     "text": [
      "<class 'pandas.core.frame.DataFrame'>\n",
      "RangeIndex: 126131 entries, 0 to 126130\n",
      "Data columns (total 6 columns):\n",
      " #   Column          Non-Null Count   Dtype         \n",
      "---  ------          --------------   -----         \n",
      " 0   date            126131 non-null  object        \n",
      " 1   visit_id        126131 non-null  int64         \n",
      " 2   client_id       126131 non-null  object        \n",
      " 3   visit_duration  126131 non-null  int64         \n",
      " 4   visit_start     126131 non-null  datetime64[ns]\n",
      " 5   visit_end       126131 non-null  datetime64[ns]\n",
      "dtypes: datetime64[ns](2), int64(2), object(2)\n",
      "memory usage: 5.8+ MB\n"
     ]
    }
   ],
   "source": [
    "visits.info()"
   ]
  },
  {
   "cell_type": "code",
   "execution_count": 365,
   "metadata": {},
   "outputs": [],
   "source": [
    "visits['client_id'] = visits['client_id'].astype('str')"
   ]
  },
  {
   "cell_type": "code",
   "execution_count": 366,
   "metadata": {},
   "outputs": [],
   "source": [
    "#удаляем дефис в начале некоторых clientid\n",
    "def remove_unknown_simbols(el):\n",
    "    return (re.sub(r'-',\"\",el).replace(\"  \",\" \").strip())"
   ]
  },
  {
   "cell_type": "code",
   "execution_count": 367,
   "metadata": {},
   "outputs": [],
   "source": [
    "visits['client_id'] = visits['client_id'].apply(lambda x: remove_unknown_simbols(x))"
   ]
  },
  {
   "cell_type": "code",
   "execution_count": 368,
   "metadata": {},
   "outputs": [],
   "source": [
    "visits['visit_duration'] = visits['visit_duration'].astype('int')"
   ]
  },
  {
   "cell_type": "code",
   "execution_count": 369,
   "metadata": {},
   "outputs": [
    {
     "name": "stdout",
     "output_type": "stream",
     "text": [
      "<class 'pandas.core.frame.DataFrame'>\n",
      "RangeIndex: 126131 entries, 0 to 126130\n",
      "Data columns (total 6 columns):\n",
      " #   Column          Non-Null Count   Dtype         \n",
      "---  ------          --------------   -----         \n",
      " 0   date            126131 non-null  object        \n",
      " 1   visit_id        126131 non-null  int64         \n",
      " 2   client_id       126131 non-null  object        \n",
      " 3   visit_duration  126131 non-null  int64         \n",
      " 4   visit_start     126131 non-null  datetime64[ns]\n",
      " 5   visit_end       126131 non-null  datetime64[ns]\n",
      "dtypes: datetime64[ns](2), int64(2), object(2)\n",
      "memory usage: 5.8+ MB\n"
     ]
    }
   ],
   "source": [
    "visits.info()"
   ]
  },
  {
   "cell_type": "code",
   "execution_count": 370,
   "metadata": {},
   "outputs": [],
   "source": [
    "hits['client_id'] = hits['client_id'].astype('str')\n",
    "hits['watch_id'] = hits['watch_id'].astype('str')"
   ]
  },
  {
   "cell_type": "code",
   "execution_count": 372,
   "metadata": {},
   "outputs": [],
   "source": [
    "query = \"\"\" \n",
    "select \n",
    "    v.date, \n",
    "    cast(v.visit_id as string) as visit_id,\n",
    "    cast(v.client_id as string) as client_id,\n",
    "    v.visit_duration,\n",
    "    v.visit_start,\n",
    "    v.visit_end , \n",
    "    cast(h.watch_id as string) as watch_id,\n",
    "    h.hit_time,\n",
    "    h.client_id,\n",
    "    h.steps,\n",
    "    h.url\n",
    "from visits v left join hits_with_steps h\n",
    "on v.client_id = h.client_id and  visit_start <= h.hit_time and v.visit_end >= h.hit_time\n",
    "\"\"\"\n"
   ]
  },
  {
   "cell_type": "code",
   "execution_count": 373,
   "metadata": {},
   "outputs": [],
   "source": [
    "#объединяем сессии и хиты\n",
    "data = duckdb.query(query).df()"
   ]
  },
  {
   "cell_type": "code",
   "execution_count": 292,
   "metadata": {},
   "outputs": [],
   "source": [
    "data = data.dropna()"
   ]
  },
  {
   "cell_type": "code",
   "execution_count": 374,
   "metadata": {},
   "outputs": [
    {
     "name": "stdout",
     "output_type": "stream",
     "text": [
      "<class 'pandas.core.frame.DataFrame'>\n",
      "RangeIndex: 965416 entries, 0 to 965415\n",
      "Data columns (total 11 columns):\n",
      " #   Column          Non-Null Count   Dtype         \n",
      "---  ------          --------------   -----         \n",
      " 0   date            965416 non-null  object        \n",
      " 1   visit_id        965416 non-null  object        \n",
      " 2   client_id       965416 non-null  object        \n",
      " 3   visit_duration  965416 non-null  int64         \n",
      " 4   visit_start     965416 non-null  datetime64[ns]\n",
      " 5   visit_end       965416 non-null  datetime64[ns]\n",
      " 6   watch_id        965416 non-null  object        \n",
      " 7   hit_time        965416 non-null  datetime64[ns]\n",
      " 8   client_id_2     965416 non-null  uint64        \n",
      " 9   steps           965416 non-null  float64       \n",
      " 10  url             965416 non-null  object        \n",
      "dtypes: datetime64[ns](3), float64(1), int64(1), object(5), uint64(1)\n",
      "memory usage: 81.0+ MB\n"
     ]
    }
   ],
   "source": [
    "data.info()"
   ]
  },
  {
   "cell_type": "code",
   "execution_count": 375,
   "metadata": {},
   "outputs": [],
   "source": [
    "data['steps'] = data['steps'].astype('int')"
   ]
  },
  {
   "cell_type": "code",
   "execution_count": 376,
   "metadata": {},
   "outputs": [
    {
     "data": {
      "text/html": [
       "<div>\n",
       "<style scoped>\n",
       "    .dataframe tbody tr th:only-of-type {\n",
       "        vertical-align: middle;\n",
       "    }\n",
       "\n",
       "    .dataframe tbody tr th {\n",
       "        vertical-align: top;\n",
       "    }\n",
       "\n",
       "    .dataframe thead th {\n",
       "        text-align: right;\n",
       "    }\n",
       "</style>\n",
       "<table border=\"1\" class=\"dataframe\">\n",
       "  <thead>\n",
       "    <tr style=\"text-align: right;\">\n",
       "      <th></th>\n",
       "      <th>date</th>\n",
       "      <th>visit_id</th>\n",
       "      <th>client_id</th>\n",
       "      <th>visit_duration</th>\n",
       "      <th>visit_start</th>\n",
       "      <th>visit_end</th>\n",
       "      <th>watch_id</th>\n",
       "      <th>hit_time</th>\n",
       "      <th>client_id_2</th>\n",
       "      <th>steps</th>\n",
       "      <th>url</th>\n",
       "    </tr>\n",
       "  </thead>\n",
       "  <tbody>\n",
       "    <tr>\n",
       "      <th>965411</th>\n",
       "      <td>2022-05-01 13:28:19</td>\n",
       "      <td>2297455998799970674</td>\n",
       "      <td>1651400342516448418</td>\n",
       "      <td>2572</td>\n",
       "      <td>2022-05-01 13:28:19</td>\n",
       "      <td>2022-05-01 14:11:11</td>\n",
       "      <td>2298130255932817793</td>\n",
       "      <td>2022-05-01 14:11:10</td>\n",
       "      <td>1651400342516448418</td>\n",
       "      <td>1</td>\n",
       "      <td>https://plus.megafon.ru/lk</td>\n",
       "    </tr>\n",
       "    <tr>\n",
       "      <th>965412</th>\n",
       "      <td>2022-05-01 14:27:14</td>\n",
       "      <td>2298382788353065146</td>\n",
       "      <td>1651404434562049943</td>\n",
       "      <td>0</td>\n",
       "      <td>2022-05-01 14:27:14</td>\n",
       "      <td>2022-05-01 14:27:14</td>\n",
       "      <td>2298382788353065146</td>\n",
       "      <td>2022-05-01 14:27:14</td>\n",
       "      <td>1651404434562049943</td>\n",
       "      <td>1</td>\n",
       "      <td>https://plus.megafon.ru/</td>\n",
       "    </tr>\n",
       "    <tr>\n",
       "      <th>965413</th>\n",
       "      <td>2022-05-01 18:06:26</td>\n",
       "      <td>2301830398090674380</td>\n",
       "      <td>1644892600762948661</td>\n",
       "      <td>14</td>\n",
       "      <td>2022-05-01 18:06:26</td>\n",
       "      <td>2022-05-01 18:06:40</td>\n",
       "      <td>2301834266593460428</td>\n",
       "      <td>2022-05-01 18:06:40</td>\n",
       "      <td>1644892600762948661</td>\n",
       "      <td>1</td>\n",
       "      <td>https://plus.megafon.ru/</td>\n",
       "    </tr>\n",
       "    <tr>\n",
       "      <th>965414</th>\n",
       "      <td>2022-05-01 18:31:25</td>\n",
       "      <td>2302223509320368450</td>\n",
       "      <td>1641662221573313724</td>\n",
       "      <td>15</td>\n",
       "      <td>2022-05-01 18:31:25</td>\n",
       "      <td>2022-05-01 18:31:40</td>\n",
       "      <td>2302223509320368450</td>\n",
       "      <td>2022-05-01 18:31:25</td>\n",
       "      <td>1641662221573313724</td>\n",
       "      <td>1</td>\n",
       "      <td>https://plus.megafon.ru/</td>\n",
       "    </tr>\n",
       "    <tr>\n",
       "      <th>965415</th>\n",
       "      <td>2022-05-01 18:31:25</td>\n",
       "      <td>2302223509320368450</td>\n",
       "      <td>1641662221573313724</td>\n",
       "      <td>15</td>\n",
       "      <td>2022-05-01 18:31:25</td>\n",
       "      <td>2022-05-01 18:31:40</td>\n",
       "      <td>2302227474039177538</td>\n",
       "      <td>2022-05-01 18:31:40</td>\n",
       "      <td>1641662221573313724</td>\n",
       "      <td>1</td>\n",
       "      <td>https://plus.megafon.ru/</td>\n",
       "    </tr>\n",
       "  </tbody>\n",
       "</table>\n",
       "</div>"
      ],
      "text/plain": [
       "                       date             visit_id            client_id  \\\n",
       "965411  2022-05-01 13:28:19  2297455998799970674  1651400342516448418   \n",
       "965412  2022-05-01 14:27:14  2298382788353065146  1651404434562049943   \n",
       "965413  2022-05-01 18:06:26  2301830398090674380  1644892600762948661   \n",
       "965414  2022-05-01 18:31:25  2302223509320368450  1641662221573313724   \n",
       "965415  2022-05-01 18:31:25  2302223509320368450  1641662221573313724   \n",
       "\n",
       "        visit_duration         visit_start           visit_end  \\\n",
       "965411            2572 2022-05-01 13:28:19 2022-05-01 14:11:11   \n",
       "965412               0 2022-05-01 14:27:14 2022-05-01 14:27:14   \n",
       "965413              14 2022-05-01 18:06:26 2022-05-01 18:06:40   \n",
       "965414              15 2022-05-01 18:31:25 2022-05-01 18:31:40   \n",
       "965415              15 2022-05-01 18:31:25 2022-05-01 18:31:40   \n",
       "\n",
       "                   watch_id            hit_time          client_id_2  steps  \\\n",
       "965411  2298130255932817793 2022-05-01 14:11:10  1651400342516448418      1   \n",
       "965412  2298382788353065146 2022-05-01 14:27:14  1651404434562049943      1   \n",
       "965413  2301834266593460428 2022-05-01 18:06:40  1644892600762948661      1   \n",
       "965414  2302223509320368450 2022-05-01 18:31:25  1641662221573313724      1   \n",
       "965415  2302227474039177538 2022-05-01 18:31:40  1641662221573313724      1   \n",
       "\n",
       "                               url  \n",
       "965411  https://plus.megafon.ru/lk  \n",
       "965412    https://plus.megafon.ru/  \n",
       "965413    https://plus.megafon.ru/  \n",
       "965414    https://plus.megafon.ru/  \n",
       "965415    https://plus.megafon.ru/  "
      ]
     },
     "execution_count": 376,
     "metadata": {},
     "output_type": "execute_result"
    }
   ],
   "source": [
    "data.tail()"
   ]
  },
  {
   "cell_type": "code",
   "execution_count": 377,
   "metadata": {},
   "outputs": [],
   "source": [
    "data_new = data.copy()"
   ]
  },
  {
   "cell_type": "code",
   "execution_count": 378,
   "metadata": {},
   "outputs": [],
   "source": [
    "data_new['steps'] = data_new['steps'].astype('int')\n",
    "data_new['steps'] = data_new['steps'].astype('str')"
   ]
  },
  {
   "cell_type": "code",
   "execution_count": 379,
   "metadata": {},
   "outputs": [],
   "source": [
    "\n",
    "data_new_reduced = data_new.sort_values(by='hit_time')[['visit_id','steps']].groupby('visit_id',as_index=False).agg(lambda x :\"\".join(x) )"
   ]
  },
  {
   "cell_type": "code",
   "execution_count": 380,
   "metadata": {},
   "outputs": [
    {
     "data": {
      "text/html": [
       "<div>\n",
       "<style scoped>\n",
       "    .dataframe tbody tr th:only-of-type {\n",
       "        vertical-align: middle;\n",
       "    }\n",
       "\n",
       "    .dataframe tbody tr th {\n",
       "        vertical-align: top;\n",
       "    }\n",
       "\n",
       "    .dataframe thead th {\n",
       "        text-align: right;\n",
       "    }\n",
       "</style>\n",
       "<table border=\"1\" class=\"dataframe\">\n",
       "  <thead>\n",
       "    <tr style=\"text-align: right;\">\n",
       "      <th></th>\n",
       "      <th>visit_id</th>\n",
       "      <th>steps</th>\n",
       "    </tr>\n",
       "  </thead>\n",
       "  <tbody>\n",
       "    <tr>\n",
       "      <th>0</th>\n",
       "      <td>1990302737154179332</td>\n",
       "      <td>1</td>\n",
       "    </tr>\n",
       "    <tr>\n",
       "      <th>1</th>\n",
       "      <td>1990318978320826575</td>\n",
       "      <td>11</td>\n",
       "    </tr>\n",
       "    <tr>\n",
       "      <th>2</th>\n",
       "      <td>1990324260571709534</td>\n",
       "      <td>11111111</td>\n",
       "    </tr>\n",
       "    <tr>\n",
       "      <th>3</th>\n",
       "      <td>1990326214597279931</td>\n",
       "      <td>111</td>\n",
       "    </tr>\n",
       "    <tr>\n",
       "      <th>4</th>\n",
       "      <td>1990330582533669123</td>\n",
       "      <td>11</td>\n",
       "    </tr>\n",
       "  </tbody>\n",
       "</table>\n",
       "</div>"
      ],
      "text/plain": [
       "              visit_id     steps\n",
       "0  1990302737154179332         1\n",
       "1  1990318978320826575        11\n",
       "2  1990324260571709534  11111111\n",
       "3  1990326214597279931       111\n",
       "4  1990330582533669123        11"
      ]
     },
     "execution_count": 380,
     "metadata": {},
     "output_type": "execute_result"
    }
   ],
   "source": [
    "data_new_reduced.head()"
   ]
  },
  {
   "cell_type": "code",
   "execution_count": 382,
   "metadata": {},
   "outputs": [],
   "source": [
    "q = '''\n",
    "select \n",
    "  *,\n",
    "  regexp_matches(steps, '.*1.*') as step_1,\n",
    "  regexp_matches(steps, '.*1.*2.*') as step_2,\n",
    "  regexp_matches(steps, '.*1.*2.*3.*') as step_3,\n",
    "  regexp_matches(steps, '.*1.*2.*3.*4.*') as step_4,   \n",
    "  regexp_matches(steps, '.*1.*2.*3.*4.*5.*') as step_5, \n",
    "  regexp_matches(steps, '.*1.*2.*3.*4.*5.*6.*') as step_6,\n",
    "  regexp_matches(steps, '.*1.*2.*3.*4.*5.*6.*7.*') as step_7\n",
    "from data_new_reduced\n",
    "\n",
    "'''"
   ]
  },
  {
   "cell_type": "code",
   "execution_count": 383,
   "metadata": {},
   "outputs": [],
   "source": [
    "f_df = duckdb.query(q).df()"
   ]
  },
  {
   "cell_type": "code",
   "execution_count": 384,
   "metadata": {},
   "outputs": [],
   "source": [
    "step_1 = f_df['step_1'].sum()\n",
    "step_2 = f_df['step_2'].sum()\n",
    "step_3 = f_df['step_3'].sum()\n",
    "step_4 = f_df['step_4'].sum()\n",
    "step_5 = f_df['step_5'].sum()\n",
    "step_6 = f_df['step_6'].sum()\n",
    "step_7 = f_df['step_7'].sum()"
   ]
  },
  {
   "cell_type": "code",
   "execution_count": 385,
   "metadata": {},
   "outputs": [],
   "source": [
    "num = [step_1,step_2,step_3,step_4,step_5,step_6,step_7]"
   ]
  },
  {
   "cell_type": "code",
   "execution_count": 386,
   "metadata": {},
   "outputs": [
    {
     "data": {
      "application/vnd.plotly.v1+json": {
       "config": {
        "plotlyServerURL": "https://plot.ly"
       },
       "data": [
        {
         "type": "funnel",
         "x": [
          126131,
          14909,
          12185,
          7607,
          7052,
          4422,
          371
         ],
         "y": [
          "First page",
          "Click enter",
          "Registration",
          "Phone num input",
          "SMS input",
          "Code accepted",
          "Unsubscribe"
         ]
        }
       ],
       "layout": {
        "template": {
         "data": {
          "bar": [
           {
            "error_x": {
             "color": "#2a3f5f"
            },
            "error_y": {
             "color": "#2a3f5f"
            },
            "marker": {
             "line": {
              "color": "#E5ECF6",
              "width": 0.5
             },
             "pattern": {
              "fillmode": "overlay",
              "size": 10,
              "solidity": 0.2
             }
            },
            "type": "bar"
           }
          ],
          "barpolar": [
           {
            "marker": {
             "line": {
              "color": "#E5ECF6",
              "width": 0.5
             },
             "pattern": {
              "fillmode": "overlay",
              "size": 10,
              "solidity": 0.2
             }
            },
            "type": "barpolar"
           }
          ],
          "carpet": [
           {
            "aaxis": {
             "endlinecolor": "#2a3f5f",
             "gridcolor": "white",
             "linecolor": "white",
             "minorgridcolor": "white",
             "startlinecolor": "#2a3f5f"
            },
            "baxis": {
             "endlinecolor": "#2a3f5f",
             "gridcolor": "white",
             "linecolor": "white",
             "minorgridcolor": "white",
             "startlinecolor": "#2a3f5f"
            },
            "type": "carpet"
           }
          ],
          "choropleth": [
           {
            "colorbar": {
             "outlinewidth": 0,
             "ticks": ""
            },
            "type": "choropleth"
           }
          ],
          "contour": [
           {
            "colorbar": {
             "outlinewidth": 0,
             "ticks": ""
            },
            "colorscale": [
             [
              0,
              "#0d0887"
             ],
             [
              0.1111111111111111,
              "#46039f"
             ],
             [
              0.2222222222222222,
              "#7201a8"
             ],
             [
              0.3333333333333333,
              "#9c179e"
             ],
             [
              0.4444444444444444,
              "#bd3786"
             ],
             [
              0.5555555555555556,
              "#d8576b"
             ],
             [
              0.6666666666666666,
              "#ed7953"
             ],
             [
              0.7777777777777778,
              "#fb9f3a"
             ],
             [
              0.8888888888888888,
              "#fdca26"
             ],
             [
              1,
              "#f0f921"
             ]
            ],
            "type": "contour"
           }
          ],
          "contourcarpet": [
           {
            "colorbar": {
             "outlinewidth": 0,
             "ticks": ""
            },
            "type": "contourcarpet"
           }
          ],
          "heatmap": [
           {
            "colorbar": {
             "outlinewidth": 0,
             "ticks": ""
            },
            "colorscale": [
             [
              0,
              "#0d0887"
             ],
             [
              0.1111111111111111,
              "#46039f"
             ],
             [
              0.2222222222222222,
              "#7201a8"
             ],
             [
              0.3333333333333333,
              "#9c179e"
             ],
             [
              0.4444444444444444,
              "#bd3786"
             ],
             [
              0.5555555555555556,
              "#d8576b"
             ],
             [
              0.6666666666666666,
              "#ed7953"
             ],
             [
              0.7777777777777778,
              "#fb9f3a"
             ],
             [
              0.8888888888888888,
              "#fdca26"
             ],
             [
              1,
              "#f0f921"
             ]
            ],
            "type": "heatmap"
           }
          ],
          "heatmapgl": [
           {
            "colorbar": {
             "outlinewidth": 0,
             "ticks": ""
            },
            "colorscale": [
             [
              0,
              "#0d0887"
             ],
             [
              0.1111111111111111,
              "#46039f"
             ],
             [
              0.2222222222222222,
              "#7201a8"
             ],
             [
              0.3333333333333333,
              "#9c179e"
             ],
             [
              0.4444444444444444,
              "#bd3786"
             ],
             [
              0.5555555555555556,
              "#d8576b"
             ],
             [
              0.6666666666666666,
              "#ed7953"
             ],
             [
              0.7777777777777778,
              "#fb9f3a"
             ],
             [
              0.8888888888888888,
              "#fdca26"
             ],
             [
              1,
              "#f0f921"
             ]
            ],
            "type": "heatmapgl"
           }
          ],
          "histogram": [
           {
            "marker": {
             "pattern": {
              "fillmode": "overlay",
              "size": 10,
              "solidity": 0.2
             }
            },
            "type": "histogram"
           }
          ],
          "histogram2d": [
           {
            "colorbar": {
             "outlinewidth": 0,
             "ticks": ""
            },
            "colorscale": [
             [
              0,
              "#0d0887"
             ],
             [
              0.1111111111111111,
              "#46039f"
             ],
             [
              0.2222222222222222,
              "#7201a8"
             ],
             [
              0.3333333333333333,
              "#9c179e"
             ],
             [
              0.4444444444444444,
              "#bd3786"
             ],
             [
              0.5555555555555556,
              "#d8576b"
             ],
             [
              0.6666666666666666,
              "#ed7953"
             ],
             [
              0.7777777777777778,
              "#fb9f3a"
             ],
             [
              0.8888888888888888,
              "#fdca26"
             ],
             [
              1,
              "#f0f921"
             ]
            ],
            "type": "histogram2d"
           }
          ],
          "histogram2dcontour": [
           {
            "colorbar": {
             "outlinewidth": 0,
             "ticks": ""
            },
            "colorscale": [
             [
              0,
              "#0d0887"
             ],
             [
              0.1111111111111111,
              "#46039f"
             ],
             [
              0.2222222222222222,
              "#7201a8"
             ],
             [
              0.3333333333333333,
              "#9c179e"
             ],
             [
              0.4444444444444444,
              "#bd3786"
             ],
             [
              0.5555555555555556,
              "#d8576b"
             ],
             [
              0.6666666666666666,
              "#ed7953"
             ],
             [
              0.7777777777777778,
              "#fb9f3a"
             ],
             [
              0.8888888888888888,
              "#fdca26"
             ],
             [
              1,
              "#f0f921"
             ]
            ],
            "type": "histogram2dcontour"
           }
          ],
          "mesh3d": [
           {
            "colorbar": {
             "outlinewidth": 0,
             "ticks": ""
            },
            "type": "mesh3d"
           }
          ],
          "parcoords": [
           {
            "line": {
             "colorbar": {
              "outlinewidth": 0,
              "ticks": ""
             }
            },
            "type": "parcoords"
           }
          ],
          "pie": [
           {
            "automargin": true,
            "type": "pie"
           }
          ],
          "scatter": [
           {
            "fillpattern": {
             "fillmode": "overlay",
             "size": 10,
             "solidity": 0.2
            },
            "type": "scatter"
           }
          ],
          "scatter3d": [
           {
            "line": {
             "colorbar": {
              "outlinewidth": 0,
              "ticks": ""
             }
            },
            "marker": {
             "colorbar": {
              "outlinewidth": 0,
              "ticks": ""
             }
            },
            "type": "scatter3d"
           }
          ],
          "scattercarpet": [
           {
            "marker": {
             "colorbar": {
              "outlinewidth": 0,
              "ticks": ""
             }
            },
            "type": "scattercarpet"
           }
          ],
          "scattergeo": [
           {
            "marker": {
             "colorbar": {
              "outlinewidth": 0,
              "ticks": ""
             }
            },
            "type": "scattergeo"
           }
          ],
          "scattergl": [
           {
            "marker": {
             "colorbar": {
              "outlinewidth": 0,
              "ticks": ""
             }
            },
            "type": "scattergl"
           }
          ],
          "scattermapbox": [
           {
            "marker": {
             "colorbar": {
              "outlinewidth": 0,
              "ticks": ""
             }
            },
            "type": "scattermapbox"
           }
          ],
          "scatterpolar": [
           {
            "marker": {
             "colorbar": {
              "outlinewidth": 0,
              "ticks": ""
             }
            },
            "type": "scatterpolar"
           }
          ],
          "scatterpolargl": [
           {
            "marker": {
             "colorbar": {
              "outlinewidth": 0,
              "ticks": ""
             }
            },
            "type": "scatterpolargl"
           }
          ],
          "scatterternary": [
           {
            "marker": {
             "colorbar": {
              "outlinewidth": 0,
              "ticks": ""
             }
            },
            "type": "scatterternary"
           }
          ],
          "surface": [
           {
            "colorbar": {
             "outlinewidth": 0,
             "ticks": ""
            },
            "colorscale": [
             [
              0,
              "#0d0887"
             ],
             [
              0.1111111111111111,
              "#46039f"
             ],
             [
              0.2222222222222222,
              "#7201a8"
             ],
             [
              0.3333333333333333,
              "#9c179e"
             ],
             [
              0.4444444444444444,
              "#bd3786"
             ],
             [
              0.5555555555555556,
              "#d8576b"
             ],
             [
              0.6666666666666666,
              "#ed7953"
             ],
             [
              0.7777777777777778,
              "#fb9f3a"
             ],
             [
              0.8888888888888888,
              "#fdca26"
             ],
             [
              1,
              "#f0f921"
             ]
            ],
            "type": "surface"
           }
          ],
          "table": [
           {
            "cells": {
             "fill": {
              "color": "#EBF0F8"
             },
             "line": {
              "color": "white"
             }
            },
            "header": {
             "fill": {
              "color": "#C8D4E3"
             },
             "line": {
              "color": "white"
             }
            },
            "type": "table"
           }
          ]
         },
         "layout": {
          "annotationdefaults": {
           "arrowcolor": "#2a3f5f",
           "arrowhead": 0,
           "arrowwidth": 1
          },
          "autotypenumbers": "strict",
          "coloraxis": {
           "colorbar": {
            "outlinewidth": 0,
            "ticks": ""
           }
          },
          "colorscale": {
           "diverging": [
            [
             0,
             "#8e0152"
            ],
            [
             0.1,
             "#c51b7d"
            ],
            [
             0.2,
             "#de77ae"
            ],
            [
             0.3,
             "#f1b6da"
            ],
            [
             0.4,
             "#fde0ef"
            ],
            [
             0.5,
             "#f7f7f7"
            ],
            [
             0.6,
             "#e6f5d0"
            ],
            [
             0.7,
             "#b8e186"
            ],
            [
             0.8,
             "#7fbc41"
            ],
            [
             0.9,
             "#4d9221"
            ],
            [
             1,
             "#276419"
            ]
           ],
           "sequential": [
            [
             0,
             "#0d0887"
            ],
            [
             0.1111111111111111,
             "#46039f"
            ],
            [
             0.2222222222222222,
             "#7201a8"
            ],
            [
             0.3333333333333333,
             "#9c179e"
            ],
            [
             0.4444444444444444,
             "#bd3786"
            ],
            [
             0.5555555555555556,
             "#d8576b"
            ],
            [
             0.6666666666666666,
             "#ed7953"
            ],
            [
             0.7777777777777778,
             "#fb9f3a"
            ],
            [
             0.8888888888888888,
             "#fdca26"
            ],
            [
             1,
             "#f0f921"
            ]
           ],
           "sequentialminus": [
            [
             0,
             "#0d0887"
            ],
            [
             0.1111111111111111,
             "#46039f"
            ],
            [
             0.2222222222222222,
             "#7201a8"
            ],
            [
             0.3333333333333333,
             "#9c179e"
            ],
            [
             0.4444444444444444,
             "#bd3786"
            ],
            [
             0.5555555555555556,
             "#d8576b"
            ],
            [
             0.6666666666666666,
             "#ed7953"
            ],
            [
             0.7777777777777778,
             "#fb9f3a"
            ],
            [
             0.8888888888888888,
             "#fdca26"
            ],
            [
             1,
             "#f0f921"
            ]
           ]
          },
          "colorway": [
           "#636efa",
           "#EF553B",
           "#00cc96",
           "#ab63fa",
           "#FFA15A",
           "#19d3f3",
           "#FF6692",
           "#B6E880",
           "#FF97FF",
           "#FECB52"
          ],
          "font": {
           "color": "#2a3f5f"
          },
          "geo": {
           "bgcolor": "white",
           "lakecolor": "white",
           "landcolor": "#E5ECF6",
           "showlakes": true,
           "showland": true,
           "subunitcolor": "white"
          },
          "hoverlabel": {
           "align": "left"
          },
          "hovermode": "closest",
          "mapbox": {
           "style": "light"
          },
          "paper_bgcolor": "white",
          "plot_bgcolor": "#E5ECF6",
          "polar": {
           "angularaxis": {
            "gridcolor": "white",
            "linecolor": "white",
            "ticks": ""
           },
           "bgcolor": "#E5ECF6",
           "radialaxis": {
            "gridcolor": "white",
            "linecolor": "white",
            "ticks": ""
           }
          },
          "scene": {
           "xaxis": {
            "backgroundcolor": "#E5ECF6",
            "gridcolor": "white",
            "gridwidth": 2,
            "linecolor": "white",
            "showbackground": true,
            "ticks": "",
            "zerolinecolor": "white"
           },
           "yaxis": {
            "backgroundcolor": "#E5ECF6",
            "gridcolor": "white",
            "gridwidth": 2,
            "linecolor": "white",
            "showbackground": true,
            "ticks": "",
            "zerolinecolor": "white"
           },
           "zaxis": {
            "backgroundcolor": "#E5ECF6",
            "gridcolor": "white",
            "gridwidth": 2,
            "linecolor": "white",
            "showbackground": true,
            "ticks": "",
            "zerolinecolor": "white"
           }
          },
          "shapedefaults": {
           "line": {
            "color": "#2a3f5f"
           }
          },
          "ternary": {
           "aaxis": {
            "gridcolor": "white",
            "linecolor": "white",
            "ticks": ""
           },
           "baxis": {
            "gridcolor": "white",
            "linecolor": "white",
            "ticks": ""
           },
           "bgcolor": "#E5ECF6",
           "caxis": {
            "gridcolor": "white",
            "linecolor": "white",
            "ticks": ""
           }
          },
          "title": {
           "x": 0.05
          },
          "xaxis": {
           "automargin": true,
           "gridcolor": "white",
           "linecolor": "white",
           "ticks": "",
           "title": {
            "standoff": 15
           },
           "zerolinecolor": "white",
           "zerolinewidth": 2
          },
          "yaxis": {
           "automargin": true,
           "gridcolor": "white",
           "linecolor": "white",
           "ticks": "",
           "title": {
            "standoff": 15
           },
           "zerolinecolor": "white",
           "zerolinewidth": 2
          }
         }
        }
       }
      }
     },
     "metadata": {},
     "output_type": "display_data"
    }
   ],
   "source": [
    "fig = go.Figure(go.Funnel(\n",
    "    y = [\"First page\", \"Click enter\", \"Registration\", \"Phone num input\",\"SMS input\",\"Code accepted\",\"Unsubscribe\"],\n",
    "    x = num))\n",
    "fig.show()"
   ]
  }
 ],
 "metadata": {
  "kernelspec": {
   "display_name": "Python 3 (ipykernel)",
   "language": "python",
   "name": "python3"
  },
  "language_info": {
   "codemirror_mode": {
    "name": "ipython",
    "version": 3
   },
   "file_extension": ".py",
   "mimetype": "text/x-python",
   "name": "python",
   "nbconvert_exporter": "python",
   "pygments_lexer": "ipython3",
   "version": "3.10.6"
  },
  "vscode": {
   "interpreter": {
    "hash": "0ad3aa4c500f953d2d972a195b8aa394cb62e9d78f3a6be906eb896857f3c26b"
   }
  }
 },
 "nbformat": 4,
 "nbformat_minor": 2
}
